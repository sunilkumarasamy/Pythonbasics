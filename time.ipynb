{
 "cells": [
  {
   "cell_type": "code",
   "execution_count": 20,
   "metadata": {},
   "outputs": [],
   "source": [
    "import pandas as pd\n",
    "import numpy as np\n",
    "import datetime\n",
    "from datetime import timedelta"
   ]
  },
  {
   "cell_type": "code",
   "execution_count": null,
   "metadata": {},
   "outputs": [],
   "source": []
  },
  {
   "cell_type": "code",
   "execution_count": 21,
   "metadata": {},
   "outputs": [],
   "source": [
    "data_dict = {'CKT01.BLK06.PCS01.INV01.ACTIVE_POWER': [datetime.date(2021, 6, 9),\n",
    "  datetime.date(2021, 7, 11),\n",
    "  datetime.date(2021, 9, 21),\n",
    "  datetime.date(2021, 10, 8),\n",
    "  datetime.date(2021, 11, 7),\n",
    "  datetime.date(2021, 11, 8),\n",
    "  datetime.date(2021, 11, 9),\n",
    "  datetime.date(2021, 11, 10),\n",
    "  datetime.date(2021, 11, 11),\n",
    "  datetime.date(2021, 11, 12),\n",
    "  datetime.date(2021, 11, 13),\n",
    "  datetime.date(2021, 11, 14),\n",
    "  datetime.date(2021, 11, 15),\n",
    "  datetime.date(2021, 11, 16),\n",
    "  datetime.date(2021, 11, 17),\n",
    "  datetime.date(2021, 11, 18),\n",
    "  datetime.date(2021, 11, 19),\n",
    "  datetime.date(2021, 11, 20)], 'CKT01.BLK06.PCS01.INV02.ACTIVE_POWER': [datetime.date(2021, 7, 11),\n",
    "  datetime.date(2021, 9, 21),\n",
    "  datetime.date(2021, 10, 8),\n",
    "  datetime.date(2021, 11, 7),\n",
    "  datetime.date(2021, 11, 8),\n",
    "  datetime.date(2021, 11, 9),\n",
    "  datetime.date(2021, 11, 10),\n",
    "  datetime.date(2021, 11, 11),\n",
    "  datetime.date(2021, 11, 12),\n",
    "  datetime.date(2021, 11, 13),\n",
    "  datetime.date(2021, 11, 14),\n",
    "  datetime.date(2021, 11, 15),\n",
    "  datetime.date(2021, 11, 16)]}"
   ]
  },
  {
   "cell_type": "code",
   "execution_count": 27,
   "metadata": {},
   "outputs": [
    {
     "data": {
      "text/plain": [
       "datetime.date(2021, 7, 11)"
      ]
     },
     "execution_count": 27,
     "metadata": {},
     "output_type": "execute_result"
    }
   ],
   "source": [
    "data_dict['CKT01.BLK06.PCS01.INV01.ACTIVE_POWER'][1]"
   ]
  },
  {
   "cell_type": "code",
   "execution_count": null,
   "metadata": {},
   "outputs": [],
   "source": [
    "# Function to subtract two days from each date in the list\n",
    "def subtract_two_days(date_list):\n",
    "    return [date - timedelta(days=2) for date in date_list]\n",
    "\n",
    "# Iterate through each key-value pair and update the dates\n",
    "for key in data_dict:\n",
    "    data_dict[key] = subtract_two_days(data_dict[key])\n",
    "\n",
    "# Print the updated dictionary\n",
    "print(data_dict)"
   ]
  },
  {
   "cell_type": "code",
   "execution_count": null,
   "metadata": {},
   "outputs": [],
   "source": [
    "\n",
    "# Function to keep only the first day for continuous dates\n",
    "def keep_first_day_for_continuous_dates(date_list):\n",
    "    new_dates = [date_list[0]]\n",
    "    for i in range(1, len(date_list)):\n",
    "        if date_list[i] - date_list[i - 1] > timedelta(days=1):\n",
    "            new_dates.append(date_list[i])\n",
    "    return new_dates\n",
    "\n",
    "# Iterate through each key-value pair and update the dates\n",
    "for key in data_dict:\n",
    "    #data_dict[key] = subtract_two_days(data_dict[key])\n",
    "    data_dict[key] = keep_first_day_for_continuous_dates(data_dict[key])\n",
    "\n",
    "# Print the updated dictionary\n",
    "print(data_dict)"
   ]
  },
  {
   "cell_type": "code",
   "execution_count": null,
   "metadata": {},
   "outputs": [],
   "source": [
    "data_dict"
   ]
  },
  {
   "cell_type": "code",
   "execution_count": null,
   "metadata": {},
   "outputs": [],
   "source": [
    "for key in data_dict.keys():\n",
    "    values = data_dict[key]\n",
    "    extended_values = []\n",
    "    for date in values:\n",
    "        for i in range(3):\n",
    "            extended_values.append(date + datetime.timedelta(days=i))\n",
    "    data_dict[key] = extended_values\n",
    "\n",
    "print(data_dict)"
   ]
  },
  {
   "cell_type": "code",
   "execution_count": null,
   "metadata": {},
   "outputs": [],
   "source": []
  },
  {
   "cell_type": "code",
   "execution_count": null,
   "metadata": {},
   "outputs": [],
   "source": []
  },
  {
   "cell_type": "code",
   "execution_count": null,
   "metadata": {},
   "outputs": [],
   "source": []
  },
  {
   "cell_type": "code",
   "execution_count": null,
   "metadata": {},
   "outputs": [],
   "source": []
  }
 ],
 "metadata": {
  "kernelspec": {
   "display_name": "Python 3",
   "language": "python",
   "name": "python3"
  },
  "language_info": {
   "codemirror_mode": {
    "name": "ipython",
    "version": 3
   },
   "file_extension": ".py",
   "mimetype": "text/x-python",
   "name": "python",
   "nbconvert_exporter": "python",
   "pygments_lexer": "ipython3",
   "version": "3.8.16"
  },
  "orig_nbformat": 4
 },
 "nbformat": 4,
 "nbformat_minor": 2
}
