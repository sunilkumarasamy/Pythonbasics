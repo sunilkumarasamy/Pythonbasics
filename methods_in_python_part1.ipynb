{
 "cells": [
  {
   "cell_type": "code",
   "execution_count": 1,
   "id": "1c04cace",
   "metadata": {},
   "outputs": [],
   "source": [
    "###built in methods"
   ]
  },
  {
   "cell_type": "code",
   "execution_count": null,
   "id": "b216311b",
   "metadata": {},
   "outputs": [],
   "source": [
    "\"\"\"\n",
    "Python is a versatile programming language that offers a wide range of methods and techniques to accomplish \n",
    "various tasks. Here are some commonly used methods in Python:\n",
    "\n",
    "Built-in Functions: Python provides a set of built-in functions that are available without \n",
    "importing any libraries. Examples include print(), len(), input(), range(), str(), int(), float(), sum(), and max().\n",
    "\n",
    "String Methods: Python provides numerous string methods for manipulating and working with \n",
    "text data. Examples include lower(), upper(), strip(), split(), join(), replace(), startswith(), endswith(), \n",
    "find(), count(), isalpha(), isdigit(), and many more.\n",
    "\n",
    "List Methods: Lists are versatile data structures in Python, and they offer several methods for \n",
    "manipulating and accessing elements. Examples include append(), extend(), insert(), remove(), pop(),\n",
    "index(), count(), sort(), reverse(), and copy().\n",
    "\n",
    "Dictionary Methods: Dictionaries are key-value pairs in Python, and they provide various \n",
    "methods for working with their content. Examples include keys(), values(), items(), get(), pop(), \n",
    "update(), clear(), and copy().\n",
    "\n",
    "File Handling Methods: Python allows reading from and writing to files, and it offers methods\n",
    "for file operations. Examples include open(), read(), write(), close(), seek(), tell(), readline(), writelines(), \n",
    "and flush().\n",
    "\n",
    "Mathematical Methods: Python provides a math module with numerous mathematical functions. Examples\n",
    "include sqrt(), ceil(), floor(), exp(), log(), sin(), cos(), tan(), factorial(), random(), and round().\n",
    "\n",
    "Datetime Methods: The datetime module allows working with dates, times, and time intervals. \n",
    "Examples include datetime.now(), datetime.strptime(), datetime.strftime(), timedelta(), date(), time(),\n",
    "year(), month(), day(), hour(), minute(), and second().\n",
    "\n",
    "Regular Expressions: Python's re module enables working with regular expressions for pattern matching \n",
    "and text manipulation. Methods include search(), match(), findall(), split(), sub(), finditer(), and compile().\n",
    "\n",
    "Object-Oriented Programming Methods: Python supports object-oriented programming, and it provides\n",
    "methods to define and work with classes, objects, and inheritance. Examples \n",
    "include __init__(), __str__(), __repr__(), __getattr__(), __setattr__(), __delattr__(), super(), and more.\n",
    "\n",
    "External Libraries: Python has a vast ecosystem of external libraries that offer \n",
    "additional methods and functionality. Some popular libraries include NumPy, pandas, Matplotlib, \n",
    "scikit-learn, TensorFlow, Django, Flask, and many more.\n",
    "\n",
    "These are just a few examples of the many methods available in Python. The Python Standard Library\n",
    "and the extensive third-party libraries make it possible to accomplish a wide range of tasks efficiently \n",
    "and effectively.\n",
    "\"\"\""
   ]
  },
  {
   "cell_type": "code",
   "execution_count": 2,
   "id": "bb1db8ca",
   "metadata": {},
   "outputs": [
    {
     "name": "stdout",
     "output_type": "stream",
     "text": [
      "Hello, World!\n"
     ]
    }
   ],
   "source": [
    "#print\n",
    "print(\"Hello, World!\")\n"
   ]
  },
  {
   "cell_type": "code",
   "execution_count": 3,
   "id": "5b76d5f6",
   "metadata": {},
   "outputs": [
    {
     "name": "stdout",
     "output_type": "stream",
     "text": [
      "5\n"
     ]
    }
   ],
   "source": [
    "##len\n",
    "my_list = [1, 2, 3, 4, 5]\n",
    "print(len(my_list))\n"
   ]
  },
  {
   "cell_type": "code",
   "execution_count": 4,
   "id": "cc2efb14",
   "metadata": {},
   "outputs": [
    {
     "name": "stdout",
     "output_type": "stream",
     "text": [
      "Enter your name: sunil\n",
      "Hello, sunil\n"
     ]
    }
   ],
   "source": [
    "#input\n",
    "name = input(\"Enter your name: \")\n",
    "print(\"Hello,\", name)"
   ]
  },
  {
   "cell_type": "code",
   "execution_count": 5,
   "id": "fdae79f4",
   "metadata": {},
   "outputs": [
    {
     "name": "stdout",
     "output_type": "stream",
     "text": [
      "1\n",
      "2\n",
      "3\n",
      "4\n"
     ]
    }
   ],
   "source": [
    "#range\n",
    "my_range = range(1, 5)\n",
    "for num in my_range:\n",
    "    print(num)"
   ]
  },
  {
   "cell_type": "code",
   "execution_count": 6,
   "id": "ac809d19",
   "metadata": {},
   "outputs": [
    {
     "name": "stdout",
     "output_type": "stream",
     "text": [
      "I am 25 years old.\n"
     ]
    }
   ],
   "source": [
    "#str\n",
    "age = 25\n",
    "print(\"I am \" + str(age) + \" years old.\")"
   ]
  },
  {
   "cell_type": "code",
   "execution_count": 7,
   "id": "b807e919",
   "metadata": {},
   "outputs": [
    {
     "name": "stdout",
     "output_type": "stream",
     "text": [
      "15\n"
     ]
    }
   ],
   "source": [
    "#int\n",
    "num_str = \"10\"\n",
    "num_int = int(num_str)\n",
    "print(num_int + 5)"
   ]
  },
  {
   "cell_type": "code",
   "execution_count": 8,
   "id": "f787bb00",
   "metadata": {},
   "outputs": [
    {
     "name": "stdout",
     "output_type": "stream",
     "text": [
      "6.28\n"
     ]
    }
   ],
   "source": [
    "#float\n",
    "num_str = \"3.14\"\n",
    "num_float = float(num_str)\n",
    "print(num_float * 2)"
   ]
  },
  {
   "cell_type": "code",
   "execution_count": 9,
   "id": "c9f25dcc",
   "metadata": {},
   "outputs": [
    {
     "name": "stdout",
     "output_type": "stream",
     "text": [
      "15\n"
     ]
    }
   ],
   "source": [
    "##sum\n",
    "my_list = [1, 2, 3, 4, 5]\n",
    "print(sum(my_list))\n"
   ]
  },
  {
   "cell_type": "code",
   "execution_count": 10,
   "id": "6ec4446b",
   "metadata": {},
   "outputs": [
    {
     "name": "stdout",
     "output_type": "stream",
     "text": [
      "5\n"
     ]
    }
   ],
   "source": [
    "##max\n",
    "my_list = [1, 5, 2, 4, 3]\n",
    "print(max(my_list))\n"
   ]
  },
  {
   "cell_type": "code",
   "execution_count": 11,
   "id": "e93e797c",
   "metadata": {},
   "outputs": [
    {
     "name": "stdout",
     "output_type": "stream",
     "text": [
      "1\n"
     ]
    }
   ],
   "source": [
    "##min\n",
    "my_list = [1, 5, 2, 4, 3]\n",
    "print(min(my_list))\n"
   ]
  },
  {
   "cell_type": "markdown",
   "id": "9fcc5044",
   "metadata": {},
   "source": [
    "# string methods"
   ]
  },
  {
   "cell_type": "code",
   "execution_count": 13,
   "id": "c76ee1c4",
   "metadata": {},
   "outputs": [
    {
     "name": "stdout",
     "output_type": "stream",
     "text": [
      "hello, world!\n",
      "HELLO, WORLD!\n"
     ]
    }
   ],
   "source": [
    "#lower\n",
    "message = \"Hello, World!\"\n",
    "print(message.lower())\n",
    "#upper\n",
    "message = \"Hello, World!\"\n",
    "print(message.upper())\n",
    "# Output: HELLO, WORLD!\n"
   ]
  },
  {
   "cell_type": "code",
   "execution_count": 14,
   "id": "569b4a26",
   "metadata": {},
   "outputs": [
    {
     "name": "stdout",
     "output_type": "stream",
     "text": [
      "Hello, World!\n"
     ]
    }
   ],
   "source": [
    "#strip -- removes leading and tailing spaces from the string\n",
    "message = \"   Hello, World!   \"\n",
    "print(message.strip())\n",
    "# Output: Hello, World!\n"
   ]
  },
  {
   "cell_type": "code",
   "execution_count": 15,
   "id": "7b823091",
   "metadata": {},
   "outputs": [
    {
     "name": "stdout",
     "output_type": "stream",
     "text": [
      "Hello, World!\n"
     ]
    }
   ],
   "source": [
    "#join - joins two string from a list into single string using specified delimiter\n",
    "words = ['Hello', 'World!']\n",
    "message = \", \".join(words)\n",
    "print(message)\n"
   ]
  },
  {
   "cell_type": "code",
   "execution_count": 16,
   "id": "317044dc",
   "metadata": {},
   "outputs": [
    {
     "name": "stdout",
     "output_type": "stream",
     "text": [
      "Hi, World!\n"
     ]
    }
   ],
   "source": [
    "message = \"Hello, World!\"\n",
    "new_message = message.replace(\"Hello\", \"Hi\")\n",
    "print(new_message)\n",
    "# Output: Hi, World!\n"
   ]
  },
  {
   "cell_type": "code",
   "execution_count": 17,
   "id": "dd1959cd",
   "metadata": {},
   "outputs": [
    {
     "name": "stdout",
     "output_type": "stream",
     "text": [
      "True\n"
     ]
    }
   ],
   "source": [
    "message = \"Hello, World!\"\n",
    "print(message.startswith(\"Hello\"))\n",
    "# Output: True\n"
   ]
  },
  {
   "cell_type": "code",
   "execution_count": 22,
   "id": "7095f166",
   "metadata": {},
   "outputs": [
    {
     "name": "stdout",
     "output_type": "stream",
     "text": [
      "6\n"
     ]
    }
   ],
   "source": [
    "message = \"Hello,World!\"\n",
    "index = message.find(\"World\")\n",
    "print(index)\n",
    "# Output: 7\n"
   ]
  },
  {
   "cell_type": "code",
   "execution_count": 23,
   "id": "4faa091d",
   "metadata": {},
   "outputs": [
    {
     "name": "stdout",
     "output_type": "stream",
     "text": [
      "True\n",
      "False\n"
     ]
    }
   ],
   "source": [
    "##isalpha -- checks if all the strings are alphabetic\n",
    "message = \"HelloWorld\"\n",
    "print(message.isalpha())\n",
    "# Output: True\n",
    "\n",
    "message = \"Hello, World!\"\n",
    "print(message.isalpha())\n",
    "# Output: False\n"
   ]
  },
  {
   "cell_type": "code",
   "execution_count": 24,
   "id": "44d2f23b",
   "metadata": {},
   "outputs": [
    {
     "name": "stdout",
     "output_type": "stream",
     "text": [
      "True\n",
      "False\n"
     ]
    }
   ],
   "source": [
    "number = \"12345\"\n",
    "print(number.isdigit())\n",
    "# Output: True\n",
    "\n",
    "number = \"12345a\"\n",
    "print(number.isdigit())\n",
    "# Output: False\n"
   ]
  },
  {
   "cell_type": "code",
   "execution_count": 25,
   "id": "c81b4795",
   "metadata": {},
   "outputs": [
    {
     "name": "stdout",
     "output_type": "stream",
     "text": [
      "Word Count: 8\n",
      "Modified Text: Java is a powerful and versatile programming language.\n",
      "Lowercase Text: python is a powerful and versatile programming language.\n",
      "Starts with 'Python'? True\n",
      "Index of 'versatile': 25\n",
      "Contains 'programming'? True\n",
      "Sentences: ['Python is a powerful and versatile programming language', '']\n",
      "First Three Words: Python-is-a\n"
     ]
    }
   ],
   "source": [
    "text = \"Python is a powerful and versatile programming language.\"\n",
    "\n",
    "# Count the number of words in the text\n",
    "words = text.split()\n",
    "word_count = len(words)\n",
    "print(\"Word Count:\", word_count)\n",
    "\n",
    "# Replace 'Python' with 'Java'\n",
    "modified_text = text.replace(\"Python\", \"Java\")\n",
    "print(\"Modified Text:\", modified_text)\n",
    "\n",
    "# Convert the text to lowercase\n",
    "lowercase_text = text.lower()\n",
    "print(\"Lowercase Text:\", lowercase_text)\n",
    "\n",
    "# Check if the text starts with 'Python'\n",
    "starts_with_python = text.startswith(\"Python\")\n",
    "print(\"Starts with 'Python'?\", starts_with_python)\n",
    "\n",
    "# Find the index of the word 'versatile'\n",
    "word_index = text.find(\"versatile\")\n",
    "print(\"Index of 'versatile':\", word_index)\n",
    "\n",
    "# Check if the text contains the word 'programming'\n",
    "contains_programming = \"programming\" in text\n",
    "print(\"Contains 'programming'?\", contains_programming)\n",
    "\n",
    "# Split the text into sentences\n",
    "sentences = text.split(\".\")\n",
    "print(\"Sentences:\", sentences)\n",
    "\n",
    "# Join the first three words with a hyphen\n",
    "first_three_words = \"-\".join(words[:3])\n",
    "print(\"First Three Words:\", first_three_words)\n",
    "\n"
   ]
  },
  {
   "cell_type": "markdown",
   "id": "108cf510",
   "metadata": {},
   "source": [
    "# mathmatical methods"
   ]
  },
  {
   "cell_type": "code",
   "execution_count": 26,
   "id": "c4605aca",
   "metadata": {},
   "outputs": [
    {
     "name": "stdout",
     "output_type": "stream",
     "text": [
      "sin(45 degrees): 0.7071067811865475\n",
      "cos(45 degrees): 0.7071067811865476\n",
      "tan(45 degrees): 0.9999999999999999\n",
      "e^2: 7.38905609893065\n",
      "logarithm of 2 base 10: 0.3010299956639812\n",
      "logarithm of 2 base e: 0.6931471805599453\n",
      "2 raised to the power of 3: 8.0\n",
      "Square root of 16: 4.0\n",
      "Ceiling of 3.7: 4\n",
      "Floor of 3.7: 3\n",
      "Rounded value of 3.7: 4\n",
      "Value of pi: 3.141592653589793\n",
      "Value of Euler's number: 2.718281828459045\n"
     ]
    }
   ],
   "source": [
    "import math\n",
    "\n",
    "# Trigonometric functions\n",
    "angle = math.pi / 4\n",
    "print(\"sin(45 degrees):\", math.sin(angle))\n",
    "print(\"cos(45 degrees):\", math.cos(angle))\n",
    "print(\"tan(45 degrees):\", math.tan(angle))\n",
    "\n",
    "# Exponential and logarithmic functions\n",
    "x = 2\n",
    "print(\"e^2:\", math.exp(x))\n",
    "print(\"logarithm of 2 base 10:\", math.log10(x))\n",
    "print(\"logarithm of 2 base e:\", math.log(x))\n",
    "\n",
    "# Power and square root functions\n",
    "print(\"2 raised to the power of 3:\", math.pow(2, 3))\n",
    "print(\"Square root of 16:\", math.sqrt(16))\n",
    "\n",
    "# Rounding functions\n",
    "number = 3.7\n",
    "print(\"Ceiling of 3.7:\", math.ceil(number))\n",
    "print(\"Floor of 3.7:\", math.floor(number))\n",
    "print(\"Rounded value of 3.7:\", round(number))\n",
    "\n",
    "# Constants\n",
    "print(\"Value of pi:\", math.pi)\n",
    "print(\"Value of Euler's number:\", math.e)\n"
   ]
  },
  {
   "cell_type": "code",
   "execution_count": null,
   "id": "51a84252",
   "metadata": {},
   "outputs": [],
   "source": []
  },
  {
   "cell_type": "code",
   "execution_count": null,
   "id": "27e570d4",
   "metadata": {},
   "outputs": [],
   "source": []
  },
  {
   "cell_type": "code",
   "execution_count": null,
   "id": "7d65e1cb",
   "metadata": {},
   "outputs": [],
   "source": []
  },
  {
   "cell_type": "code",
   "execution_count": null,
   "id": "d78e49dc",
   "metadata": {},
   "outputs": [],
   "source": []
  },
  {
   "cell_type": "code",
   "execution_count": null,
   "id": "eb346b70",
   "metadata": {},
   "outputs": [],
   "source": []
  }
 ],
 "metadata": {
  "kernelspec": {
   "display_name": "Python 3 (ipykernel)",
   "language": "python",
   "name": "python3"
  },
  "language_info": {
   "codemirror_mode": {
    "name": "ipython",
    "version": 3
   },
   "file_extension": ".py",
   "mimetype": "text/x-python",
   "name": "python",
   "nbconvert_exporter": "python",
   "pygments_lexer": "ipython3",
   "version": "3.8.8"
  }
 },
 "nbformat": 4,
 "nbformat_minor": 5
}
