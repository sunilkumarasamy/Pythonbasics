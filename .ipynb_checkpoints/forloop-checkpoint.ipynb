{
 "cells": [
  {
   "cell_type": "code",
   "execution_count": 1,
   "id": "796d240e",
   "metadata": {},
   "outputs": [
    {
     "name": "stdout",
     "output_type": "stream",
     "text": [
      "1\n",
      "2\n"
     ]
    }
   ],
   "source": [
    "for i in range(1,5):\n",
    "    if i ==3:\n",
    "        break\n",
    "    print(i)"
   ]
  },
  {
   "cell_type": "code",
   "execution_count": 2,
   "id": "6d8fd784",
   "metadata": {},
   "outputs": [
    {
     "name": "stdout",
     "output_type": "stream",
     "text": [
      "1\n",
      "3\n",
      "5\n"
     ]
    }
   ],
   "source": [
    "numbers = [1, 2, 3, 4, 5]\n",
    "for i in numbers:\n",
    "    if i % 2 ==0:\n",
    "        continue\n",
    "    print(i)"
   ]
  },
  {
   "cell_type": "code",
   "execution_count": 12,
   "id": "e69263e9",
   "metadata": {},
   "outputs": [
    {
     "name": "stdout",
     "output_type": "stream",
     "text": [
      "1 A\n",
      "1 B\n",
      "1 C\n",
      "2 A\n",
      "2 B\n",
      "2 C\n",
      "3 A\n",
      "4 A\n",
      "4 B\n",
      "4 C\n",
      "5 A\n",
      "5 B\n",
      "5 C\n"
     ]
    }
   ],
   "source": [
    "\n",
    "numbers = [1, 2, 3, 4, 5]\n",
    "letters = ['A', 'B', 'C']\n",
    "\n",
    "for n in numbers:\n",
    "    for l in letters:\n",
    "        if n==3 and l=='B':\n",
    "            break\n",
    "        print(n,l)\n"
   ]
  },
  {
   "cell_type": "code",
   "execution_count": null,
   "id": "97212d19",
   "metadata": {},
   "outputs": [],
   "source": []
  },
  {
   "cell_type": "code",
   "execution_count": 13,
   "id": "bf24f5b4",
   "metadata": {},
   "outputs": [
    {
     "name": "stdout",
     "output_type": "stream",
     "text": [
      "1 A\n",
      "1 B\n",
      "1 C\n",
      "2 A\n",
      "2 B\n",
      "2 C\n",
      "3 A\n",
      "4 A\n",
      "4 B\n",
      "4 C\n",
      "5 A\n",
      "5 B\n",
      "5 C\n"
     ]
    }
   ],
   "source": [
    "numbers = [1, 2, 3, 4, 5]\n",
    "letters = ['A', 'B', 'C']\n",
    "\n",
    "for num in numbers:\n",
    "    for letter in letters:\n",
    "        if num == 3 and letter == 'B':\n",
    "            break\n",
    "        print(num, letter)"
   ]
  },
  {
   "cell_type": "code",
   "execution_count": 14,
   "id": "6cd55e5e",
   "metadata": {},
   "outputs": [
    {
     "name": "stdout",
     "output_type": "stream",
     "text": [
      "[2, 3, 5, 7, 11, 13, 17, 19]\n"
     ]
    }
   ],
   "source": [
    "start = 1\n",
    "end = 20\n",
    "\n",
    "prime_numbers = []\n",
    "\n",
    "for num in range(start, end + 1):\n",
    "    if num > 1:\n",
    "        for i in range(2, num):\n",
    "            if (num % i) == 0:\n",
    "                break\n",
    "        else:\n",
    "            prime_numbers.append(num)\n",
    "\n",
    "print(prime_numbers)  # Output: [2, 3, 5, 7, 11, 13, 17, 19]\n"
   ]
  },
  {
   "cell_type": "code",
   "execution_count": 16,
   "id": "9189f82d",
   "metadata": {},
   "outputs": [
    {
     "name": "stdout",
     "output_type": "stream",
     "text": [
      "* \n",
      "* * \n",
      "* * * \n",
      "* * * * \n",
      "* * * * * \n"
     ]
    }
   ],
   "source": [
    "rows = 5\n",
    "\n",
    "for i in range(rows):\n",
    "    for j in range(i + 1):\n",
    "        print('*', end=' ')\n",
    "    print()"
   ]
  },
  {
   "cell_type": "code",
   "execution_count": 17,
   "id": "50145856",
   "metadata": {},
   "outputs": [
    {
     "name": "stdout",
     "output_type": "stream",
     "text": [
      "[(1, 'a'), (2, 'b'), (3, 'c')]\n"
     ]
    }
   ],
   "source": [
    "list1 = [1, 2, 3]\n",
    "list2 = ['a', 'b', 'c']\n",
    "combined_list = []\n",
    "\n",
    "for i in range(len(list1)):\n",
    "    combined_list.append((list1[i], list2[i]))\n",
    "\n",
    "print(combined_list)  # Output: [(1, 'a'), (2, 'b'), (3, 'c')]\n"
   ]
  },
  {
   "cell_type": "code",
   "execution_count": 18,
   "id": "815b3b5a",
   "metadata": {},
   "outputs": [
    {
     "name": "stdout",
     "output_type": "stream",
     "text": [
      "   Name Age Country\n",
      "0  John  25     USA\n"
     ]
    }
   ],
   "source": [
    "import pandas as pd\n",
    "\n",
    "data = {\n",
    "    'Name': ['John', 'Alice', 'Bob', 'Charlie'],\n",
    "    'Age': [25, 30, 20, 35],\n",
    "    'Country': ['USA', 'Canada', 'USA', 'Canada']\n",
    "}\n",
    "\n",
    "df = pd.DataFrame(data)\n",
    "\n",
    "filtered_df = pd.DataFrame(columns=df.columns)\n",
    "\n",
    "for index, row in df.iterrows():\n",
    "    if row['Country'] == 'USA' and row['Age'] >= 25:\n",
    "        filtered_df = filtered_df.append(row)\n",
    "\n",
    "print(filtered_df)\n"
   ]
  },
  {
   "cell_type": "code",
   "execution_count": 19,
   "id": "950b1bf5",
   "metadata": {},
   "outputs": [
    {
     "name": "stdout",
     "output_type": "stream",
     "text": [
      "      Name  Age Country Category\n",
      "0     John   25     USA    Adult\n",
      "1    Alice   30  Canada   Senior\n",
      "2      Bob   20     USA    Young\n",
      "3  Charlie   35  Canada   Senior\n"
     ]
    }
   ],
   "source": [
    "import pandas as pd\n",
    "\n",
    "data = {\n",
    "    'Name': ['John', 'Alice', 'Bob', 'Charlie'],\n",
    "    'Age': [25, 30, 20, 35],\n",
    "    'Country': ['USA', 'Canada', 'USA', 'Canada']\n",
    "}\n",
    "\n",
    "df = pd.DataFrame(data)\n",
    "\n",
    "for index, row in df.iterrows():\n",
    "    if row['Age'] < 25:\n",
    "        df.loc[index, 'Category'] = 'Young'\n",
    "    elif row['Age'] >= 25 and row['Age'] < 30:\n",
    "        df.loc[index, 'Category'] = 'Adult'\n",
    "    else:\n",
    "        df.loc[index, 'Category'] = 'Senior'\n",
    "\n",
    "print(df)\n"
   ]
  },
  {
   "cell_type": "code",
   "execution_count": 20,
   "id": "6a0f2c89",
   "metadata": {},
   "outputs": [
    {
     "name": "stdout",
     "output_type": "stream",
     "text": [
      "   Name Age Country\n",
      "0  John  25     USA\n"
     ]
    }
   ],
   "source": [
    "##filtering dataframe row based on condition\n",
    "import pandas as pd\n",
    "\n",
    "data = {\n",
    "    'Name': ['John', 'Alice', 'Bob', 'Charlie'],\n",
    "    'Age': [25, 30, 20, 35],\n",
    "    'Country': ['USA', 'Canada', 'USA', 'Canada']\n",
    "}\n",
    "\n",
    "df = pd.DataFrame(data)\n",
    "\n",
    "filtered_df = pd.DataFrame(columns=df.columns)\n",
    "\n",
    "for index, row in df.iterrows():\n",
    "    if row['Country'] == 'USA' and row['Age'] >= 25:\n",
    "        filtered_df = filtered_df.append(row)\n",
    "\n",
    "print(filtered_df)\n"
   ]
  },
  {
   "cell_type": "code",
   "execution_count": 21,
   "id": "3a2a2f65",
   "metadata": {},
   "outputs": [
    {
     "name": "stdout",
     "output_type": "stream",
     "text": [
      "{'Fruit': 57}\n"
     ]
    }
   ],
   "source": [
    "import pandas as pd\n",
    "\n",
    "data = {\n",
    "    'Product': ['Apple', 'Banana', 'Orange', 'Apple', 'Banana', 'Orange'],\n",
    "    'Category': ['Fruit', 'Fruit', 'Fruit', 'Fruit', 'Fruit', 'Fruit'],\n",
    "    'Sales': [10, 15, 8, 12, 7, 5]\n",
    "}\n",
    "\n",
    "df = pd.DataFrame(data)\n",
    "\n",
    "category_totals = {}\n",
    "\n",
    "for index, row in df.iterrows():\n",
    "    category = row['Category']\n",
    "    sales = row['Sales']\n",
    "    if category in category_totals:\n",
    "        category_totals[category] += sales\n",
    "    else:\n",
    "        category_totals[category] = sales\n",
    "\n",
    "print(category_totals)\n"
   ]
  },
  {
   "cell_type": "code",
   "execution_count": 22,
   "id": "0b1e6b5a",
   "metadata": {},
   "outputs": [
    {
     "name": "stdout",
     "output_type": "stream",
     "text": [
      "[('A', 2), ('B', 1), ('C', 2)]\n"
     ]
    }
   ],
   "source": [
    "import pandas as pd\n",
    "import numpy as np\n",
    "\n",
    "data = {\n",
    "    'A': [1, np.nan, 3, np.nan, 5],\n",
    "    'B': [6, 7, np.nan, 9, 10],\n",
    "    'C': [11, np.nan, 13, np.nan, 15]\n",
    "}\n",
    "\n",
    "df = pd.DataFrame(data)\n",
    "\n",
    "missing_values = []\n",
    "\n",
    "for column in df.columns:\n",
    "    null_count = df[column].isnull().sum()\n",
    "    if null_count > 0:\n",
    "        missing_values.append((column, null_count))\n",
    "\n",
    "print(missing_values)\n"
   ]
  },
  {
   "cell_type": "code",
   "execution_count": 23,
   "id": "f6fe81de",
   "metadata": {},
   "outputs": [
    {
     "name": "stdout",
     "output_type": "stream",
     "text": [
      "   Name Age Country\n",
      "0  John  25     USA\n"
     ]
    }
   ],
   "source": [
    "import pandas as pd\n",
    "\n",
    "data = {\n",
    "    'Name': ['John', 'Alice', 'Bob', 'Charlie'],\n",
    "    'Age': [25, 30, 20, 35],\n",
    "    'Country': ['USA', 'Canada', 'USA', 'Canada']\n",
    "}\n",
    "\n",
    "df = pd.DataFrame(data)\n",
    "\n",
    "filtered_df = pd.DataFrame(columns=df.columns)\n",
    "\n",
    "for index, row in df.iterrows():\n",
    "    if row['Country'] == 'USA' and row['Age'] >= 25:\n",
    "        filtered_df = filtered_df.append(row)\n",
    "\n",
    "print(filtered_df)\n"
   ]
  },
  {
   "cell_type": "code",
   "execution_count": 24,
   "id": "8b90aba2",
   "metadata": {},
   "outputs": [
    {
     "name": "stdout",
     "output_type": "stream",
     "text": [
      "     Full_Name  Age First_Name Last_Name Formatted_Name\n",
      "0     John Doe   25       John       Doe      Doe, John\n",
      "1  Alice Smith   30      Alice     Smith   Smith, Alice\n",
      "2  Bob Johnson   20        Bob   Johnson   Johnson, Bob\n"
     ]
    }
   ],
   "source": [
    "import pandas as pd\n",
    "\n",
    "data = {\n",
    "    'Full_Name': ['John Doe', 'Alice Smith', 'Bob Johnson'],\n",
    "    'Age': [25, 30, 20]\n",
    "}\n",
    "\n",
    "df = pd.DataFrame(data)\n",
    "\n",
    "df['First_Name'], df['Last_Name'] = zip(*df['Full_Name'].str.split(' '))\n",
    "\n",
    "df['Formatted_Name'] = df.apply(lambda row: f\"{row['Last_Name']}, {row['First_Name']}\", axis=1)\n",
    "\n",
    "print(df)\n"
   ]
  },
  {
   "cell_type": "code",
   "execution_count": 25,
   "id": "b89e795f",
   "metadata": {},
   "outputs": [
    {
     "name": "stdout",
     "output_type": "stream",
     "text": [
      "Name: John, Age: 25, Country: USA\n",
      "Name: Alice, Age: 30, Country: Canada\n",
      "Name: Bob, Age: 20, Country: USA\n",
      "Column: Name, Values: ['John', 'Alice', 'Bob']\n",
      "Column: Age, Values: [25, 30, 20]\n",
      "Column: Country, Values: ['USA', 'Canada', 'USA']\n"
     ]
    }
   ],
   "source": [
    "import pandas as pd\n",
    "\n",
    "data = {\n",
    "    'Name': ['John', 'Alice', 'Bob'],\n",
    "    'Age': [25, 30, 20],\n",
    "    'Country': ['USA', 'Canada', 'USA']\n",
    "}\n",
    "\n",
    "df = pd.DataFrame(data)\n",
    "\n",
    "# Iterating over rows\n",
    "for index, row in df.iterrows():\n",
    "    print(f\"Name: {row['Name']}, Age: {row['Age']}, Country: {row['Country']}\")\n",
    "\n",
    "# Iterating over columns\n",
    "for column in df.columns:\n",
    "    print(f\"Column: {column}, Values: {df[column].tolist()}\")\n"
   ]
  },
  {
   "cell_type": "code",
   "execution_count": null,
   "id": "0d7741c2",
   "metadata": {},
   "outputs": [],
   "source": [
    "##looop else Certainly! The else statement in a loop is executed when the loop has completed all its iterations without encountering a break statement. \n",
    "#Here's an example that showcases the use of else with a for loop:"
   ]
  },
  {
   "cell_type": "code",
   "execution_count": 26,
   "id": "a9325b04",
   "metadata": {},
   "outputs": [
    {
     "name": "stdout",
     "output_type": "stream",
     "text": [
      "Number not found!\n"
     ]
    }
   ],
   "source": [
    "numbers = [1, 2, 3, 4, 5]\n",
    "search_number = 6\n",
    "\n",
    "for num in numbers:\n",
    "    if num == search_number:\n",
    "        print(\"Number found!\")\n",
    "        break\n",
    "else:\n",
    "    print(\"Number not found!\")\n"
   ]
  },
  {
   "cell_type": "code",
   "execution_count": 27,
   "id": "3932f768",
   "metadata": {},
   "outputs": [
    {
     "name": "stdout",
     "output_type": "stream",
     "text": [
      "2 is a prime number\n",
      "3 is a prime number\n",
      "4 is not a prime number\n",
      "5 is a prime number\n",
      "6 is not a prime number\n",
      "7 is a prime number\n",
      "8 is not a prime number\n",
      "9 is not a prime number\n"
     ]
    }
   ],
   "source": [
    "for num in range(2, 10):\n",
    "    for i in range(2, num):\n",
    "        if num % i == 0:\n",
    "            print(f\"{num} is not a prime number\")\n",
    "            break\n",
    "    else:\n",
    "        print(f\"{num} is a prime number\")\n"
   ]
  },
  {
   "cell_type": "code",
   "execution_count": 28,
   "id": "3e6a86bc",
   "metadata": {},
   "outputs": [
    {
     "name": "stdout",
     "output_type": "stream",
     "text": [
      "grape is not found in the list.\n"
     ]
    }
   ],
   "source": [
    "fruits = [\"apple\", \"banana\", \"orange\", \"mango\"]\n",
    "\n",
    "search_fruit = \"grape\"\n",
    "for fruit in fruits:\n",
    "    if fruit == search_fruit:\n",
    "        print(f\"{search_fruit} is found!\")\n",
    "        break\n",
    "else:\n",
    "    print(f\"{search_fruit} is not found in the list.\")\n"
   ]
  },
  {
   "cell_type": "code",
   "execution_count": 32,
   "id": "c1b144f0",
   "metadata": {},
   "outputs": [
    {
     "name": "stdout",
     "output_type": "stream",
     "text": [
      "All individuals are of legal age.\n"
     ]
    }
   ],
   "source": [
    "import pandas as pd\n",
    "\n",
    "data = {\n",
    "    'Name': ['John', 'Alice', 'Bob'],\n",
    "    'Age': [25, 19, 20],\n",
    "    'Country': ['USA', 'Canada', 'USA']\n",
    "}\n",
    "\n",
    "df = pd.DataFrame(data)\n",
    "\n",
    "for index, row in df.iterrows():\n",
    "    if row['Age'] < 18:\n",
    "        print(f\"{row['Name']} is underage.\")\n",
    "        break\n",
    "else:\n",
    "    print(\"All individuals are of legal age.\")\n"
   ]
  },
  {
   "cell_type": "code",
   "execution_count": 33,
   "id": "79d2cedf",
   "metadata": {},
   "outputs": [
    {
     "name": "stdout",
     "output_type": "stream",
     "text": [
      "Alice is underage.\n"
     ]
    }
   ],
   "source": [
    "import pandas as pd\n",
    "\n",
    "data = {\n",
    "    'Name': ['John', 'Alice', 'Bob'],\n",
    "    'Age': [25, 12, 20],\n",
    "    'Country': ['USA', 'Canada', 'USA']\n",
    "}\n",
    "\n",
    "df = pd.DataFrame(data)\n",
    "\n",
    "for index, row in df.iterrows():\n",
    "    if row['Age'] < 18:\n",
    "        print(f\"{row['Name']} is underage.\")\n",
    "        break\n",
    "else:\n",
    "    print(\"All individuals are of legal age.\")"
   ]
  },
  {
   "cell_type": "code",
   "execution_count": 34,
   "id": "62f8fd2e",
   "metadata": {},
   "outputs": [
    {
     "name": "stdout",
     "output_type": "stream",
     "text": [
      "    Name  Maths  Science\n",
      "0   John   0.80     0.85\n",
      "1  Alice   0.90     0.92\n",
      "2    Bob   0.75     0.78\n"
     ]
    }
   ],
   "source": [
    "import pandas as pd\n",
    "\n",
    "data = {\n",
    "    'Name': ['John', 'Alice', 'Bob'],\n",
    "    'Maths': [80, 90, 75],\n",
    "    'Science': [85, 92, 78]\n",
    "}\n",
    "\n",
    "df = pd.DataFrame(data)\n",
    "\n",
    "for column in df.columns:\n",
    "    if column != 'Name':\n",
    "        df[column] = df[column] / 100  # Scaling the values to percentages\n",
    "\n",
    "print(df)\n"
   ]
  },
  {
   "cell_type": "code",
   "execution_count": 35,
   "id": "db9cf66f",
   "metadata": {},
   "outputs": [
    {
     "name": "stdout",
     "output_type": "stream",
     "text": [
      "   Name Age Country\n",
      "0  John  25     USA\n"
     ]
    }
   ],
   "source": [
    "import pandas as pd\n",
    "\n",
    "data = {\n",
    "    'Name': ['John', 'Alice', 'Bob', 'Charlie'],\n",
    "    'Age': [25, 30, 20, 35],\n",
    "    'Country': ['USA', 'Canada', 'USA', 'Canada']\n",
    "}\n",
    "\n",
    "df = pd.DataFrame(data)\n",
    "\n",
    "filtered_df = pd.DataFrame(columns=df.columns)\n",
    "\n",
    "for index, row in df.iterrows():\n",
    "    if row['Country'] == 'USA' and row['Age'] >= 25:\n",
    "        filtered_df = filtered_df.append(row)\n",
    "\n",
    "print(filtered_df)\n"
   ]
  },
  {
   "cell_type": "code",
   "execution_count": 36,
   "id": "73c863dc",
   "metadata": {},
   "outputs": [
    {
     "name": "stdout",
     "output_type": "stream",
     "text": [
      "apple\n",
      "orange\n"
     ]
    }
   ],
   "source": [
    "###pass\n",
    "fruits = [\"apple\", \"banana\", \"orange\"]\n",
    "\n",
    "for fruit in fruits:\n",
    "    if fruit == \"banana\":\n",
    "        pass\n",
    "    else:\n",
    "        print(fruit)\n"
   ]
  },
  {
   "cell_type": "code",
   "execution_count": 37,
   "id": "85c04e7d",
   "metadata": {},
   "outputs": [
    {
     "name": "stdout",
     "output_type": "stream",
     "text": [
      "1\n",
      "3\n",
      "5\n"
     ]
    }
   ],
   "source": [
    "numbers = [1, 2, 3, 4, 5]\n",
    "\n",
    "for num in numbers:\n",
    "    if num % 2 == 0:\n",
    "        pass  # Skip even numbers\n",
    "    else:\n",
    "        print(num)\n"
   ]
  },
  {
   "cell_type": "code",
   "execution_count": 40,
   "id": "e06a1cf2",
   "metadata": {},
   "outputs": [
    {
     "name": "stdout",
     "output_type": "stream",
     "text": [
      "Processing data for John\n",
      "Processing data for Alice\n",
      "Processing data for Bob\n"
     ]
    }
   ],
   "source": [
    "import pandas as pd\n",
    "\n",
    "data = {\n",
    "    'Name': ['John', 'Alice', 'Bob'],\n",
    "    'Age': [25, 30, 20],\n",
    "    'Country': ['USA', 'Canada', 'USA']\n",
    "}\n",
    "\n",
    "df = pd.DataFrame(data)\n",
    "\n",
    "for index, row in df.iterrows():\n",
    "    if row['Age'] < 18:\n",
    "        pass  # Skip processing for individuals below 18\n",
    "    else:\n",
    "        print(f\"Processing data for {row['Name']}\")\n",
    "\n",
    "# ... More code to be added later\n"
   ]
  },
  {
   "cell_type": "code",
   "execution_count": 41,
   "id": "d79e6f3f",
   "metadata": {},
   "outputs": [
    {
     "name": "stdout",
     "output_type": "stream",
     "text": [
      "Processing data for John\n",
      "Processing data for Alice\n"
     ]
    }
   ],
   "source": [
    "df = pd.DataFrame(data)\n",
    "\n",
    "for index, row in df.iterrows():\n",
    "    if row['Age'] < 21:\n",
    "        pass  # Skip processing for individuals below 18\n",
    "    else:\n",
    "        print(f\"Processing data for {row['Name']}\")\n",
    "\n",
    "# ... More code to be added later"
   ]
  },
  {
   "cell_type": "code",
   "execution_count": 42,
   "id": "8f2b492a",
   "metadata": {},
   "outputs": [
    {
     "name": "stdout",
     "output_type": "stream",
     "text": [
      "    Name Age Country\n",
      "1  Alice  35  Canada\n"
     ]
    }
   ],
   "source": [
    "import pandas as pd\n",
    "\n",
    "data = {\n",
    "    'Name': ['John', 'Alice', 'Bob'],\n",
    "    'Age': [25, 30, 20],\n",
    "    'Country': ['USA', 'Canada', 'USA']\n",
    "}\n",
    "\n",
    "df = pd.DataFrame(data)\n",
    "\n",
    "filtered_df = pd.DataFrame(columns=df.columns)\n",
    "\n",
    "for index, row in df.iterrows():\n",
    "    if row['Country'] == 'USA':\n",
    "        pass  # Skip processing for USA records\n",
    "    else:\n",
    "        # Perform some data transformation on non-USA records\n",
    "        transformed_row = row.copy()\n",
    "        transformed_row['Age'] += 5\n",
    "        filtered_df = filtered_df.append(transformed_row)\n",
    "\n",
    "print(filtered_df)\n"
   ]
  },
  {
   "cell_type": "code",
   "execution_count": 44,
   "id": "e0a594b2",
   "metadata": {},
   "outputs": [
    {
     "name": "stdout",
     "output_type": "stream",
     "text": [
      "Processing data for John\n",
      "Processing data for Alice\n",
      "Invalid age for Bob. Age must be positive.\n"
     ]
    }
   ],
   "source": [
    "import pandas as pd\n",
    "\n",
    "data = {\n",
    "    'Name': ['John', 'Alice', 'Bob'],\n",
    "    'Age': [25, 30, -5],  # Invalid age value\n",
    "    'Country': ['USA', 'Canada', 'USA']\n",
    "}\n",
    "\n",
    "df = pd.DataFrame(data)\n",
    "\n",
    "for index, row in df.iterrows():\n",
    "    try:\n",
    "        if row['Age'] < 0:\n",
    "            raise ValueError(f\"Invalid age for {row['Name']}. Age must be positive.\")\n",
    "        else:\n",
    "            # Perform some operations\n",
    "            print(f\"Processing data for {row['Name']}\")\n",
    "    except ValueError as e:\n",
    "        print(str(e))\n",
    "        pass  # Skip processing for invalid data\n",
    "\n",
    "# ... More code to handle or log the skipped records\n"
   ]
  },
  {
   "cell_type": "code",
   "execution_count": 45,
   "id": "1155d6ca",
   "metadata": {},
   "outputs": [
    {
     "name": "stdout",
     "output_type": "stream",
     "text": [
      "   Name Age Country\n",
      "0  John  25     USA\n",
      "2   Bob  20     USA\n"
     ]
    }
   ],
   "source": [
    "import pandas as pd\n",
    "\n",
    "data = {\n",
    "    'Name': ['John', 'Alice', 'Bob'],\n",
    "    'Age': [25, 30, 20],\n",
    "    'Country': ['USA', 'Canada', 'USA']\n",
    "}\n",
    "\n",
    "df = pd.DataFrame(data)\n",
    "\n",
    "filtered_df = pd.DataFrame(columns=df.columns)\n",
    "\n",
    "for index, row in df.iterrows():\n",
    "    if row['Country'] == 'USA':\n",
    "        # Perform some conditional data transformation\n",
    "        transformed_row = row.copy()\n",
    "        if row['Age'] >= 30:\n",
    "            transformed_row['Age'] -= 5\n",
    "        filtered_df = filtered_df.append(transformed_row)\n",
    "    else:\n",
    "        pass  # Skip processing for non-USA records\n",
    "\n",
    "print(filtered_df)\n"
   ]
  },
  {
   "cell_type": "code",
   "execution_count": null,
   "id": "ee7cd212",
   "metadata": {},
   "outputs": [],
   "source": []
  },
  {
   "cell_type": "code",
   "execution_count": null,
   "id": "6fe10c4b",
   "metadata": {},
   "outputs": [],
   "source": []
  },
  {
   "cell_type": "code",
   "execution_count": null,
   "id": "a466ad97",
   "metadata": {},
   "outputs": [],
   "source": []
  },
  {
   "cell_type": "code",
   "execution_count": null,
   "id": "7df0ad43",
   "metadata": {},
   "outputs": [],
   "source": []
  },
  {
   "cell_type": "code",
   "execution_count": null,
   "id": "83ea3b0d",
   "metadata": {},
   "outputs": [],
   "source": []
  },
  {
   "cell_type": "code",
   "execution_count": null,
   "id": "1bc5a223",
   "metadata": {},
   "outputs": [],
   "source": []
  },
  {
   "cell_type": "code",
   "execution_count": null,
   "id": "36ca7314",
   "metadata": {},
   "outputs": [],
   "source": []
  },
  {
   "cell_type": "code",
   "execution_count": null,
   "id": "eab52888",
   "metadata": {},
   "outputs": [],
   "source": []
  },
  {
   "cell_type": "code",
   "execution_count": null,
   "id": "56de1897",
   "metadata": {},
   "outputs": [],
   "source": []
  },
  {
   "cell_type": "code",
   "execution_count": null,
   "id": "0ad9908b",
   "metadata": {},
   "outputs": [],
   "source": []
  },
  {
   "cell_type": "code",
   "execution_count": null,
   "id": "e34b1052",
   "metadata": {},
   "outputs": [],
   "source": []
  }
 ],
 "metadata": {
  "kernelspec": {
   "display_name": "Python 3 (ipykernel)",
   "language": "python",
   "name": "python3"
  },
  "language_info": {
   "codemirror_mode": {
    "name": "ipython",
    "version": 3
   },
   "file_extension": ".py",
   "mimetype": "text/x-python",
   "name": "python",
   "nbconvert_exporter": "python",
   "pygments_lexer": "ipython3",
   "version": "3.8.8"
  }
 },
 "nbformat": 4,
 "nbformat_minor": 5
}
