{
 "cells": [
  {
   "cell_type": "markdown",
   "id": "86b84c9f",
   "metadata": {},
   "source": [
    "# Datetime method"
   ]
  },
  {
   "cell_type": "code",
   "execution_count": null,
   "id": "ef47369e",
   "metadata": {},
   "outputs": [],
   "source": [
    "\"\"\"\n",
    "Datetime Methods: The datetime module allows working with dates, times, and time intervals. \n",
    "Examples include datetime.now(), datetime.strptime(), datetime.strftime(), timedelta(), date(), \n",
    "time(), year(), month(), day(), hour(), minute(), and second().\"\"\""
   ]
  },
  {
   "cell_type": "code",
   "execution_count": 1,
   "id": "d057b75a",
   "metadata": {},
   "outputs": [
    {
     "name": "stdout",
     "output_type": "stream",
     "text": [
      "Current Date and Time: 2023-06-19 15:28:24.340068\n",
      "Specific Date and Time: 2023-06-30 12:30:00\n"
     ]
    }
   ],
   "source": [
    "import datetime\n",
    "\n",
    "# Current date and time\n",
    "current_datetime = datetime.datetime.now()\n",
    "print(\"Current Date and Time:\", current_datetime)\n",
    "\n",
    "# Specific date and time\n",
    "specific_datetime = datetime.datetime(2023, 6, 30, 12, 30, 0)\n",
    "print(\"Specific Date and Time:\", specific_datetime)\n",
    "\n",
    "\n"
   ]
  },
  {
   "cell_type": "code",
   "execution_count": 2,
   "id": "4ec6ac5a",
   "metadata": {},
   "outputs": [
    {
     "name": "stdout",
     "output_type": "stream",
     "text": [
      "Year: 2023\n",
      "Month: 6\n",
      "Day: 19\n",
      "Hour: 15\n",
      "Minute: 28\n",
      "Second: 24\n",
      "Microsecond: 340068\n"
     ]
    }
   ],
   "source": [
    "# Date and time components\n",
    "print(\"Year:\", current_datetime.year)\n",
    "print(\"Month:\", current_datetime.month)\n",
    "print(\"Day:\", current_datetime.day)\n",
    "print(\"Hour:\", current_datetime.hour)\n",
    "print(\"Minute:\", current_datetime.minute)\n",
    "print(\"Second:\", current_datetime.second)\n",
    "print(\"Microsecond:\", current_datetime.microsecond)\n"
   ]
  },
  {
   "cell_type": "code",
   "execution_count": 3,
   "id": "4e2690a1",
   "metadata": {},
   "outputs": [
    {
     "name": "stdout",
     "output_type": "stream",
     "text": [
      "2023-06-19 15:28:24.340068\n",
      "Formatted Date and Time: 2023-06-19 15:28:24\n"
     ]
    }
   ],
   "source": [
    "\n",
    "# Formatting datetime as string\n",
    "print(current_datetime)\n",
    "formatted_datetime = current_datetime.strftime(\"%Y-%m-%d %H:%M:%S\")\n",
    "print(\"Formatted Date and Time:\", formatted_datetime)\n"
   ]
  },
  {
   "cell_type": "code",
   "execution_count": 5,
   "id": "f6311a5e",
   "metadata": {},
   "outputs": [
    {
     "name": "stdout",
     "output_type": "stream",
     "text": [
      "Next Day: 2023-06-20 15:28:24.340068\n",
      "Time Difference: 10 days, 21:01:35.659932\n"
     ]
    }
   ],
   "source": [
    "# Date and time arithmetic\n",
    "next_day = current_datetime + datetime.timedelta(days=1)\n",
    "print(\"Next Day:\", next_day)\n",
    "time_difference = specific_datetime - current_datetime\n",
    "print(\"Time Difference:\", time_difference)"
   ]
  },
  {
   "cell_type": "code",
   "execution_count": 14,
   "id": "1ae743bb",
   "metadata": {},
   "outputs": [
    {
     "name": "stdout",
     "output_type": "stream",
     "text": [
      "Parsed Date and Time: 2023-06-30 12:30:00\n"
     ]
    }
   ],
   "source": [
    "# Parsing datetime from string\n",
    "date_string = \"2023-06-30 12:30:00\"\n",
    "parsed_datetime = datetime.datetime.strptime(date_string, \"%Y-%m-%d %H:%M:%S\")\n",
    "print(\"Parsed Date and Time:\", parsed_datetime)"
   ]
  },
  {
   "cell_type": "code",
   "execution_count": 17,
   "id": "690246e7",
   "metadata": {},
   "outputs": [
    {
     "name": "stdout",
     "output_type": "stream",
     "text": [
      "<class 'str'>\n",
      "<class 'datetime.datetime'>\n"
     ]
    }
   ],
   "source": [
    "print(type(date_string))\n",
    "print(type(parsed_datetime))\n"
   ]
  },
  {
   "cell_type": "code",
   "execution_count": 18,
   "id": "a4e713e6",
   "metadata": {},
   "outputs": [
    {
     "name": "stdout",
     "output_type": "stream",
     "text": [
      "Time Difference: 7 days\n"
     ]
    }
   ],
   "source": [
    "##difference between two specific dates\n",
    "import datetime\n",
    "\n",
    "date1 = datetime.date(2022, 12, 25)\n",
    "date2 = datetime.date(2023, 1, 1)\n",
    "time_difference = date2 - date1\n",
    "print(\"Time Difference:\", time_difference.days, \"days\")\n"
   ]
  },
  {
   "cell_type": "code",
   "execution_count": 19,
   "id": "1fab1cb9",
   "metadata": {},
   "outputs": [
    {
     "name": "stdout",
     "output_type": "stream",
     "text": [
      "2024 is a leap year.\n"
     ]
    }
   ],
   "source": [
    "import datetime\n",
    "\n",
    "def is_leap_year(year):\n",
    "    if year % 4 == 0 and (year % 100 != 0 or year % 400 == 0):\n",
    "        return True\n",
    "    else:\n",
    "        return False\n",
    "\n",
    "year = 2024\n",
    "if is_leap_year(year):\n",
    "    print(year, \"is a leap year.\")\n",
    "else:\n",
    "    print(year, \"is not a leap year.\")\n"
   ]
  },
  {
   "cell_type": "code",
   "execution_count": 20,
   "id": "ca73f584",
   "metadata": {},
   "outputs": [
    {
     "name": "stdout",
     "output_type": "stream",
     "text": [
      "Original DataFrame:\n",
      "        Date  Value DayOfWeek Month\n",
      "0 2023-06-01     10  Thursday  June\n",
      "1 2023-06-02     20    Friday  June\n",
      "2 2023-06-03     15  Saturday  June\n",
      "3 2023-06-04     25    Sunday  June\n",
      "4 2023-06-05     30    Monday  June\n",
      "\n",
      "Filtered DataFrame (Date Range):\n",
      "        Date  Value DayOfWeek Month\n",
      "1 2023-06-02     20    Friday  June\n",
      "2 2023-06-03     15  Saturday  June\n",
      "3 2023-06-04     25    Sunday  June\n",
      "\n",
      "Monthly Total:\n",
      "Date\n",
      "6    100\n",
      "Name: Value, dtype: int64\n"
     ]
    }
   ],
   "source": [
    "import pandas as pd\n",
    "from datetime import datetime\n",
    "\n",
    "# Create a sample DataFrame\n",
    "data = {\n",
    "    'Date': ['2023-06-01', '2023-06-02', '2023-06-03', '2023-06-04', '2023-06-05'],\n",
    "    'Value': [10, 20, 15, 25, 30]\n",
    "}\n",
    "\n",
    "df = pd.DataFrame(data)\n",
    "\n",
    "# Convert the 'Date' column to datetime type\n",
    "df['Date'] = pd.to_datetime(df['Date'])\n",
    "\n",
    "# Add a new column with day of the week\n",
    "df['DayOfWeek'] = df['Date'].dt.day_name()\n",
    "\n",
    "# Add a new column with month name\n",
    "df['Month'] = df['Date'].dt.month_name()\n",
    "\n",
    "# Filter the DataFrame for a specific date range\n",
    "start_date = datetime(2023, 6, 2)\n",
    "end_date = datetime(2023, 6, 4)\n",
    "filtered_df = df[(df['Date'] >= start_date) & (df['Date'] <= end_date)]\n",
    "\n",
    "# Calculate the total value for each month\n",
    "monthly_total = df.groupby(df['Date'].dt.month)['Value'].sum()\n",
    "\n",
    "# Display the DataFrame\n",
    "print(\"Original DataFrame:\")\n",
    "print(df)\n",
    "print(\"\\nFiltered DataFrame (Date Range):\")\n",
    "print(filtered_df)\n",
    "print(\"\\nMonthly Total:\")\n",
    "print(monthly_total)\n"
   ]
  },
  {
   "cell_type": "code",
   "execution_count": 21,
   "id": "8792836a",
   "metadata": {},
   "outputs": [
    {
     "name": "stdout",
     "output_type": "stream",
     "text": [
      "Original DataFrame:\n",
      "        Date  Value Month DayOfWeek\n",
      "0 2023-06-01     10  June  Thursday\n",
      "1 2023-06-02     20  June    Friday\n",
      "2 2023-06-03     15  June  Saturday\n",
      "3 2023-06-04     25  June    Sunday\n",
      "4 2023-06-05     30  June    Monday\n",
      "\n",
      "Filtered DataFrame (Month: June):\n",
      "        Date  Value Month DayOfWeek\n",
      "0 2023-06-01     10  June  Thursday\n",
      "1 2023-06-02     20  June    Friday\n",
      "2 2023-06-03     15  June  Saturday\n",
      "3 2023-06-04     25  June    Sunday\n",
      "4 2023-06-05     30  June    Monday\n",
      "\n",
      "Average Value by Day of the Week:\n",
      "DayOfWeek\n",
      "Friday      20.0\n",
      "Monday      30.0\n",
      "Saturday    15.0\n",
      "Sunday      25.0\n",
      "Thursday    10.0\n",
      "Name: Value, dtype: float64\n"
     ]
    }
   ],
   "source": [
    "import pandas as pd\n",
    "\n",
    "# Create a sample DataFrame\n",
    "data = {\n",
    "    'Date': ['2023-06-01', '2023-06-02', '2023-06-03', '2023-06-04', '2023-06-05'],\n",
    "    'Value': [10, 20, 15, 25, 30]\n",
    "}\n",
    "\n",
    "df = pd.DataFrame(data)\n",
    "\n",
    "# Convert the 'Date' column to datetime type\n",
    "df['Date'] = pd.to_datetime(df['Date'])\n",
    "\n",
    "# Extract the month and day of the week from the 'Date' column\n",
    "df['Month'] = df['Date'].dt.month_name()\n",
    "df['DayOfWeek'] = df['Date'].dt.day_name()\n",
    "\n",
    "# Filter the DataFrame for a specific month\n",
    "month_filter = 'June'\n",
    "filtered_df = df[df['Month'] == month_filter]\n",
    "\n",
    "# Calculate the average value per day of the week\n",
    "avg_value_by_day = df.groupby('DayOfWeek')['Value'].mean()\n",
    "\n",
    "# Display the DataFrame and calculated statistics\n",
    "print(\"Original DataFrame:\")\n",
    "print(df)\n",
    "print(\"\\nFiltered DataFrame (Month: {}):\".format(month_filter))\n",
    "print(filtered_df)\n",
    "print(\"\\nAverage Value by Day of the Week:\")\n",
    "print(avg_value_by_day)\n"
   ]
  },
  {
   "cell_type": "code",
   "execution_count": null,
   "id": "69d8af4c",
   "metadata": {},
   "outputs": [],
   "source": []
  },
  {
   "cell_type": "code",
   "execution_count": null,
   "id": "296f0e0f",
   "metadata": {},
   "outputs": [],
   "source": []
  },
  {
   "cell_type": "code",
   "execution_count": null,
   "id": "ff7acdf2",
   "metadata": {},
   "outputs": [],
   "source": []
  },
  {
   "cell_type": "code",
   "execution_count": null,
   "id": "df31046e",
   "metadata": {},
   "outputs": [],
   "source": []
  },
  {
   "cell_type": "code",
   "execution_count": null,
   "id": "4c9f16d9",
   "metadata": {},
   "outputs": [],
   "source": []
  },
  {
   "cell_type": "code",
   "execution_count": null,
   "id": "814109a6",
   "metadata": {},
   "outputs": [],
   "source": []
  },
  {
   "cell_type": "code",
   "execution_count": null,
   "id": "7cf06012",
   "metadata": {},
   "outputs": [],
   "source": []
  },
  {
   "cell_type": "code",
   "execution_count": null,
   "id": "510974c7",
   "metadata": {},
   "outputs": [],
   "source": []
  }
 ],
 "metadata": {
  "kernelspec": {
   "display_name": "Python 3 (ipykernel)",
   "language": "python",
   "name": "python3"
  },
  "language_info": {
   "codemirror_mode": {
    "name": "ipython",
    "version": 3
   },
   "file_extension": ".py",
   "mimetype": "text/x-python",
   "name": "python",
   "nbconvert_exporter": "python",
   "pygments_lexer": "ipython3",
   "version": "3.8.8"
  }
 },
 "nbformat": 4,
 "nbformat_minor": 5
}
