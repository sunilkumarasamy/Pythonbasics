{
 "cells": [
  {
   "cell_type": "code",
   "execution_count": 1,
   "id": "edf5b427",
   "metadata": {},
   "outputs": [
    {
     "name": "stdout",
     "output_type": "stream",
     "text": [
      "5\n",
      "6\n",
      "11\n"
     ]
    }
   ],
   "source": [
    "##solve me first\n",
    "def solve_me_first(a, b):\n",
    "    return a + b\n",
    "\n",
    "num1 = int(input())\n",
    "num2 = int(input())\n",
    "result = solve_me_first(num1, num2)\n",
    "print(result)\n"
   ]
  },
  {
   "cell_type": "code",
   "execution_count": 7,
   "id": "83c14276",
   "metadata": {},
   "outputs": [],
   "source": [
    "##simple array sum\n",
    "n = int(input())\n",
    "arr = list(map(int, input().split()))\n",
    "sum = sum(arr)\n",
    "print(sum)\n"
   ]
  },
  {
   "cell_type": "code",
   "execution_count": 14,
   "id": "ab7864b7",
   "metadata": {},
   "outputs": [
    {
     "name": "stdout",
     "output_type": "stream",
     "text": [
      "3 5 8\n",
      "2 6 4\n",
      "[3, 5, 8]\n",
      "[2, 6, 4]\n",
      "5\n",
      "6\n",
      "2 1\n"
     ]
    }
   ],
   "source": [
    "#Compare the Triplets\"\n",
    "alice = list(map(int, input().split()))\n",
    "bob = list(map(int, input().split()))\n",
    "print(alice)\n",
    "print(bob)\n",
    "print(alice[1])\n",
    "print(bob[1])\n",
    "alice_score = 0\n",
    "bob_score = 0\n",
    "\n",
    "for i in range(3):\n",
    "    if alice[i] > bob[i]:\n",
    "        alice_score += 1\n",
    "    elif alice[i] < bob[i]:\n",
    "        bob_score += 1\n",
    "\n",
    "print(alice_score, bob_score)"
   ]
  },
  {
   "cell_type": "code",
   "execution_count": 17,
   "id": "47d89667",
   "metadata": {},
   "outputs": [
    {
     "name": "stdout",
     "output_type": "stream",
     "text": [
      "5\n",
      "3 5 65 65 34\n",
      "[3, 5, 65, 65, 34]\n",
      "2\n"
     ]
    }
   ],
   "source": [
    "n = int(input())\n",
    "\n",
    "heights = list(map(int, input().split()))\n",
    "print(heights)\n",
    "\n",
    "tallest = max(heights)\n",
    "count = heights.count(tallest)\n",
    "\n",
    "print(count)\n"
   ]
  },
  {
   "cell_type": "code",
   "execution_count": 19,
   "id": "1596e075",
   "metadata": {},
   "outputs": [
    {
     "name": "stdout",
     "output_type": "stream",
     "text": [
      "06:45:PM\n",
      "18:45:\n"
     ]
    }
   ],
   "source": [
    "time = input()\n",
    "\n",
    "hour = int(time[:2])\n",
    "if time[-2:] == 'PM' and hour != 12:\n",
    "    hour += 12\n",
    "elif time[-2:] == 'AM' and hour == 12:\n",
    "    hour = 0\n",
    "\n",
    "formatted_time = \"{:02d}{}\".format(hour, time[2:-2])\n",
    "print(formatted_time)\n"
   ]
  },
  {
   "cell_type": "code",
   "execution_count": 22,
   "id": "dd567698",
   "metadata": {},
   "outputs": [
    {
     "name": "stdout",
     "output_type": "stream",
     "text": [
      "3\n",
      "1 2 3\n",
      "4 5 6\n",
      "7 8 9\n",
      "matrix is:  [[1, 2, 3], [4, 5, 6], [7, 8, 9]]\n",
      "0\n"
     ]
    }
   ],
   "source": [
    "n = int(input())\n",
    "matrix = []\n",
    "for _ in range(n):\n",
    "    row = list(map(int, input().split()))\n",
    "    matrix.append(row)\n",
    "print(\"matrix is: \",matrix)\n",
    "\n",
    "primary_sum = 0\n",
    "secondary_sum = 0\n",
    "\n",
    "for i in range(n):\n",
    "    primary_sum += matrix[i][i]\n",
    "    secondary_sum += matrix[i][n-i-1]\n",
    "\n",
    "difference = abs(primary_sum - secondary_sum)\n",
    "print(difference)\n"
   ]
  },
  {
   "cell_type": "code",
   "execution_count": 27,
   "id": "6f9f2a06",
   "metadata": {},
   "outputs": [
    {
     "name": "stdout",
     "output_type": "stream",
     "text": [
      "3\n",
      "3 4 5\n"
     ]
    },
    {
     "ename": "TypeError",
     "evalue": "'int' object is not callable",
     "output_type": "error",
     "traceback": [
      "\u001b[0;31m---------------------------------------------------------------------------\u001b[0m",
      "\u001b[0;31mTypeError\u001b[0m                                 Traceback (most recent call last)",
      "\u001b[0;32m/var/folders/10/52b3g9k53sj053mkdsbvq74c0000gp/T/ipykernel_68367/3142971729.py\u001b[0m in \u001b[0;36m<module>\u001b[0;34m\u001b[0m\n\u001b[1;32m      4\u001b[0m \u001b[0marr\u001b[0m \u001b[0;34m=\u001b[0m \u001b[0mlist\u001b[0m\u001b[0;34m(\u001b[0m\u001b[0mmap\u001b[0m\u001b[0;34m(\u001b[0m\u001b[0mint\u001b[0m\u001b[0;34m,\u001b[0m \u001b[0minput\u001b[0m\u001b[0;34m(\u001b[0m\u001b[0;34m)\u001b[0m\u001b[0;34m.\u001b[0m\u001b[0msplit\u001b[0m\u001b[0;34m(\u001b[0m\u001b[0;34m)\u001b[0m\u001b[0;34m)\u001b[0m\u001b[0;34m)\u001b[0m\u001b[0;34m\u001b[0m\u001b[0;34m\u001b[0m\u001b[0m\n\u001b[1;32m      5\u001b[0m \u001b[0;34m\u001b[0m\u001b[0m\n\u001b[0;32m----> 6\u001b[0;31m \u001b[0mpositive\u001b[0m \u001b[0;34m=\u001b[0m \u001b[0msum\u001b[0m\u001b[0;34m(\u001b[0m\u001b[0;36m1\u001b[0m \u001b[0;32mfor\u001b[0m \u001b[0mnum\u001b[0m \u001b[0;32min\u001b[0m \u001b[0marr\u001b[0m \u001b[0;32mif\u001b[0m \u001b[0mnum\u001b[0m \u001b[0;34m>\u001b[0m \u001b[0;36m0\u001b[0m\u001b[0;34m)\u001b[0m\u001b[0;34m\u001b[0m\u001b[0;34m\u001b[0m\u001b[0m\n\u001b[0m\u001b[1;32m      7\u001b[0m \u001b[0mnegative\u001b[0m \u001b[0;34m=\u001b[0m \u001b[0msum\u001b[0m\u001b[0;34m(\u001b[0m\u001b[0;36m1\u001b[0m \u001b[0;32mfor\u001b[0m \u001b[0mnum\u001b[0m \u001b[0;32min\u001b[0m \u001b[0marr\u001b[0m \u001b[0;32mif\u001b[0m \u001b[0mnum\u001b[0m \u001b[0;34m<\u001b[0m \u001b[0;36m0\u001b[0m\u001b[0;34m)\u001b[0m\u001b[0;34m\u001b[0m\u001b[0;34m\u001b[0m\u001b[0m\n\u001b[1;32m      8\u001b[0m \u001b[0mzero\u001b[0m \u001b[0;34m=\u001b[0m \u001b[0msum\u001b[0m\u001b[0;34m(\u001b[0m\u001b[0;36m1\u001b[0m \u001b[0;32mfor\u001b[0m \u001b[0mnum\u001b[0m \u001b[0;32min\u001b[0m \u001b[0marr\u001b[0m \u001b[0;32mif\u001b[0m \u001b[0mnum\u001b[0m \u001b[0;34m==\u001b[0m \u001b[0;36m0\u001b[0m\u001b[0;34m)\u001b[0m\u001b[0;34m\u001b[0m\u001b[0;34m\u001b[0m\u001b[0m\n",
      "\u001b[0;31mTypeError\u001b[0m: 'int' object is not callable"
     ]
    }
   ],
   "source": [
    "#plus minus\n",
    "#-4 3 -9 0 4 1\n",
    "n = int(input())\n",
    "arr = list(map(int, input().split()))\n",
    "\n",
    "positive = sum(1 for num in arr if num > 0)\n",
    "negative = sum(1 for num in arr if num < 0)\n",
    "zero = sum(1 for num in arr if num == 0)\n",
    "\n",
    "positive_ratio = positive / len(arr)\n",
    "negative_ratio = negative / len(arr)\n",
    "zero_ratio = zero / len(arr)\n",
    "\n",
    "print(\"{:.6f}\".format(positive_ratio))\n",
    "print(\"{:.6f}\".format(negative_ratio))\n",
    "print(\"{:.6f}\".format(zero_ratio))\n",
    "\n"
   ]
  },
  {
   "cell_type": "code",
   "execution_count": 28,
   "id": "c4bcc20e",
   "metadata": {},
   "outputs": [
    {
     "name": "stdout",
     "output_type": "stream",
     "text": [
      "4\n",
      "   #\n",
      "  ##\n",
      " ###\n",
      "####\n"
     ]
    }
   ],
   "source": [
    "##staircase\n",
    "n = int(input())\n",
    "\n",
    "for i in range(1, n + 1):\n",
    "    spaces = \" \" * (n - i)\n",
    "    staircase = \"#\" * i\n",
    "    print(spaces + staircase)\n"
   ]
  },
  {
   "cell_type": "code",
   "execution_count": null,
   "id": "0b09bd89",
   "metadata": {},
   "outputs": [],
   "source": []
  },
  {
   "cell_type": "code",
   "execution_count": null,
   "id": "899b120c",
   "metadata": {},
   "outputs": [],
   "source": []
  },
  {
   "cell_type": "code",
   "execution_count": null,
   "id": "06271492",
   "metadata": {},
   "outputs": [],
   "source": []
  },
  {
   "cell_type": "code",
   "execution_count": null,
   "id": "23a47c3f",
   "metadata": {},
   "outputs": [],
   "source": []
  },
  {
   "cell_type": "code",
   "execution_count": null,
   "id": "b858c577",
   "metadata": {},
   "outputs": [],
   "source": []
  },
  {
   "cell_type": "code",
   "execution_count": null,
   "id": "af65e73f",
   "metadata": {},
   "outputs": [],
   "source": []
  },
  {
   "cell_type": "code",
   "execution_count": null,
   "id": "cbff3c50",
   "metadata": {},
   "outputs": [],
   "source": []
  },
  {
   "cell_type": "code",
   "execution_count": null,
   "id": "e8ed13bc",
   "metadata": {},
   "outputs": [],
   "source": []
  },
  {
   "cell_type": "code",
   "execution_count": null,
   "id": "a0e39397",
   "metadata": {},
   "outputs": [],
   "source": []
  },
  {
   "cell_type": "code",
   "execution_count": null,
   "id": "0b77a24f",
   "metadata": {},
   "outputs": [],
   "source": []
  },
  {
   "cell_type": "code",
   "execution_count": null,
   "id": "a508f669",
   "metadata": {},
   "outputs": [],
   "source": []
  },
  {
   "cell_type": "code",
   "execution_count": null,
   "id": "9ebea17a",
   "metadata": {},
   "outputs": [],
   "source": []
  },
  {
   "cell_type": "code",
   "execution_count": null,
   "id": "302e0881",
   "metadata": {},
   "outputs": [],
   "source": []
  },
  {
   "cell_type": "code",
   "execution_count": null,
   "id": "31ba3c3f",
   "metadata": {},
   "outputs": [],
   "source": []
  },
  {
   "cell_type": "code",
   "execution_count": null,
   "id": "1e727ccf",
   "metadata": {},
   "outputs": [],
   "source": []
  },
  {
   "cell_type": "code",
   "execution_count": null,
   "id": "baa0962d",
   "metadata": {},
   "outputs": [],
   "source": []
  },
  {
   "cell_type": "code",
   "execution_count": null,
   "id": "88547b66",
   "metadata": {},
   "outputs": [],
   "source": []
  },
  {
   "cell_type": "code",
   "execution_count": null,
   "id": "f1c8b225",
   "metadata": {},
   "outputs": [],
   "source": []
  },
  {
   "cell_type": "code",
   "execution_count": null,
   "id": "5203b927",
   "metadata": {},
   "outputs": [],
   "source": []
  },
  {
   "cell_type": "code",
   "execution_count": null,
   "id": "a4b4fcc3",
   "metadata": {},
   "outputs": [],
   "source": []
  },
  {
   "cell_type": "code",
   "execution_count": null,
   "id": "f12b98e7",
   "metadata": {},
   "outputs": [],
   "source": []
  },
  {
   "cell_type": "code",
   "execution_count": null,
   "id": "4ed30774",
   "metadata": {},
   "outputs": [],
   "source": []
  }
 ],
 "metadata": {
  "kernelspec": {
   "display_name": "Python 3 (ipykernel)",
   "language": "python",
   "name": "python3"
  },
  "language_info": {
   "codemirror_mode": {
    "name": "ipython",
    "version": 3
   },
   "file_extension": ".py",
   "mimetype": "text/x-python",
   "name": "python",
   "nbconvert_exporter": "python",
   "pygments_lexer": "ipython3",
   "version": "3.8.8"
  }
 },
 "nbformat": 4,
 "nbformat_minor": 5
}
