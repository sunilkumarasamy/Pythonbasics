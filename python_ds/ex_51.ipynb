{
 "cells": [
  {
   "cell_type": "code",
   "execution_count": 6,
   "id": "5b538e3f",
   "metadata": {},
   "outputs": [
    {
     "name": "stdout",
     "output_type": "stream",
     "text": [
      "-45\n",
      "The largest number is 95\n"
     ]
    }
   ],
   "source": [
    "#min number in a list\n",
    "#Sample list of numbers\n",
    "\n",
    "numbers = [30, 10, -45, 95, 20]\n",
    "num = numbers[0]\n",
    "num_sum = numbers[0]\n",
    "for i in numbers:\n",
    "    if i < num:\n",
    "        num = i\n",
    "print(num)\n",
    "#find smallest and largerst number\n",
    "for i in numbers:\n",
    "    if i > num_sum:\n",
    "        num_sum = i\n",
    "print(f'The largest number is {num_sum}')"
   ]
  },
  {
   "cell_type": "code",
   "execution_count": 18,
   "id": "b9229792",
   "metadata": {},
   "outputs": [
    {
     "name": "stdout",
     "output_type": "stream",
     "text": [
      "[30, 10, 45, 5, 20]\n",
      "second_largerst = 30\n"
     ]
    }
   ],
   "source": [
    "#find second largest number\n",
    "# Sample list of numbers\n",
    "numbers = [30, 10, 45, 5, 20]\n",
    "print(numbers)\n",
    "numbers.sort(reverse=True)\n",
    "print(f\"second_largerst = {numbers[1]}\")"
   ]
  },
  {
   "cell_type": "code",
   "execution_count": 23,
   "id": "5edee38a",
   "metadata": {},
   "outputs": [
    {
     "name": "stdout",
     "output_type": "stream",
     "text": [
      "N = 2\n",
      "The 2 largest elements in the list are: 98\n"
     ]
    }
   ],
   "source": [
    "#Write a Python program to find N largest elements from a list.\n",
    "\n",
    "def find_n_largest_elements(lst,k):\n",
    "    sort_lst = sorted(lst, reverse=True)\n",
    "    largest_elements = sort_lst[k]\n",
    "    return largest_elements\n",
    "\n",
    "\n",
    "# Sample list of numbers\n",
    "numbers = [30, 10, 45, 5, 20, 50, 15, 3, 345, 54, 67, 87, 98, 100, 34]\n",
    "# Number of largest elements to find\n",
    "N = int(input(\"N = \" ))\n",
    "# Find the N largest elements from the list\n",
    "result = find_n_largest_elements(numbers, N)\n",
    "# Print the N largest elements\n",
    "print(f\"The {N} largest elements in the list are:\", result)"
   ]
  },
  {
   "cell_type": "code",
   "execution_count": 25,
   "id": "25920500",
   "metadata": {},
   "outputs": [
    {
     "name": "stdout",
     "output_type": "stream",
     "text": [
      "N = 2\n",
      "The 2 largest elements in the list are: [345, 100]\n"
     ]
    }
   ],
   "source": [
    "#Write a Python program to find N largest elements from a list.\n",
    "\n",
    "def find_n_largest_elements(lst,k):\n",
    "    sort_lst = sorted(lst, reverse=True)\n",
    "    largest_elements = sort_lst[:k]\n",
    "    return largest_elements\n",
    "\n",
    "\n",
    "# Sample list of numbers\n",
    "numbers = [30, 10, 45, 5, 20, 50, 15, 3, 345, 54, 67, 87, 98, 100, 34]\n",
    "# Number of largest elements to find\n",
    "N = int(input(\"N = \" ))\n",
    "# Find the N largest elements from the list\n",
    "result = find_n_largest_elements(numbers, N)\n",
    "# Print the N largest elements\n",
    "print(f\"The {N} largest elements in the list are:\", result)"
   ]
  },
  {
   "cell_type": "code",
   "execution_count": null,
   "id": "5fadc3e7",
   "metadata": {},
   "outputs": [],
   "source": []
  },
  {
   "cell_type": "code",
   "execution_count": 28,
   "id": "3841ca3f",
   "metadata": {},
   "outputs": [
    {
     "name": "stdout",
     "output_type": "stream",
     "text": [
      "Even numbers in the list: [2, 4, 6, 8, 10]\n",
      "Odd numbers in the list: [1, 3, 5, 7, 9]\n"
     ]
    }
   ],
   "source": [
    "#Write a Python program to print even numbers in a list.\n",
    "# Sample list of numbers\n",
    "numbers = [1, 2, 3, 4, 5, 6, 7, 8, 9, 10]\n",
    "\n",
    "# Print the even numbers\n",
    "even_numbers = [x for x in numbers if x%2==0]\n",
    "print(\"Even numbers in the list:\", even_numbers)\n",
    "\n",
    "# Print the odd numbers\n",
    "odd_numbers = [x for x in numbers if x%2!=0]\n",
    "print(\"Odd numbers in the list:\", odd_numbers)"
   ]
  },
  {
   "cell_type": "code",
   "execution_count": null,
   "id": "ef286d90",
   "metadata": {},
   "outputs": [],
   "source": []
  },
  {
   "cell_type": "code",
   "execution_count": 1,
   "id": "73568119",
   "metadata": {},
   "outputs": [
    {
     "name": "stdout",
     "output_type": "stream",
     "text": [
      "List after removing empty lists: [[1, 2, 3], [4, 5], [6, 7, 8]]\n"
     ]
    }
   ],
   "source": [
    "# Sample list containing lists\n",
    "list_of_lists = [[1, 2, 3], [], [4, 5], [], [6, 7, 8], []] # Using a list comprehension to remove empty lists\n",
    "filtered_list = [i for i in list_of_lists if i]\n",
    "# Print the filtered list\n",
    "print(\"List after removing empty lists:\", filtered_list)"
   ]
  },
  {
   "cell_type": "code",
   "execution_count": 30,
   "id": "b867a97d",
   "metadata": {},
   "outputs": [
    {
     "name": "stdout",
     "output_type": "stream",
     "text": [
      "[1, 2, 3, 4, 5]\n"
     ]
    }
   ],
   "source": [
    "# 1. Using Using the Slice Operator\n",
    "original_list = [1, 2, 3, 4, 5] \n",
    "cloned_list = original_list[:] \n",
    "print(cloned_list)"
   ]
  },
  {
   "cell_type": "code",
   "execution_count": 33,
   "id": "02be64ab",
   "metadata": {},
   "outputs": [
    {
     "name": "stdout",
     "output_type": "stream",
     "text": [
      "3\n"
     ]
    }
   ],
   "source": [
    "# count the elements\n",
    "\n",
    "def count_occurrences(lst,v):\n",
    "    count = 0\n",
    "    for x in lst:\n",
    "        if x ==v:\n",
    "            count+=1\n",
    "    return count\n",
    "\n",
    "my_list = [1, 2, 3, 4, 2, 5, 2, 3, 4, 6, 5] \n",
    "element_to_count = 2\n",
    "occurrences = count_occurrences(my_list, element_to_count)\n",
    "print(occurrences)"
   ]
  },
  {
   "cell_type": "code",
   "execution_count": 34,
   "id": "b8577214",
   "metadata": {},
   "outputs": [
    {
     "name": "stdout",
     "output_type": "stream",
     "text": [
      "3\n"
     ]
    }
   ],
   "source": [
    "# count the elements\n",
    "\n",
    "def count_occurrences(lst,v):\n",
    "    count = lst.count(v)\n",
    "    return count\n",
    "\n",
    "my_list = [1, 2, 3, 4, 2, 5, 2, 3, 4, 6, 5] \n",
    "element_to_count = 2\n",
    "occurrences = count_occurrences(my_list, element_to_count)\n",
    "print(occurrences)"
   ]
  },
  {
   "cell_type": "code",
   "execution_count": null,
   "id": "a70be71a",
   "metadata": {},
   "outputs": [],
   "source": []
  },
  {
   "cell_type": "code",
   "execution_count": 35,
   "id": "f576f784",
   "metadata": {},
   "outputs": [
    {
     "name": "stdout",
     "output_type": "stream",
     "text": [
      "Words longer than 5 characters: ['banana', 'cherry', 'elderberry', 'dragon']\n"
     ]
    }
   ],
   "source": [
    "#Write a Python program to find words which are greater than given length k.# Example usage\n",
    "a=[]\n",
    "def find_words(lst,v):\n",
    "    for i in lst:\n",
    "        if len(i) > v:\n",
    "            a.append(i)\n",
    "    return a\n",
    "\n",
    "word_list = [\"apple\", \"banana\", \"cherry\", \"date\", \"elderberry\", \"dragon\"] \n",
    "k=5\n",
    "long_words = find_words(word_list, k)\n",
    "print(f\"Words longer than {k} characters: {long_words}\")"
   ]
  },
  {
   "cell_type": "code",
   "execution_count": 46,
   "id": "b837d229",
   "metadata": {},
   "outputs": [
    {
     "name": "stdout",
     "output_type": "stream",
     "text": [
      "['s', 'h', 'a']\n"
     ]
    }
   ],
   "source": [
    "#find duplicates\n",
    "# Input a string\n",
    "\n",
    "def find_duplicates(input_str):\n",
    "    char_count={}\n",
    "    duplicates = []\n",
    "    for i in input_str:\n",
    "        if i in char_count:\n",
    "            char_count[i]+=1\n",
    "        else:\n",
    "            char_count[i] = 1\n",
    "\n",
    "    for k,v in char_count.items():\n",
    "        if v > 1:\n",
    "            duplicates.append(k)\n",
    "    return duplicates\n",
    "\n",
    "input_string = \"piyush sharma\"\n",
    "# Find duplicate characters in the string\n",
    "duplicate_chars = find_duplicates(input_string)\n",
    "print(duplicate_chars)"
   ]
  },
  {
   "cell_type": "code",
   "execution_count": 48,
   "id": "144a3d13",
   "metadata": {},
   "outputs": [],
   "source": [
    "# Input two strings\n",
    "string1 = \"This is the first string\" \n",
    "string2 = \"This is the second string\"\n",
    "words1 = set(string1.split())\n",
    "words2 = set(string2.split())"
   ]
  },
  {
   "cell_type": "code",
   "execution_count": 49,
   "id": "ab6fa013",
   "metadata": {},
   "outputs": [
    {
     "data": {
      "text/plain": [
       "{'This', 'first', 'is', 'string', 'the'}"
      ]
     },
     "execution_count": 49,
     "metadata": {},
     "output_type": "execute_result"
    }
   ],
   "source": [
    "words1"
   ]
  },
  {
   "cell_type": "code",
   "execution_count": 54,
   "id": "326469f9",
   "metadata": {},
   "outputs": [
    {
     "name": "stdout",
     "output_type": "stream",
     "text": [
      "<class 'set'>\n"
     ]
    }
   ],
   "source": [
    "print(type(words1))"
   ]
  },
  {
   "cell_type": "code",
   "execution_count": 50,
   "id": "78e5f025",
   "metadata": {},
   "outputs": [
    {
     "name": "stdout",
     "output_type": "stream",
     "text": [
      "{'second', 'first'}\n"
     ]
    }
   ],
   "source": [
    "# Find uncommon words by taking the set difference\n",
    "uncommon_words_set = words1.symmetric_difference(words2)\n",
    "print(uncommon_words_set)"
   ]
  },
  {
   "cell_type": "code",
   "execution_count": null,
   "id": "56984107",
   "metadata": {},
   "outputs": [],
   "source": []
  },
  {
   "cell_type": "code",
   "execution_count": 51,
   "id": "d71ae04a",
   "metadata": {},
   "outputs": [],
   "source": [
    "# Split a string into a list of words\n",
    "input_str = \"Python program to split and join a string\" \n",
    "word_list = input_str.split() # By default, split on whitespace"
   ]
  },
  {
   "cell_type": "code",
   "execution_count": 52,
   "id": "064083e4",
   "metadata": {},
   "outputs": [
    {
     "data": {
      "text/plain": [
       "['Python', 'program', 'to', 'split', 'and', 'join', 'a', 'string']"
      ]
     },
     "execution_count": 52,
     "metadata": {},
     "output_type": "execute_result"
    }
   ],
   "source": [
    "word_list"
   ]
  },
  {
   "cell_type": "code",
   "execution_count": 55,
   "id": "1169b043",
   "metadata": {},
   "outputs": [
    {
     "name": "stdout",
     "output_type": "stream",
     "text": [
      "Original String: Python program to split and join a string\n",
      "List of split Words: ['Python', 'program', 'to', 'split', 'and', 'join', 'a', 'string']\n",
      "Joined String: Python program to split and join a string\n"
     ]
    }
   ],
   "source": [
    "# Join the list of words into a string\n",
    "separator = \" \" \n",
    "# specify the separator between words \n",
    "output_str = separator.join(word_list)\n",
    "# Print the results\n",
    "print(\"Original String:\", input_str)\n",
    "print(\"List of split Words:\", word_list)\n",
    "print(\"Joined String:\", output_str)"
   ]
  },
  {
   "cell_type": "code",
   "execution_count": null,
   "id": "2ee397e6",
   "metadata": {},
   "outputs": [],
   "source": []
  },
  {
   "cell_type": "code",
   "execution_count": null,
   "id": "e132e063",
   "metadata": {},
   "outputs": [],
   "source": []
  },
  {
   "cell_type": "code",
   "execution_count": 57,
   "id": "6f878ae2",
   "metadata": {},
   "outputs": [],
   "source": [
    "i = 7\n",
    "# Input string\n",
    "input_str = \"Hello, wWorld!\"\n",
    "if i < 0 or i >= len(input_str):\n",
    "    "
   ]
  },
  {
   "cell_type": "code",
   "execution_count": 58,
   "id": "125479b7",
   "metadata": {},
   "outputs": [
    {
     "data": {
      "text/plain": [
       "14"
      ]
     },
     "execution_count": 58,
     "metadata": {},
     "output_type": "execute_result"
    }
   ],
   "source": [
    "len(input_str)"
   ]
  },
  {
   "cell_type": "code",
   "execution_count": 71,
   "id": "502c6c0b",
   "metadata": {},
   "outputs": [
    {
     "name": "stdout",
     "output_type": "stream",
     "text": [
      "'1001110' is a binary string.\n"
     ]
    }
   ],
   "source": [
    "def is_binary_str(input_str):\n",
    "# Iterate through each character in the input string \n",
    "    for i in input_str:\n",
    "        if i not in '01':\n",
    "            return False\n",
    "# If any character is not '0' or '1', it's n\n",
    "    return True # If all characters are '0' or '1', it's a binary str # Input string to check\n",
    "input_str = \"1001110\"\n",
    "# Check if the input string is a binary string\n",
    "if is_binary_str(input_str): \n",
    "    print(f\"'{input_str}' is a binary string.\")\n",
    "else:\n",
    "    print(f\"'{input_str}' is not a binary string.\")"
   ]
  },
  {
   "cell_type": "code",
   "execution_count": null,
   "id": "2783541e",
   "metadata": {},
   "outputs": [],
   "source": []
  },
  {
   "cell_type": "code",
   "execution_count": 74,
   "id": "798b980b",
   "metadata": {},
   "outputs": [
    {
     "name": "stdout",
     "output_type": "stream",
     "text": [
      "Enter the string:sunilkumar\n",
      "no\n"
     ]
    }
   ],
   "source": [
    "import re\n",
    "\n",
    "def find_pattern(pat,my_str):\n",
    "    if re.search(pat,my_str):\n",
    "        return True\n",
    "    else:\n",
    "        return False\n",
    "\n",
    "pattern = r'[!@#$%^&*()_+{}\\[\\]:;<>,.?~\\\\\\/\\'\"\\-=]'\n",
    "my_str = str(input(\"Enter the string:\"))\n",
    "\n",
    "if find_pattern(pattern,my_str):\n",
    "    print('The string contains special characters')\n",
    "else:\n",
    "    print('no')\n",
    "\n"
   ]
  },
  {
   "cell_type": "code",
   "execution_count": 79,
   "id": "845079bb",
   "metadata": {},
   "outputs": [
    {
     "name": "stdout",
     "output_type": "stream",
     "text": [
      "10\n",
      "20\n",
      "10\n",
      "30\n",
      "20\n",
      "{10, 20, 30}\n",
      "[10, 20, 30]\n"
     ]
    }
   ],
   "source": [
    "#Write a Python program to Extract Unique dictionary values.\n",
    "my_dict = { 'a': 10, 'b': 20, 'c': 10, 'd': 30,'e': 20 }\n",
    "uni_val = set()\n",
    "\n",
    "for k,v in my_dict.items():\n",
    "    print(v)\n",
    "    uni_val.add(v)\n",
    "print(uni_val)\n",
    "uni_val_list = list(uni_val)\n",
    "print(uni_val_list)"
   ]
  },
  {
   "cell_type": "code",
   "execution_count": 80,
   "id": "c4e38188",
   "metadata": {},
   "outputs": [
    {
     "name": "stdout",
     "output_type": "stream",
     "text": [
      "10\n",
      "20\n",
      "10\n",
      "30\n",
      "20\n",
      "{10, 20, 30}\n",
      "[10, 20, 30]\n"
     ]
    }
   ],
   "source": [
    "for v in my_dict.values():\n",
    "    print(v)\n",
    "    uni_val.add(v)\n",
    "print(uni_val)\n",
    "uni_val_list = list(uni_val)\n",
    "print(uni_val_list)"
   ]
  },
  {
   "cell_type": "code",
   "execution_count": 81,
   "id": "c9b49d7a",
   "metadata": {},
   "outputs": [
    {
     "name": "stdout",
     "output_type": "stream",
     "text": [
      "Sum of all items in the dictionary: 150\n"
     ]
    }
   ],
   "source": [
    "# Sample dictionary\n",
    "my_dict = { 'a': 10, 'b': 20, 'c': 30, 'd': 40,\n",
    "'e': 50 }\n",
    "# Initialize a variable to store the sum\n",
    "total_sum = 0\n",
    "# Iterate through the values of the dictionary and add them to the tot\n",
    "for i in my_dict.values(): \n",
    "    total_sum += i\n",
    "# Print the sum of all items in the dictionary\n",
    "print(\"Sum of all items in the dictionary:\", total_sum)"
   ]
  },
  {
   "cell_type": "code",
   "execution_count": 83,
   "id": "995c3f87",
   "metadata": {},
   "outputs": [
    {
     "name": "stdout",
     "output_type": "stream",
     "text": [
      "Merged Dictionary (using update()): {'a': 1, 'b': 2, 'c': 3, 'd': 4}\n"
     ]
    }
   ],
   "source": [
    "# 1. Using the update() method:\n",
    "dict1 = {'a': 1, 'b': 2} \n",
    "dict2 = {'c': 3, 'd': 4}\n",
    "dict1.update(dict2)\n",
    "# The merged dictionary is now in dict1\n",
    "print(\"Merged Dictionary (using update()):\", dict1)"
   ]
  },
  {
   "cell_type": "code",
   "execution_count": 86,
   "id": "cbc07824",
   "metadata": {},
   "outputs": [
    {
     "name": "stdout",
     "output_type": "stream",
     "text": [
      "{'a': 1, 'b': 2, 'c': 3, 'd': 4}\n"
     ]
    }
   ],
   "source": [
    "key_values_list = [('a', 1), ('b', 2), ('c', 3), ('d', 4)] # Initialize an empty dictionary\n",
    "flat_dict = {}\n",
    "for k,v in key_values_list:\n",
    "    flat_dict[k]=v\n",
    "    \n",
    "print(flat_dict)"
   ]
  },
  {
   "cell_type": "code",
   "execution_count": null,
   "id": "7b7008fc",
   "metadata": {},
   "outputs": [],
   "source": []
  },
  {
   "cell_type": "code",
   "execution_count": null,
   "id": "18f8a47c",
   "metadata": {},
   "outputs": [],
   "source": []
  },
  {
   "cell_type": "code",
   "execution_count": null,
   "id": "76869fff",
   "metadata": {},
   "outputs": [],
   "source": []
  },
  {
   "cell_type": "code",
   "execution_count": null,
   "id": "be27acc2",
   "metadata": {},
   "outputs": [],
   "source": []
  },
  {
   "cell_type": "code",
   "execution_count": null,
   "id": "1011e301",
   "metadata": {},
   "outputs": [],
   "source": []
  },
  {
   "cell_type": "code",
   "execution_count": null,
   "id": "0ead82e4",
   "metadata": {},
   "outputs": [],
   "source": []
  },
  {
   "cell_type": "code",
   "execution_count": null,
   "id": "6b2e4987",
   "metadata": {},
   "outputs": [],
   "source": []
  },
  {
   "cell_type": "code",
   "execution_count": null,
   "id": "75829c4c",
   "metadata": {},
   "outputs": [],
   "source": []
  },
  {
   "cell_type": "code",
   "execution_count": null,
   "id": "a6e30425",
   "metadata": {},
   "outputs": [],
   "source": []
  },
  {
   "cell_type": "code",
   "execution_count": null,
   "id": "4b9511df",
   "metadata": {},
   "outputs": [],
   "source": []
  },
  {
   "cell_type": "code",
   "execution_count": null,
   "id": "b6a76e59",
   "metadata": {},
   "outputs": [],
   "source": []
  },
  {
   "cell_type": "code",
   "execution_count": null,
   "id": "7392c7e1",
   "metadata": {},
   "outputs": [],
   "source": []
  },
  {
   "cell_type": "code",
   "execution_count": null,
   "id": "67c69cf4",
   "metadata": {},
   "outputs": [],
   "source": []
  },
  {
   "cell_type": "code",
   "execution_count": null,
   "id": "3e510bb8",
   "metadata": {},
   "outputs": [],
   "source": []
  },
  {
   "cell_type": "code",
   "execution_count": null,
   "id": "23bc28a3",
   "metadata": {},
   "outputs": [],
   "source": []
  },
  {
   "cell_type": "code",
   "execution_count": null,
   "id": "7b8ebb7a",
   "metadata": {},
   "outputs": [],
   "source": []
  },
  {
   "cell_type": "code",
   "execution_count": null,
   "id": "808573d2",
   "metadata": {},
   "outputs": [],
   "source": []
  },
  {
   "cell_type": "code",
   "execution_count": null,
   "id": "c6cc0ca1",
   "metadata": {},
   "outputs": [],
   "source": []
  },
  {
   "cell_type": "code",
   "execution_count": null,
   "id": "26a26475",
   "metadata": {},
   "outputs": [],
   "source": []
  },
  {
   "cell_type": "code",
   "execution_count": null,
   "id": "4e81e11d",
   "metadata": {},
   "outputs": [],
   "source": []
  },
  {
   "cell_type": "code",
   "execution_count": null,
   "id": "488976ba",
   "metadata": {},
   "outputs": [],
   "source": []
  },
  {
   "cell_type": "code",
   "execution_count": null,
   "id": "cd775a6c",
   "metadata": {},
   "outputs": [],
   "source": []
  },
  {
   "cell_type": "code",
   "execution_count": null,
   "id": "aaaac4d7",
   "metadata": {},
   "outputs": [],
   "source": []
  },
  {
   "cell_type": "code",
   "execution_count": 36,
   "id": "68e31eec",
   "metadata": {},
   "outputs": [],
   "source": [
    "d ={\"d\":\"4\",\"f\":\"7\"}"
   ]
  },
  {
   "cell_type": "code",
   "execution_count": 38,
   "id": "53704d50",
   "metadata": {},
   "outputs": [
    {
     "name": "stdout",
     "output_type": "stream",
     "text": [
      "d\n",
      "f\n"
     ]
    }
   ],
   "source": [
    "for i in d:\n",
    "    print(i)"
   ]
  },
  {
   "cell_type": "code",
   "execution_count": 40,
   "id": "a3b178d5",
   "metadata": {},
   "outputs": [
    {
     "data": {
      "text/plain": [
       "'7'"
      ]
     },
     "execution_count": 40,
     "metadata": {},
     "output_type": "execute_result"
    }
   ],
   "source": [
    "d[\"f\"]"
   ]
  },
  {
   "cell_type": "code",
   "execution_count": null,
   "id": "0f277792",
   "metadata": {},
   "outputs": [],
   "source": []
  },
  {
   "cell_type": "code",
   "execution_count": null,
   "id": "fb626de9",
   "metadata": {},
   "outputs": [],
   "source": []
  },
  {
   "cell_type": "code",
   "execution_count": null,
   "id": "0cbab435",
   "metadata": {},
   "outputs": [],
   "source": []
  }
 ],
 "metadata": {
  "kernelspec": {
   "display_name": "Python 3 (ipykernel)",
   "language": "python",
   "name": "python3"
  },
  "language_info": {
   "codemirror_mode": {
    "name": "ipython",
    "version": 3
   },
   "file_extension": ".py",
   "mimetype": "text/x-python",
   "name": "python",
   "nbconvert_exporter": "python",
   "pygments_lexer": "ipython3",
   "version": "3.8.0"
  }
 },
 "nbformat": 4,
 "nbformat_minor": 5
}
