{
 "cells": [
  {
   "cell_type": "code",
   "execution_count": 1,
   "metadata": {},
   "outputs": [
    {
     "name": "stdout",
     "output_type": "stream",
     "text": [
      "the sum of first 5 natural number is 225\n"
     ]
    }
   ],
   "source": [
    "#cube some of first n natural number\n",
    "def cube_sum_of_natural_numbers(n):\n",
    "    if n <=0:\n",
    "        return 0\n",
    "    else:\n",
    "        total = sum([i**3 for i in range(1, n + 1)])\n",
    "        return total \n",
    "    \n",
    "# Input the number of natural numbers\n",
    "n = int(input(\"Enter the value of n: \"))\n",
    "\n",
    "if n<=0:\n",
    "    print(\"Enter positive number\")\n",
    "\n",
    "else:\n",
    "    result  = cube_sum_of_natural_numbers(n)\n",
    "    print(f\"the sum of first {n} natural number is {result}\")\n",
    "\n",
    "    "
   ]
  },
  {
   "cell_type": "code",
   "execution_count": 2,
   "metadata": {},
   "outputs": [
    {
     "name": "stdout",
     "output_type": "stream",
     "text": [
      "Sum of the array is  6\n"
     ]
    }
   ],
   "source": [
    "#sum of array\n",
    "# Finding Sum of Array Using sum()\n",
    "arr = [1,2,3]\n",
    "ans = sum(arr)\n",
    "print('Sum of the array is ', ans)"
   ]
  },
  {
   "cell_type": "code",
   "execution_count": 8,
   "metadata": {},
   "outputs": [
    {
     "name": "stdout",
     "output_type": "stream",
     "text": [
      "[1, 2, 3]\n",
      "Sum of the array: 6\n"
     ]
    }
   ],
   "source": [
    "#umof array\n",
    "def sum_of_array(arr):\n",
    "    total = 0\n",
    "    for element in arr:\n",
    "        total += element\n",
    "    return total\n",
    "    \n",
    "# Example usage:\n",
    "array = [1, 2, 3]\n",
    "print(arr)\n",
    "result = sum_of_array(array) \n",
    "print(\"Sum of the array:\", result)"
   ]
  },
  {
   "cell_type": "code",
   "execution_count": null,
   "metadata": {},
   "outputs": [],
   "source": [
    "#largest element in the array\n",
    "\n",
    "def large_array(arr):\n",
    "    if not arr:\n",
    "        print"
   ]
  },
  {
   "cell_type": "code",
   "execution_count": null,
   "metadata": {},
   "outputs": [],
   "source": []
  },
  {
   "cell_type": "code",
   "execution_count": null,
   "metadata": {},
   "outputs": [],
   "source": []
  },
  {
   "cell_type": "code",
   "execution_count": null,
   "metadata": {},
   "outputs": [],
   "source": []
  },
  {
   "cell_type": "code",
   "execution_count": null,
   "metadata": {},
   "outputs": [],
   "source": []
  },
  {
   "cell_type": "code",
   "execution_count": null,
   "metadata": {},
   "outputs": [],
   "source": []
  }
 ],
 "metadata": {
  "kernelspec": {
   "display_name": "Python 3",
   "language": "python",
   "name": "python3"
  },
  "language_info": {
   "codemirror_mode": {
    "name": "ipython",
    "version": 3
   },
   "file_extension": ".py",
   "mimetype": "text/x-python",
   "name": "python",
   "nbconvert_exporter": "python",
   "pygments_lexer": "ipython3",
   "version": "3.8.16"
  },
  "orig_nbformat": 4
 },
 "nbformat": 4,
 "nbformat_minor": 2
}
