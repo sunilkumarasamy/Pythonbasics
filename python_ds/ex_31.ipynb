{
 "cells": [
  {
   "cell_type": "code",
   "execution_count": 1,
   "metadata": {},
   "outputs": [
    {
     "name": "stdout",
     "output_type": "stream",
     "text": [
      "the sum of first 5 natural number is 225\n"
     ]
    }
   ],
   "source": [
    "#cube some of first n natural number\n",
    "def cube_sum_of_natural_numbers(n):\n",
    "    if n <=0:\n",
    "        return 0\n",
    "    else:\n",
    "        total = sum([i**3 for i in range(1, n + 1)])\n",
    "        return total \n",
    "    \n",
    "# Input the number of natural numbers\n",
    "n = int(input(\"Enter the value of n: \"))\n",
    "\n",
    "if n<=0:\n",
    "    print(\"Enter positive number\")\n",
    "\n",
    "else:\n",
    "    result  = cube_sum_of_natural_numbers(n)\n",
    "    print(f\"the sum of first {n} natural number is {result}\")\n",
    "\n",
    "    "
   ]
  },
  {
   "cell_type": "code",
   "execution_count": 2,
   "metadata": {},
   "outputs": [
    {
     "name": "stdout",
     "output_type": "stream",
     "text": [
      "Sum of the array is  6\n"
     ]
    }
   ],
   "source": [
    "#sum of array\n",
    "# Finding Sum of Array Using sum()\n",
    "arr = [1,2,3]\n",
    "ans = sum(arr)\n",
    "print('Sum of the array is ', ans)"
   ]
  },
  {
   "cell_type": "code",
   "execution_count": 8,
   "metadata": {},
   "outputs": [
    {
     "name": "stdout",
     "output_type": "stream",
     "text": [
      "[1, 2, 3]\n",
      "Sum of the array: 6\n"
     ]
    }
   ],
   "source": [
    "#umof array\n",
    "def sum_of_array(arr):\n",
    "    total = 0\n",
    "    for element in arr:\n",
    "        total += element\n",
    "    return total\n",
    "    \n",
    "# Example usage:\n",
    "array = [1, 2, 3]\n",
    "print(arr)\n",
    "result = sum_of_array(array) \n",
    "print(\"Sum of the array:\", result)"
   ]
  },
  {
   "cell_type": "code",
   "execution_count": 10,
   "metadata": {},
   "outputs": [
    {
     "name": "stdout",
     "output_type": "stream",
     "text": [
      "[1, 2, 3]\n",
      "large_num in the array: 13\n"
     ]
    }
   ],
   "source": [
    "#largest element in the array\n",
    "\n",
    "def large_array(arr):\n",
    "    if not arr:\n",
    "        print(\"array is empyty\")\n",
    "        \n",
    "    else:\n",
    "        large_nm = arr[0]\n",
    "        for element in arr:\n",
    "            if element > large_nm:\n",
    "                large_nm = element\n",
    "    \n",
    "    return large_nm\n",
    "\n",
    "# Example usage:\n",
    "array = [1, 2, 13]\n",
    "print(arr)\n",
    "large_nm = large_array(array) \n",
    "print(\"large_num in the array:\", large_nm)\n"
   ]
  },
  {
   "cell_type": "code",
   "execution_count": 15,
   "metadata": {},
   "outputs": [
    {
     "name": "stdout",
     "output_type": "stream",
     "text": [
      "Ajay\n",
      "Gulgule\n",
      "Raji\n",
      "Ram\n",
      "Ramesh\n",
      "Shyam\n",
      "Suresh\n",
      "Vibhuti\n"
     ]
    }
   ],
   "source": [
    "my_str = input(\"Enter a string: \")\n",
    "words = [word.capitalize() for word in my_str.split()]\n",
    "words.sort()\n",
    "for word in words:\n",
    "    print(word)"
   ]
  },
  {
   "cell_type": "code",
   "execution_count": 16,
   "metadata": {},
   "outputs": [],
   "source": [
    "matrix1 = [ [1, 2, 3],\n",
    "[4, 5, 6],\n",
    "[7, 8, 9] ]"
   ]
  },
  {
   "cell_type": "code",
   "execution_count": 17,
   "metadata": {},
   "outputs": [
    {
     "data": {
      "text/plain": [
       "[1, 2, 3]"
      ]
     },
     "execution_count": 17,
     "metadata": {},
     "output_type": "execute_result"
    }
   ],
   "source": [
    "matrix1[0]"
   ]
  },
  {
   "cell_type": "code",
   "execution_count": 18,
   "metadata": {},
   "outputs": [
    {
     "data": {
      "text/plain": [
       "3"
      ]
     },
     "execution_count": 18,
     "metadata": {},
     "output_type": "execute_result"
    }
   ],
   "source": [
    "len(matrix1)"
   ]
  },
  {
   "cell_type": "code",
   "execution_count": 19,
   "metadata": {},
   "outputs": [
    {
     "name": "stdout",
     "output_type": "stream",
     "text": [
      "0\n",
      "1\n",
      "2\n"
     ]
    }
   ],
   "source": [
    "for i in range(len(matrix1)):\n",
    "    print(i)"
   ]
  },
  {
   "cell_type": "code",
   "execution_count": 26,
   "metadata": {},
   "outputs": [
    {
     "data": {
      "text/plain": [
       "4"
      ]
     },
     "execution_count": 26,
     "metadata": {},
     "output_type": "execute_result"
    }
   ],
   "source": [
    "matrix1[1][0]"
   ]
  },
  {
   "cell_type": "code",
   "execution_count": 27,
   "metadata": {},
   "outputs": [],
   "source": [
    "matrix1 = [ [1, 2, 3],\n",
    "[4, 5, 6],\n",
    "[7, 8, 9] ]\n",
    "matrix2 = [ [9, 8, 7],\n",
    "[6, 5, 4],\n",
    "[3, 2, 1] ]\n",
    "# Call the add_matrices function\n",
    "#result_matrix = add_matrices(matrix1, matrix2)"
   ]
  },
  {
   "cell_type": "code",
   "execution_count": 33,
   "metadata": {},
   "outputs": [
    {
     "name": "stdout",
     "output_type": "stream",
     "text": [
      "[[1, 2, 3], [4, 5, 6], [7, 8, 9]]\n",
      "[[9, 8, 7], [6, 5, 4], [3, 2, 1]]\n",
      "1\n",
      "2\n",
      "3\n",
      "******\n",
      "4\n",
      "5\n",
      "6\n"
     ]
    }
   ],
   "source": [
    "print(matrix1)\n",
    "print(matrix2)\n",
    "print(matrix1[0][0])\n",
    "print(matrix1[0][1])\n",
    "print(matrix1[0][2])\n",
    "print(\"******\")\n",
    "print(matrix1[1][0])\n",
    "print(matrix1[1][1])\n",
    "print(matrix1[1][2])"
   ]
  },
  {
   "cell_type": "code",
   "execution_count": 40,
   "metadata": {},
   "outputs": [
    {
     "name": "stdout",
     "output_type": "stream",
     "text": [
      "The sum of result matrix is:\n",
      "[10, 10, 10]\n",
      "[10, 10, 10]\n",
      "[10, 10, 10]\n"
     ]
    }
   ],
   "source": [
    "def add_matrices(mat1,mat2):\n",
    "    if len(mat1)!=len(mat2) or len(mat1[0]) != len(mat2[0]):\n",
    "        return \"not valid matix\"\n",
    "    else:\n",
    "        result = []\n",
    "        for i in range(len(mat1)):\n",
    "            row=[]\n",
    "            for j in range(len(mat1[0])):\n",
    "                row.append(mat1[i][j] + mat2[i][j])\n",
    "            result.append(row)\n",
    "        return result\n",
    "    \n",
    "    # Call the add_matrices function\n",
    "result_matrix = add_matrices(matrix1, matrix2)\n",
    "\n",
    "if isinstance(result_matrix,str):\n",
    "    print(result_matrix)\n",
    "else:\n",
    "    print(\"The sum of result matrix is:\")\n",
    "    for row in result_matrix:\n",
    "        print(row)"
   ]
  },
  {
   "cell_type": "code",
   "execution_count": 41,
   "metadata": {},
   "outputs": [],
   "source": [
    "# define punctuation\n",
    "punctuations = '''!()-[]{};:'\"\\,<>./?@#$%^&*_~''' # To take input from the user\n",
    "my_str = input(\"Enter a string: \")\n",
    "# remove punctuation from the string\n"
   ]
  },
  {
   "cell_type": "code",
   "execution_count": 45,
   "metadata": {},
   "outputs": [
    {
     "name": "stdout",
     "output_type": "stream",
     "text": [
      "Hello!!!, he said ---and went\n"
     ]
    }
   ],
   "source": [
    "print(my_str)"
   ]
  },
  {
   "cell_type": "code",
   "execution_count": 47,
   "metadata": {},
   "outputs": [
    {
     "name": "stdout",
     "output_type": "stream",
     "text": [
      "Hello he said and went\n"
     ]
    }
   ],
   "source": [
    "no_punc = \"\"\n",
    "for char in my_str:\n",
    "    if char not in punctuations:\n",
    "        no_punc = no_punc + char\n",
    "print(no_punc)"
   ]
  },
  {
   "cell_type": "code",
   "execution_count": 50,
   "metadata": {},
   "outputs": [
    {
     "name": "stdout",
     "output_type": "stream",
     "text": [
      "18 is harshad number\n"
     ]
    }
   ],
   "source": [
    "#harshad number\n",
    "def is_harshad_number(num):\n",
    "    ans = sum(int(i) for i in str(num))\n",
    "    return num % ans == 0\n",
    "        \n",
    "num =  int(input(\"Eneter the number:\"))\n",
    "\n",
    "if is_harshad_number(num):\n",
    "    print(f\"{num} is harshad number\")\n",
    "    \n",
    "else:\n",
    "    print(\"the number sucks\")\n",
    "        \n",
    "    "
   ]
  },
  {
   "cell_type": "code",
   "execution_count": 55,
   "metadata": {},
   "outputs": [
    {
     "name": "stdout",
     "output_type": "stream",
     "text": [
      "Sum of elements in the list: 150\n"
     ]
    }
   ],
   "source": [
    "##sum of numbers\n",
    "# Sample list of numbers\n",
    "numbers = [10, 20, 30, 40, 50]\n",
    "# Initialize a variable to store the sum\n",
    "sum_of_numbers = 0\n",
    "# Iterate through the list and accumulate the sum\n",
    "for i in numbers: \n",
    "    sum_of_numbers += i\n",
    "print(\"Sum of elements in the list:\", sum_of_numbers)"
   ]
  },
  {
   "cell_type": "code",
   "execution_count": 57,
   "metadata": {},
   "outputs": [
    {
     "name": "stdout",
     "output_type": "stream",
     "text": [
      "Product of elements in the list: 12000000\n"
     ]
    }
   ],
   "source": [
    "# Sample list of numbers\n",
    "numbers = [10, 20, 30, 40, 50]\n",
    "# Initialize a variable to store the product\n",
    "product_of_numbers = 1\n",
    "# Iterate through the list and accumulate the product\n",
    "for i in numbers: \n",
    "    product_of_numbers *= i\n",
    "# Print the product\n",
    "print(\"Product of elements in the list:\", product_of_numbers)"
   ]
  },
  {
   "cell_type": "code",
   "execution_count": null,
   "metadata": {},
   "outputs": [],
   "source": []
  },
  {
   "cell_type": "code",
   "execution_count": null,
   "metadata": {},
   "outputs": [],
   "source": []
  },
  {
   "cell_type": "code",
   "execution_count": null,
   "metadata": {},
   "outputs": [],
   "source": []
  },
  {
   "cell_type": "code",
   "execution_count": null,
   "metadata": {},
   "outputs": [],
   "source": []
  },
  {
   "cell_type": "code",
   "execution_count": null,
   "metadata": {},
   "outputs": [],
   "source": []
  },
  {
   "cell_type": "code",
   "execution_count": null,
   "metadata": {},
   "outputs": [],
   "source": []
  },
  {
   "cell_type": "code",
   "execution_count": null,
   "metadata": {},
   "outputs": [],
   "source": []
  },
  {
   "cell_type": "code",
   "execution_count": null,
   "metadata": {},
   "outputs": [],
   "source": []
  },
  {
   "cell_type": "code",
   "execution_count": null,
   "metadata": {},
   "outputs": [],
   "source": []
  },
  {
   "cell_type": "code",
   "execution_count": null,
   "metadata": {},
   "outputs": [],
   "source": []
  },
  {
   "cell_type": "code",
   "execution_count": null,
   "metadata": {},
   "outputs": [],
   "source": []
  },
  {
   "cell_type": "code",
   "execution_count": null,
   "metadata": {},
   "outputs": [],
   "source": []
  },
  {
   "cell_type": "code",
   "execution_count": null,
   "metadata": {},
   "outputs": [],
   "source": []
  },
  {
   "cell_type": "code",
   "execution_count": null,
   "metadata": {},
   "outputs": [],
   "source": []
  },
  {
   "cell_type": "code",
   "execution_count": null,
   "metadata": {},
   "outputs": [],
   "source": []
  },
  {
   "cell_type": "code",
   "execution_count": null,
   "metadata": {},
   "outputs": [],
   "source": []
  },
  {
   "cell_type": "code",
   "execution_count": null,
   "metadata": {},
   "outputs": [],
   "source": []
  },
  {
   "cell_type": "code",
   "execution_count": null,
   "metadata": {},
   "outputs": [],
   "source": []
  },
  {
   "cell_type": "code",
   "execution_count": null,
   "metadata": {},
   "outputs": [],
   "source": []
  },
  {
   "cell_type": "code",
   "execution_count": null,
   "metadata": {},
   "outputs": [],
   "source": []
  },
  {
   "cell_type": "code",
   "execution_count": null,
   "metadata": {},
   "outputs": [],
   "source": []
  },
  {
   "cell_type": "code",
   "execution_count": null,
   "metadata": {},
   "outputs": [],
   "source": []
  },
  {
   "cell_type": "code",
   "execution_count": null,
   "metadata": {},
   "outputs": [],
   "source": []
  },
  {
   "cell_type": "code",
   "execution_count": null,
   "metadata": {},
   "outputs": [],
   "source": []
  },
  {
   "cell_type": "code",
   "execution_count": null,
   "metadata": {},
   "outputs": [],
   "source": []
  },
  {
   "cell_type": "code",
   "execution_count": null,
   "metadata": {},
   "outputs": [],
   "source": []
  },
  {
   "cell_type": "code",
   "execution_count": null,
   "metadata": {},
   "outputs": [],
   "source": []
  },
  {
   "cell_type": "code",
   "execution_count": null,
   "metadata": {},
   "outputs": [],
   "source": []
  },
  {
   "cell_type": "code",
   "execution_count": null,
   "metadata": {},
   "outputs": [],
   "source": []
  },
  {
   "cell_type": "code",
   "execution_count": null,
   "metadata": {},
   "outputs": [],
   "source": [
    "\n"
   ]
  },
  {
   "cell_type": "code",
   "execution_count": null,
   "metadata": {},
   "outputs": [],
   "source": []
  },
  {
   "cell_type": "code",
   "execution_count": null,
   "metadata": {},
   "outputs": [],
   "source": []
  },
  {
   "cell_type": "code",
   "execution_count": null,
   "metadata": {},
   "outputs": [],
   "source": []
  },
  {
   "cell_type": "code",
   "execution_count": null,
   "metadata": {},
   "outputs": [],
   "source": []
  },
  {
   "cell_type": "code",
   "execution_count": null,
   "metadata": {},
   "outputs": [],
   "source": []
  },
  {
   "cell_type": "code",
   "execution_count": null,
   "metadata": {},
   "outputs": [],
   "source": []
  }
 ],
 "metadata": {
  "kernelspec": {
   "display_name": "Python 3",
   "language": "python",
   "name": "python3"
  },
  "language_info": {
   "codemirror_mode": {
    "name": "ipython",
    "version": 3
   },
   "file_extension": ".py",
   "mimetype": "text/x-python",
   "name": "python",
   "nbconvert_exporter": "python",
   "pygments_lexer": "ipython3",
   "version": "3.8.16"
  },
  "orig_nbformat": 4
 },
 "nbformat": 4,
 "nbformat_minor": 2
}
