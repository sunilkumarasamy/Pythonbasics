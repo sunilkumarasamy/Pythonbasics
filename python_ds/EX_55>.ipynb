{
 "cells": [
  {
   "cell_type": "code",
   "execution_count": 1,
   "id": "4db42335",
   "metadata": {},
   "outputs": [],
   "source": [
    "import pandas as pd\n",
    "import numpy as np\n",
    "import matplotlib.pyplot as plt\n",
    "import seaborn as sns"
   ]
  },
  {
   "cell_type": "code",
   "execution_count": 22,
   "id": "4ae92deb",
   "metadata": {},
   "outputs": [
    {
     "name": "stdout",
     "output_type": "stream",
     "text": [
      "Enter a sequence of whitespace-separated wordshello world and practice m akes perfect and hello world again\n"
     ]
    }
   ],
   "source": [
    "# Accept input from the user\n",
    "input_sequence = input(\"Enter a sequence of whitespace-separated words\") \n",
    "                       # Split the input into words and convert it into a set to remove dupli\n",
    "words = set(input_sequence.split())\n",
    "# Sort the unique words alphanumerically\n",
    "sorted_words = sorted(words)\n"
   ]
  },
  {
   "cell_type": "code",
   "execution_count": 23,
   "id": "0f96b082",
   "metadata": {},
   "outputs": [
    {
     "data": {
      "text/plain": [
       "['again', 'akes', 'and', 'hello', 'm', 'perfect', 'practice', 'world']"
      ]
     },
     "execution_count": 23,
     "metadata": {},
     "output_type": "execute_result"
    }
   ],
   "source": [
    "sorted_words"
   ]
  },
  {
   "cell_type": "code",
   "execution_count": 24,
   "id": "dcb4b6ed",
   "metadata": {},
   "outputs": [
    {
     "data": {
      "text/plain": [
       "list"
      ]
     },
     "execution_count": 24,
     "metadata": {},
     "output_type": "execute_result"
    }
   ],
   "source": [
    "type(sorted_words)"
   ]
  },
  {
   "cell_type": "code",
   "execution_count": 27,
   "id": "fd5e7906",
   "metadata": {},
   "outputs": [],
   "source": [
    "result = \" \".join(sorted_words)"
   ]
  },
  {
   "cell_type": "code",
   "execution_count": 28,
   "id": "6f453f20",
   "metadata": {},
   "outputs": [
    {
     "data": {
      "text/plain": [
       "'again akes and hello m perfect practice world'"
      ]
     },
     "execution_count": 28,
     "metadata": {},
     "output_type": "execute_result"
    }
   ],
   "source": [
    "result"
   ]
  },
  {
   "cell_type": "code",
   "execution_count": null,
   "id": "5268e4ff",
   "metadata": {},
   "outputs": [],
   "source": [
    "##progam 81"
   ]
  },
  {
   "cell_type": "code",
   "execution_count": 58,
   "id": "39f3e9d2",
   "metadata": {},
   "outputs": [
    {
     "name": "stdout",
     "output_type": "stream",
     "text": [
      "Enter a comma-separated sequence of words: without, hello, bag, world\n"
     ]
    }
   ],
   "source": [
    "# Accept input from the user\n",
    "input_sequence = input(\"Enter a comma-separated sequence of words: \") # Split the input into a list of words"
   ]
  },
  {
   "cell_type": "code",
   "execution_count": 61,
   "id": "f3786f23",
   "metadata": {},
   "outputs": [],
   "source": [
    "print(type(input_sequence))\n",
    "words = input_sequence.split(\",\")"
   ]
  },
  {
   "cell_type": "code",
   "execution_count": 63,
   "id": "974c5f40",
   "metadata": {},
   "outputs": [
    {
     "data": {
      "text/plain": [
       "list"
      ]
     },
     "execution_count": 63,
     "metadata": {},
     "output_type": "execute_result"
    }
   ],
   "source": [
    "type(words)"
   ]
  },
  {
   "cell_type": "code",
   "execution_count": 64,
   "id": "b74892a2",
   "metadata": {},
   "outputs": [],
   "source": [
    "sorted_words = sorted(words)\n"
   ]
  },
  {
   "cell_type": "code",
   "execution_count": 65,
   "id": "b8ea4c5f",
   "metadata": {},
   "outputs": [
    {
     "data": {
      "text/plain": [
       "[' bag', ' hello', ' world', 'without']"
      ]
     },
     "execution_count": 65,
     "metadata": {},
     "output_type": "execute_result"
    }
   ],
   "source": [
    "sorted_words"
   ]
  },
  {
   "cell_type": "code",
   "execution_count": 66,
   "id": "3dbf09c6",
   "metadata": {},
   "outputs": [],
   "source": [
    "sorted_sequence = \",\".join(sorted_words)"
   ]
  },
  {
   "cell_type": "code",
   "execution_count": 69,
   "id": "4ff74989",
   "metadata": {},
   "outputs": [
    {
     "name": "stdout",
     "output_type": "stream",
     "text": [
      "<class 'str'>\n"
     ]
    }
   ],
   "source": [
    "print(type(sorted_sequence))"
   ]
  },
  {
   "cell_type": "code",
   "execution_count": null,
   "id": "833d2bf7",
   "metadata": {},
   "outputs": [],
   "source": [
    "# Join the sorted words into a comma-separated sequence\n",
    "sorted_sequence = ','.join(sorted_words)\n"
   ]
  },
  {
   "cell_type": "code",
   "execution_count": 67,
   "id": "8fc8ad22",
   "metadata": {},
   "outputs": [
    {
     "name": "stdout",
     "output_type": "stream",
     "text": [
      "Sorted words:  bag, hello, world,without\n"
     ]
    }
   ],
   "source": [
    "# Print the sorted sequence\n",
    "print(\"Sorted words:\", sorted_sequence)"
   ]
  },
  {
   "cell_type": "code",
   "execution_count": 70,
   "id": "22a4a66a",
   "metadata": {},
   "outputs": [
    {
     "name": "stdout",
     "output_type": "stream",
     "text": [
      "Enter a sentence: hello world! 123\n"
     ]
    }
   ],
   "source": [
    "#P79\n",
    "\n",
    "sentence = input(\"Enter a sentence: \")"
   ]
  },
  {
   "cell_type": "code",
   "execution_count": 71,
   "id": "924b73fa",
   "metadata": {},
   "outputs": [
    {
     "data": {
      "text/plain": [
       "'hello world! 123'"
      ]
     },
     "execution_count": 71,
     "metadata": {},
     "output_type": "execute_result"
    }
   ],
   "source": [
    "sentence"
   ]
  },
  {
   "cell_type": "code",
   "execution_count": 74,
   "id": "f033eb9b",
   "metadata": {},
   "outputs": [
    {
     "name": "stdout",
     "output_type": "stream",
     "text": [
      "10\n",
      "3\n"
     ]
    }
   ],
   "source": [
    "letter_count = 0\n",
    "num_count = 0\n",
    "for char in sentence:\n",
    "    if char.isalpha():\n",
    "        letter_count+=1\n",
    "    elif char.isdigit():\n",
    "        num_count +=1\n",
    "print(letter_count)\n",
    "print(num_count)"
   ]
  },
  {
   "cell_type": "code",
   "execution_count": null,
   "id": "3492cc2f",
   "metadata": {},
   "outputs": [],
   "source": [
    "#password\n",
    "\n",
    "if re.match(r\"^(?=.*[a-z])(?=.*[A-Z])(?=.*[0-9])(?=.*[$#@])\","
   ]
  },
  {
   "cell_type": "code",
   "execution_count": 79,
   "id": "c989c95f",
   "metadata": {},
   "outputs": [
    {
     "name": "stdout",
     "output_type": "stream",
     "text": [
      "Enter passwords separated by commas: ABd1234@1,a F1#,2w3E*,2We3345\n"
     ]
    }
   ],
   "source": [
    "# Accept input from the user as comma-separated passwords\n",
    "import re\n",
    "passwords = input(\"Enter passwords separated by commas: \").split(',')"
   ]
  },
  {
   "cell_type": "code",
   "execution_count": 80,
   "id": "feb022b0",
   "metadata": {},
   "outputs": [
    {
     "data": {
      "text/plain": [
       "['ABd1234@1', 'a F1#', '2w3E*', '2We3345']"
      ]
     },
     "execution_count": 80,
     "metadata": {},
     "output_type": "execute_result"
    }
   ],
   "source": [
    "passwords"
   ]
  },
  {
   "cell_type": "code",
   "execution_count": 81,
   "id": "27e03338",
   "metadata": {},
   "outputs": [],
   "source": [
    "def isvalid(password):\n",
    "    if 6<= len(password)<=12:\n",
    "        if re.match(r\"^(?=.*[a-z])(?=.*[A-Z])(?=.*[0-9])(?=.*[$#@])\",password):\n",
    "            return True\n",
    "    else:\n",
    "        return False"
   ]
  },
  {
   "cell_type": "code",
   "execution_count": 82,
   "id": "0c82747e",
   "metadata": {},
   "outputs": [
    {
     "name": "stdout",
     "output_type": "stream",
     "text": [
      "['ABd1234@1']\n"
     ]
    }
   ],
   "source": [
    "pwd_list = []\n",
    "for pw in passwords:\n",
    "    if isvalid(pw):\n",
    "        pwd_list.append(pw)\n",
    "print(pwd_list)        "
   ]
  },
  {
   "cell_type": "code",
   "execution_count": null,
   "id": "660ae0aa",
   "metadata": {},
   "outputs": [],
   "source": []
  },
  {
   "cell_type": "code",
   "execution_count": 106,
   "id": "a8a3938c",
   "metadata": {},
   "outputs": [],
   "source": [
    "class Donkey:\n",
    "    def __init__(self,name,age,location):\n",
    "        self.name = name\n",
    "        self.age = age\n",
    "        self.location = location\n",
    "    def sound(self):\n",
    "        print(f\"{self.name} say hee haaaa\")\n",
    "    def locaiton(self):\n",
    "        print(f\"{self.name} belongs to india\")"
   ]
  },
  {
   "cell_type": "code",
   "execution_count": 107,
   "id": "1e05f0b8",
   "metadata": {},
   "outputs": [],
   "source": [
    "my_donkey = Donkey(name=\"priya\",age=31,location=\"pondy\")"
   ]
  },
  {
   "cell_type": "code",
   "execution_count": 108,
   "id": "ccfcc3d2",
   "metadata": {},
   "outputs": [
    {
     "name": "stdout",
     "output_type": "stream",
     "text": [
      "priya is 31 age and blongs to pondy\n"
     ]
    }
   ],
   "source": [
    "print(f\"{my_donkey.name} is {my_donkey.age} age and blongs to {my_donkey.location}\")"
   ]
  },
  {
   "cell_type": "code",
   "execution_count": 109,
   "id": "56212de0",
   "metadata": {},
   "outputs": [
    {
     "data": {
      "text/plain": [
       "<__main__.Donkey at 0x7ff4cafca160>"
      ]
     },
     "execution_count": 109,
     "metadata": {},
     "output_type": "execute_result"
    }
   ],
   "source": [
    "my_donkey"
   ]
  },
  {
   "cell_type": "code",
   "execution_count": 110,
   "id": "77d1e650",
   "metadata": {},
   "outputs": [
    {
     "name": "stdout",
     "output_type": "stream",
     "text": [
      "priya say hee haaaa\n"
     ]
    }
   ],
   "source": [
    "my_donkey.sound()"
   ]
  },
  {
   "cell_type": "code",
   "execution_count": 112,
   "id": "aec9886a",
   "metadata": {},
   "outputs": [
    {
     "name": "stdout",
     "output_type": "stream",
     "text": [
      "priya belongs to india\n"
     ]
    }
   ],
   "source": [
    "my_donkey.locaiton()"
   ]
  },
  {
   "cell_type": "code",
   "execution_count": 113,
   "id": "344d6997",
   "metadata": {},
   "outputs": [],
   "source": [
    "class DivisibleBySeven:\n",
    "    def __init__(self,n):\n",
    "        self.n = n\n",
    "    def generate_divisible(self):\n",
    "        for num in range(self.n+1):\n",
    "            if num%7 == 0:\n",
    "                yield num\n",
    "    "
   ]
  },
  {
   "cell_type": "code",
   "execution_count": 117,
   "id": "6e50d03e",
   "metadata": {},
   "outputs": [
    {
     "name": "stdout",
     "output_type": "stream",
     "text": [
      "Enter your desired range: 50\n"
     ]
    }
   ],
   "source": [
    "n = int(input(\"Enter your desired range: \"))\n",
    "divisible_by_seven_generator = DivisibleBySeven(n).generate_divisible()"
   ]
  },
  {
   "cell_type": "code",
   "execution_count": 120,
   "id": "a40ab162",
   "metadata": {},
   "outputs": [
    {
     "name": "stdout",
     "output_type": "stream",
     "text": [
      "<generator object DivisibleBySeven.generate_divisible at 0x7ff4ca5b2200>\n"
     ]
    }
   ],
   "source": [
    "print(divisible_by_seven_generator)"
   ]
  },
  {
   "cell_type": "code",
   "execution_count": 118,
   "id": "0b569e1c",
   "metadata": {},
   "outputs": [
    {
     "name": "stdout",
     "output_type": "stream",
     "text": [
      "0\n",
      "7\n",
      "14\n",
      "21\n",
      "28\n",
      "35\n",
      "42\n",
      "49\n"
     ]
    }
   ],
   "source": [
    "for no in divisible_by_seven_generator:\n",
    "    print(no)"
   ]
  },
  {
   "cell_type": "code",
   "execution_count": null,
   "id": "88308e26",
   "metadata": {},
   "outputs": [],
   "source": [
    "##p82    Write a program to compute the frequency of the words from the input."
   ]
  },
  {
   "cell_type": "code",
   "execution_count": 122,
   "id": "007c3885",
   "metadata": {},
   "outputs": [
    {
     "name": "stdout",
     "output_type": "stream",
     "text": [
      "Enter a sentence: New to Python or choosing between Python 2 and Python 3? Read Python 2 or Python 3.\n"
     ]
    }
   ],
   "source": [
    "input_sentence = input(\"Enter a sentence: \") # Split the sentence into words\n",
    "words = input_sentence.split()\n",
    "# Create a dictionary to store word frequencies\n",
    "word_freq = {}\n",
    "# Count word frequencies\n",
    "for word in words:\n",
    "# Remove punctuation (., ?) from the word\n",
    "    word = word.strip('.,?')\n",
    "# Convert the word to lowercase to ensure case-insensitive countin \n",
    "    word = word.lower()\n",
    "# Update the word frequency in the dictionary\n",
    "    if word in word_freq:\n",
    "        word_freq[word] += 1 \n",
    "    else:\n",
    "        word_freq[word] = 1"
   ]
  },
  {
   "cell_type": "code",
   "execution_count": 123,
   "id": "467833d6",
   "metadata": {},
   "outputs": [
    {
     "data": {
      "text/plain": [
       "{'new': 1,\n",
       " 'to': 1,\n",
       " 'python': 5,\n",
       " 'or': 2,\n",
       " 'choosing': 1,\n",
       " 'between': 1,\n",
       " '2': 2,\n",
       " 'and': 1,\n",
       " '3': 2,\n",
       " 'read': 1}"
      ]
     },
     "execution_count": 123,
     "metadata": {},
     "output_type": "execute_result"
    }
   ],
   "source": [
    "word_freq"
   ]
  },
  {
   "cell_type": "code",
   "execution_count": 124,
   "id": "910379d5",
   "metadata": {},
   "outputs": [
    {
     "name": "stdout",
     "output_type": "stream",
     "text": [
      "[('2', 2), ('3', 2), ('and', 1), ('between', 1), ('choosing', 1), ('new', 1), ('or', 2), ('python', 5), ('read', 1), ('to', 1)]\n"
     ]
    }
   ],
   "source": [
    "# Sort the words alphanumerically\n",
    "sorted_words = sorted(word_freq.items())\n",
    "print(sorted_words)"
   ]
  },
  {
   "cell_type": "code",
   "execution_count": 125,
   "id": "47d15af8",
   "metadata": {},
   "outputs": [
    {
     "name": "stdout",
     "output_type": "stream",
     "text": [
      "2\n",
      "2:2\n",
      "2\n",
      "3:2\n",
      "1\n",
      "and:1\n",
      "1\n",
      "between:1\n",
      "1\n",
      "choosing:1\n",
      "1\n",
      "new:1\n",
      "2\n",
      "or:2\n",
      "5\n",
      "python:5\n",
      "1\n",
      "read:1\n",
      "1\n",
      "to:1\n"
     ]
    }
   ],
   "source": [
    "for word, frequency in sorted_words: \n",
    "    print(frequency)\n",
    "    print(f\"{word}:{frequency}\")"
   ]
  },
  {
   "cell_type": "code",
   "execution_count": 126,
   "id": "d71f5bcd",
   "metadata": {},
   "outputs": [],
   "source": [
    "def generate_squares(limit):\n",
    "    n=0\n",
    "    while n < limit:\n",
    "        yield n**2\n",
    "        n+=1"
   ]
  },
  {
   "cell_type": "code",
   "execution_count": 127,
   "id": "5d626c9f",
   "metadata": {},
   "outputs": [
    {
     "data": {
      "text/plain": [
       "<generator object generate_squares at 0x7ff4ca222740>"
      ]
     },
     "execution_count": 127,
     "metadata": {},
     "output_type": "execute_result"
    }
   ],
   "source": [
    "generate_squares(5)"
   ]
  },
  {
   "cell_type": "code",
   "execution_count": 129,
   "id": "907b10c2",
   "metadata": {},
   "outputs": [
    {
     "name": "stdout",
     "output_type": "stream",
     "text": [
      "0\n",
      "1\n",
      "4\n",
      "9\n",
      "16\n"
     ]
    }
   ],
   "source": [
    "for i in generate_squares(5):\n",
    "    print(i)"
   ]
  },
  {
   "cell_type": "code",
   "execution_count": 138,
   "id": "4b5cab89",
   "metadata": {},
   "outputs": [
    {
     "data": {
      "text/plain": [
       "[0, 1, 4, 9, 16]"
      ]
     },
     "execution_count": 138,
     "metadata": {},
     "output_type": "execute_result"
    }
   ],
   "source": [
    "##regular funciton\n",
    "def gen_sq(limit):\n",
    "    sq = []\n",
    "    n=0\n",
    "    while n < limit:\n",
    "        sq.append(n**2)\n",
    "        n+=1\n",
    "    return sq\n",
    "\n",
    "gen_sq(5)"
   ]
  },
  {
   "cell_type": "code",
   "execution_count": 139,
   "id": "43a8d18a",
   "metadata": {},
   "outputs": [
    {
     "name": "stdout",
     "output_type": "stream",
     "text": [
      "0\n",
      "1\n",
      "4\n",
      "9\n",
      "16\n"
     ]
    }
   ],
   "source": [
    "for i in gen_sq(5):\n",
    "    print(i)"
   ]
  },
  {
   "cell_type": "code",
   "execution_count": 144,
   "id": "03605049",
   "metadata": {},
   "outputs": [],
   "source": [
    "def divisible_by_5_and_7(n):\n",
    "    for num in range(0,n+1):\n",
    "        if num%5==0 and num%7==0:\n",
    "            yield num"
   ]
  },
  {
   "cell_type": "code",
   "execution_count": 148,
   "id": "0ff514a9",
   "metadata": {},
   "outputs": [
    {
     "name": "stdout",
     "output_type": "stream",
     "text": [
      "Enter the number:100\n",
      "0,35,70\n"
     ]
    }
   ],
   "source": [
    "try:\n",
    "    n = int(input(\"Enter the number:\"))\n",
    "    result = divisible_by_5_and_7(n)\n",
    "#     for n in result:\n",
    "#         print(n)\n",
    "    print(','.join(map(str, result)))\n",
    "except:\n",
    "    print(\"Value Error\")"
   ]
  },
  {
   "cell_type": "code",
   "execution_count": 149,
   "id": "f9fa3baf",
   "metadata": {},
   "outputs": [],
   "source": [
    "def evn_nmb(n):\n",
    "    for i in range(0,n+1):\n",
    "        if i%2 == 0:\n",
    "            yield i\n",
    "    "
   ]
  },
  {
   "cell_type": "code",
   "execution_count": 150,
   "id": "26bedcaf",
   "metadata": {},
   "outputs": [
    {
     "name": "stdout",
     "output_type": "stream",
     "text": [
      "Enter the range of number50\n",
      "0,2,4,6,8,10,12,14,16,18,20,22,24,26,28,30,32,34,36,38,40,42,44,46,48,50\n"
     ]
    }
   ],
   "source": [
    "try:\n",
    "    n = int(input(\"Enter the range of number\"))\n",
    "    result = evn_nmb(n)\n",
    "    print((\",\").join(map(str,result)))\n",
    "except:\n",
    "    print(\"Value Error\")"
   ]
  },
  {
   "cell_type": "code",
   "execution_count": 155,
   "id": "5c153808",
   "metadata": {},
   "outputs": [],
   "source": [
    "def extract_username(email):\n",
    "    parts = email.split(\"@\")\n",
    "    print(len(parts))\n",
    "    if len(parts)==2:\n",
    "        return parts[0]\n",
    "    else:\n",
    "        print(\"invalid username\")"
   ]
  },
  {
   "cell_type": "code",
   "execution_count": 156,
   "id": "5db66370",
   "metadata": {},
   "outputs": [
    {
     "name": "stdout",
     "output_type": "stream",
     "text": [
      "Enter the username:john@google.com\n",
      "2\n",
      "john\n"
     ]
    }
   ],
   "source": [
    "try:\n",
    "    email = input(\"Enter the username:\")\n",
    "    username = extract_username(email)\n",
    "    print(username)\n",
    "except:\n",
    "    print(\"value error\")"
   ]
  },
  {
   "cell_type": "code",
   "execution_count": 161,
   "id": "6491071c",
   "metadata": {},
   "outputs": [],
   "source": [
    "def stutter(word):\n",
    "    if len(word) < 2:\n",
    "        return \"Word must be at least two characters long.\"\n",
    "    stuttered_word = f\"{word[:2]}... {word[:2]}... {word}?\" \n",
    "    return stuttered_word"
   ]
  },
  {
   "cell_type": "code",
   "execution_count": 162,
   "id": "6ce90843",
   "metadata": {},
   "outputs": [
    {
     "name": "stdout",
     "output_type": "stream",
     "text": [
      "in... in... incredible?\n",
      "en... en... enthusiastic?\n",
      "ou... ou... outstanding?\n"
     ]
    }
   ],
   "source": [
    "# Test cases\n",
    "print(stutter(\"incredible\"))\n",
    "print(stutter(\"enthusiastic\"))\n",
    "print(stutter(\"outstanding\"))"
   ]
  },
  {
   "cell_type": "code",
   "execution_count": 163,
   "id": "d4aceec3",
   "metadata": {},
   "outputs": [],
   "source": [
    "import math\n",
    "def radians_to_degrees(radians): \n",
    "    degrees = radians * (180 / math.pi) \n",
    "    return round(degrees, 1)"
   ]
  },
  {
   "cell_type": "code",
   "execution_count": 164,
   "id": "c809d95b",
   "metadata": {},
   "outputs": [
    {
     "name": "stdout",
     "output_type": "stream",
     "text": [
      "57.3\n",
      "1145.9\n",
      "2864.8\n"
     ]
    }
   ],
   "source": [
    "# Test cases\n",
    "print(radians_to_degrees(1))\n",
    "print(radians_to_degrees(20))\n",
    "print(radians_to_degrees(50))"
   ]
  },
  {
   "cell_type": "code",
   "execution_count": 166,
   "id": "c1e49ef5",
   "metadata": {},
   "outputs": [
    {
     "name": "stdout",
     "output_type": "stream",
     "text": [
      "33\n",
      "11\n"
     ]
    }
   ],
   "source": [
    "num=5\n",
    "numerator = 2**num + 1 \n",
    "denominator = 2*num + 1\n",
    "print(numerator)\n",
    "print(denominator)"
   ]
  },
  {
   "cell_type": "code",
   "execution_count": 174,
   "id": "b630ae61",
   "metadata": {},
   "outputs": [],
   "source": [
    "import math\n",
    "def area_of_hexagon(x):\n",
    "    area = (3 * math.sqrt(3) * x**2) / 2 \n",
    "    return round(area,1)"
   ]
  },
  {
   "cell_type": "code",
   "execution_count": 175,
   "id": "4b678586",
   "metadata": {},
   "outputs": [
    {
     "name": "stdout",
     "output_type": "stream",
     "text": [
      "2.6\n",
      "10.4\n",
      "23.4\n"
     ]
    }
   ],
   "source": [
    "print(area_of_hexagon(1))\n",
    "print(area_of_hexagon(2))\n",
    "print(area_of_hexagon(3))"
   ]
  },
  {
   "cell_type": "code",
   "execution_count": null,
   "id": "31e046e2",
   "metadata": {},
   "outputs": [],
   "source": [
    "#Create a function that returns True if a given inequality expression is correct and False otherwise."
   ]
  },
  {
   "cell_type": "code",
   "execution_count": 176,
   "id": "e6e364dc",
   "metadata": {},
   "outputs": [],
   "source": [
    "def correct_signs(expression):\n",
    "    try:\n",
    "        return eval(expression)\n",
    "    except:\n",
    "        return False\n",
    "    "
   ]
  },
  {
   "cell_type": "code",
   "execution_count": 177,
   "id": "e4878687",
   "metadata": {},
   "outputs": [
    {
     "name": "stdout",
     "output_type": "stream",
     "text": [
      "True\n",
      "False\n",
      "True\n"
     ]
    }
   ],
   "source": [
    "print(correct_signs(\"3 < 7 < 11\"))\n",
    "print(correct_signs(\"13 > 44 > 33 < 1\"))\n",
    "print(correct_signs(\"1 < 2 < 6 < 9 > 3\"))"
   ]
  },
  {
   "cell_type": "code",
   "execution_count": 186,
   "id": "b566aea9",
   "metadata": {},
   "outputs": [],
   "source": [
    "def replace_vowels(string, char):\n",
    "    vowels = \"AEIOUaeiou\" # List of vowels to be replaced for vowel in vowels:\n",
    "    for vowel in vowels:\n",
    "        string = string.replace(vowel, char) # Replace each vowel wit return string\n",
    "    return string"
   ]
  },
  {
   "cell_type": "code",
   "execution_count": 187,
   "id": "03acc476",
   "metadata": {},
   "outputs": [
    {
     "name": "stdout",
     "output_type": "stream",
     "text": [
      "th# ##rdv#rk\n",
      "m?nn?? m??s?\n",
      "sh*k*sp**r*\n"
     ]
    }
   ],
   "source": [
    "print(replace_vowels(\"the aardvark\", \"#\"))\n",
    "print(replace_vowels(\"minnie mouse\", \"?\"))\n",
    "print(replace_vowels(\"shakespeare\", \"*\"))"
   ]
  },
  {
   "cell_type": "code",
   "execution_count": 189,
   "id": "a4d94905",
   "metadata": {},
   "outputs": [],
   "source": [
    "def factorial(n):\n",
    "    if n == 0:\n",
    "        return 1\n",
    "    else:\n",
    "        return n*factorial(n-1)"
   ]
  },
  {
   "cell_type": "code",
   "execution_count": 190,
   "id": "73d59087",
   "metadata": {},
   "outputs": [
    {
     "name": "stdout",
     "output_type": "stream",
     "text": [
      "120\n",
      "6\n",
      "1\n",
      "1\n"
     ]
    }
   ],
   "source": [
    "print(factorial(5))\n",
    "print(factorial(3))\n",
    "print(factorial(1))\n",
    "print(factorial(0))"
   ]
  },
  {
   "cell_type": "code",
   "execution_count": 201,
   "id": "61628441",
   "metadata": {},
   "outputs": [
    {
     "name": "stdout",
     "output_type": "stream",
     "text": [
      "[1, 2]\n"
     ]
    }
   ],
   "source": [
    "#p104\n",
    "#filter_list([1, 2, \"a\", \"b\"]) ➞ [1, 2]\n",
    "lst = [1, 2, \"a\", \"b\"]\n",
    "result = []\n",
    "for ele in lst:\n",
    "    if isinstance(ele,int) and ele>=0:\n",
    "        result.append(ele)\n",
    "print(result)"
   ]
  },
  {
   "cell_type": "code",
   "execution_count": 203,
   "id": "ed7afe79",
   "metadata": {},
   "outputs": [
    {
     "data": {
      "text/plain": [
       "[1, 2]"
      ]
     },
     "execution_count": 203,
     "metadata": {},
     "output_type": "execute_result"
    }
   ],
   "source": [
    "result"
   ]
  },
  {
   "cell_type": "code",
   "execution_count": 204,
   "id": "105dbe5e",
   "metadata": {},
   "outputs": [
    {
     "data": {
      "text/plain": [
       "2"
      ]
     },
     "execution_count": 204,
     "metadata": {},
     "output_type": "execute_result"
    }
   ],
   "source": [
    "result[-1]"
   ]
  },
  {
   "cell_type": "code",
   "execution_count": 205,
   "id": "e103915a",
   "metadata": {},
   "outputs": [],
   "source": [
    "#index_of_caps(\"eDaBiT\") ➞ [1, 3, 5]\n",
    "word = \"eDaBiT\"\n",
    "a = [i for i,char in enumerate(word) if char.isupper()]"
   ]
  },
  {
   "cell_type": "code",
   "execution_count": 206,
   "id": "3e895c1f",
   "metadata": {},
   "outputs": [
    {
     "data": {
      "text/plain": [
       "[1, 3, 5]"
      ]
     },
     "execution_count": 206,
     "metadata": {},
     "output_type": "execute_result"
    }
   ],
   "source": [
    "a"
   ]
  },
  {
   "cell_type": "code",
   "execution_count": 208,
   "id": "6537567d",
   "metadata": {},
   "outputs": [],
   "source": [
    "def co(word):\n",
    "    return [i for i,char in enumerate(word) if char.isupper()]"
   ]
  },
  {
   "cell_type": "code",
   "execution_count": 209,
   "id": "8efd854c",
   "metadata": {},
   "outputs": [
    {
     "data": {
      "text/plain": [
       "[1, 3, 4, 6]"
      ]
     },
     "execution_count": 209,
     "metadata": {},
     "output_type": "execute_result"
    }
   ],
   "source": [
    "co(\"eQuINoX\")"
   ]
  },
  {
   "cell_type": "code",
   "execution_count": 210,
   "id": "cd6465a2",
   "metadata": {},
   "outputs": [
    {
     "data": {
      "text/plain": [
       "[1, 2, 3, 4]"
      ]
     },
     "execution_count": 210,
     "metadata": {},
     "output_type": "execute_result"
    }
   ],
   "source": [
    "a=[1, 2, 3, \"a\", \"b\", 4]\n",
    "a1 = [x for x in a if isinstance(x,int)]\n",
    "a1"
   ]
  },
  {
   "cell_type": "code",
   "execution_count": null,
   "id": "2a562646",
   "metadata": {},
   "outputs": [],
   "source": []
  },
  {
   "cell_type": "code",
   "execution_count": null,
   "id": "b32b80bb",
   "metadata": {},
   "outputs": [],
   "source": []
  },
  {
   "cell_type": "code",
   "execution_count": null,
   "id": "2108533a",
   "metadata": {},
   "outputs": [],
   "source": []
  },
  {
   "cell_type": "code",
   "execution_count": null,
   "id": "3a44789d",
   "metadata": {},
   "outputs": [],
   "source": []
  },
  {
   "cell_type": "code",
   "execution_count": null,
   "id": "89d34d7f",
   "metadata": {},
   "outputs": [],
   "source": []
  },
  {
   "cell_type": "code",
   "execution_count": null,
   "id": "11f02656",
   "metadata": {},
   "outputs": [],
   "source": []
  },
  {
   "cell_type": "code",
   "execution_count": null,
   "id": "2cf3f5c2",
   "metadata": {},
   "outputs": [],
   "source": []
  },
  {
   "cell_type": "code",
   "execution_count": null,
   "id": "7309fe36",
   "metadata": {},
   "outputs": [],
   "source": []
  },
  {
   "cell_type": "code",
   "execution_count": null,
   "id": "476086de",
   "metadata": {},
   "outputs": [],
   "source": []
  },
  {
   "cell_type": "code",
   "execution_count": null,
   "id": "b3ebfce8",
   "metadata": {},
   "outputs": [],
   "source": []
  },
  {
   "cell_type": "code",
   "execution_count": null,
   "id": "c6e195f6",
   "metadata": {},
   "outputs": [],
   "source": []
  },
  {
   "cell_type": "code",
   "execution_count": null,
   "id": "657f1975",
   "metadata": {},
   "outputs": [],
   "source": []
  },
  {
   "cell_type": "code",
   "execution_count": null,
   "id": "04e1c514",
   "metadata": {},
   "outputs": [],
   "source": []
  },
  {
   "cell_type": "code",
   "execution_count": null,
   "id": "885a6a8a",
   "metadata": {},
   "outputs": [],
   "source": []
  },
  {
   "cell_type": "code",
   "execution_count": null,
   "id": "32339d94",
   "metadata": {},
   "outputs": [],
   "source": []
  },
  {
   "cell_type": "code",
   "execution_count": null,
   "id": "85e371a0",
   "metadata": {},
   "outputs": [],
   "source": []
  },
  {
   "cell_type": "code",
   "execution_count": null,
   "id": "c16187f5",
   "metadata": {},
   "outputs": [],
   "source": []
  },
  {
   "cell_type": "code",
   "execution_count": null,
   "id": "5d2d33cd",
   "metadata": {},
   "outputs": [],
   "source": []
  },
  {
   "cell_type": "code",
   "execution_count": null,
   "id": "9a640a59",
   "metadata": {},
   "outputs": [],
   "source": []
  },
  {
   "cell_type": "code",
   "execution_count": null,
   "id": "bf8493af",
   "metadata": {},
   "outputs": [],
   "source": []
  },
  {
   "cell_type": "code",
   "execution_count": null,
   "id": "ea83f34a",
   "metadata": {},
   "outputs": [],
   "source": []
  },
  {
   "cell_type": "code",
   "execution_count": null,
   "id": "fb1090d2",
   "metadata": {},
   "outputs": [],
   "source": []
  },
  {
   "cell_type": "code",
   "execution_count": null,
   "id": "5e41a19e",
   "metadata": {},
   "outputs": [],
   "source": []
  },
  {
   "cell_type": "code",
   "execution_count": null,
   "id": "80d28d67",
   "metadata": {},
   "outputs": [],
   "source": []
  },
  {
   "cell_type": "code",
   "execution_count": null,
   "id": "5ed4c15b",
   "metadata": {},
   "outputs": [],
   "source": []
  },
  {
   "cell_type": "code",
   "execution_count": null,
   "id": "d3dcaa1b",
   "metadata": {},
   "outputs": [],
   "source": []
  },
  {
   "cell_type": "code",
   "execution_count": null,
   "id": "b39e275d",
   "metadata": {},
   "outputs": [],
   "source": []
  }
 ],
 "metadata": {
  "kernelspec": {
   "display_name": "Python 3 (ipykernel)",
   "language": "python",
   "name": "python3"
  },
  "language_info": {
   "codemirror_mode": {
    "name": "ipython",
    "version": 3
   },
   "file_extension": ".py",
   "mimetype": "text/x-python",
   "name": "python",
   "nbconvert_exporter": "python",
   "pygments_lexer": "ipython3",
   "version": "3.8.8"
  }
 },
 "nbformat": 4,
 "nbformat_minor": 5
}
