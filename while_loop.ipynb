{
 "cells": [
  {
   "cell_type": "code",
   "execution_count": 1,
   "id": "b38ce074",
   "metadata": {},
   "outputs": [
    {
     "data": {
      "text/plain": [
       "'while loop is a control flow statement that allows you to repeatedly \\nexecute a block of code as long as a certain condition is true.'"
      ]
     },
     "execution_count": 1,
     "metadata": {},
     "output_type": "execute_result"
    }
   ],
   "source": [
    "\"\"\"while loop is a control flow statement that allows you to repeatedly \n",
    "execute a block of code as long as a certain condition is true.\"\"\""
   ]
  },
  {
   "cell_type": "code",
   "execution_count": 3,
   "id": "ac7ba658",
   "metadata": {},
   "outputs": [],
   "source": [
    "#while condition:\n",
    "    # Code to be executed while the condition is true\n"
   ]
  },
  {
   "cell_type": "code",
   "execution_count": 5,
   "id": "87c251a1",
   "metadata": {},
   "outputs": [
    {
     "name": "stdout",
     "output_type": "stream",
     "text": [
      "count: 0\n",
      "count: 1\n",
      "count: 2\n",
      "count: 3\n",
      "count: 4\n"
     ]
    }
   ],
   "source": [
    "#In this example, the while loop is used to print the value of count while it is less than 5. \n",
    "count = 0\n",
    "while count<5:\n",
    "    print(\"count:\", count)\n",
    "    count+=1"
   ]
  },
  {
   "cell_type": "code",
   "execution_count": 6,
   "id": "a66779c0",
   "metadata": {},
   "outputs": [
    {
     "name": "stdout",
     "output_type": "stream",
     "text": [
      "T- 5\n",
      "T- 4\n",
      "T- 3\n",
      "T- 2\n",
      "T- 1\n"
     ]
    }
   ],
   "source": [
    "## count down\n",
    "count = 5\n",
    "while count>0:\n",
    "    print(\"T-\", count)\n",
    "    count -=1\n",
    "    "
   ]
  },
  {
   "cell_type": "code",
   "execution_count": null,
   "id": "2c5573d9",
   "metadata": {},
   "outputs": [],
   "source": [
    "#Example 2: User Input Validation"
   ]
  },
  {
   "cell_type": "code",
   "execution_count": 9,
   "id": "eb6c40b2",
   "metadata": {},
   "outputs": [
    {
     "name": "stdout",
     "output_type": "stream",
     "text": [
      "Enter the password:kdjf\n",
      "access denied\n",
      "Enter the password:secret\n",
      "access granted\n"
     ]
    }
   ],
   "source": [
    "password = \"\"\n",
    "while password != \"secret\":\n",
    "    password = input(\"Enter the password:\")\n",
    "    if password == \"secret\":\n",
    "        print(\"access granted\")\n",
    "    else:\n",
    "        print(\"access denied\")"
   ]
  },
  {
   "cell_type": "code",
   "execution_count": 15,
   "id": "62113fd9",
   "metadata": {},
   "outputs": [
    {
     "name": "stdout",
     "output_type": "stream",
     "text": [
      "Factorial: 120\n"
     ]
    }
   ],
   "source": [
    "#factorial\n",
    "n=5\n",
    "factorial = 1\n",
    "while n>0:\n",
    "    factorial *= n \n",
    "    n-=1\n",
    "print(\"Factorial:\", factorial)"
   ]
  },
  {
   "cell_type": "code",
   "execution_count": 16,
   "id": "fbb625b8",
   "metadata": {},
   "outputs": [
    {
     "name": "stdout",
     "output_type": "stream",
     "text": [
      "Menu:\n",
      "1. Option 1\n",
      "2. Option 2\n",
      "3. Option 3\n",
      "4. Exit\n",
      "Enter your choice: 3\n",
      "Option 3 selected\n",
      "Menu:\n",
      "1. Option 1\n",
      "2. Option 2\n",
      "3. Option 3\n",
      "4. Exit\n",
      "Enter your choice: 4\n",
      "Exiting...\n"
     ]
    }
   ],
   "source": [
    "choice = 0\n",
    "while choice != 4:\n",
    "    print(\"Menu:\")\n",
    "    print(\"1. Option 1\")\n",
    "    print(\"2. Option 2\")\n",
    "    print(\"3. Option 3\")\n",
    "    print(\"4. Exit\")\n",
    "    choice = int(input(\"Enter your choice: \"))\n",
    "    if choice == 1:\n",
    "        print(\"Option 1 selected\")\n",
    "    elif choice == 2:\n",
    "        print(\"Option 2 selected\")\n",
    "    elif choice == 3:\n",
    "        print(\"Option 3 selected\")\n",
    "    elif choice == 4:\n",
    "        print(\"Exiting...\")\n",
    "    else:\n",
    "        print(\"Invalid choice!\")\n"
   ]
  },
  {
   "cell_type": "code",
   "execution_count": 17,
   "id": "5aa86a25",
   "metadata": {},
   "outputs": [
    {
     "name": "stdout",
     "output_type": "stream",
     "text": [
      "Guess a number between 1 and 100: 4\n",
      "Too low!\n",
      "Guess a number between 1 and 100: 0\n",
      "Too low!\n",
      "Guess a number between 1 and 100: 50\n",
      "Too high!\n",
      "Guess a number between 1 and 100: 40\n",
      "Too low!\n",
      "Guess a number between 1 and 100: 45\n",
      "Too low!\n",
      "Guess a number between 1 and 100: 49\n",
      "Too high!\n",
      "Guess a number between 1 and 100: 48\n",
      "Correct guess!\n"
     ]
    }
   ],
   "source": [
    "import random\n",
    "\n",
    "number = random.randint(1, 100)\n",
    "guess = 0\n",
    "while guess != number:\n",
    "    guess = int(input(\"Guess a number between 1 and 100: \"))\n",
    "    if guess < number:\n",
    "        print(\"Too low!\")\n",
    "    elif guess > number:\n",
    "        print(\"Too high!\")\n",
    "    else:\n",
    "        print(\"Correct guess!\")\n"
   ]
  },
  {
   "cell_type": "code",
   "execution_count": 18,
   "id": "f56e4bee",
   "metadata": {},
   "outputs": [
    {
     "name": "stdout",
     "output_type": "stream",
     "text": [
      "[2, 3, 5, 7, 11, 13, 17, 19, 23, 29, 31, 37, 41, 43, 47, 53, 59, 61, 67, 71, 73, 79, 83, 89, 97]\n"
     ]
    }
   ],
   "source": [
    "start = 2\n",
    "end = 100\n",
    "prime_numbers = []\n",
    "while start <= end:\n",
    "    is_prime = True\n",
    "    for i in range(2, int(start ** 0.5) + 1):\n",
    "        if start % i == 0:\n",
    "            is_prime = False\n",
    "            break\n",
    "    if is_prime:\n",
    "        prime_numbers.append(start)\n",
    "    start += 1\n",
    "print(prime_numbers)\n",
    "\n"
   ]
  },
  {
   "cell_type": "code",
   "execution_count": 20,
   "id": "36e91eb8",
   "metadata": {},
   "outputs": [
    {
     "name": "stdout",
     "output_type": "stream",
     "text": [
      "Enter your guess (1-100): 50\n",
      "Too low!\n",
      "Enter your guess (1-100): 60\n",
      "Too high!\n",
      "Enter your guess (1-100): 55\n",
      "Too high!\n",
      "Enter your guess (1-100): 52\n",
      "Too high!\n",
      "Enter your guess (1-100): 51\n",
      "Congratulations! You guessed the number.\n",
      "Attempts: 5\n"
     ]
    }
   ],
   "source": [
    "def number_guessing_game():\n",
    "    secret_number = random.randint(1, 100)\n",
    "    attempts = 0\n",
    "    guessed = False\n",
    "\n",
    "    while not guessed:\n",
    "        guess = int(input(\"Enter your guess (1-100): \"))\n",
    "        attempts += 1\n",
    "\n",
    "        if guess < secret_number:\n",
    "            print(\"Too low!\")\n",
    "        elif guess > secret_number:\n",
    "            print(\"Too high!\")\n",
    "        else:\n",
    "            guessed = True\n",
    "            print(\"Congratulations! You guessed the number.\")\n",
    "    \n",
    "    print(\"Attempts:\", attempts)\n",
    "\n",
    "number_guessing_game()\n",
    "\n"
   ]
  },
  {
   "cell_type": "code",
   "execution_count": 21,
   "id": "04cc37a8",
   "metadata": {},
   "outputs": [
    {
     "name": "stdout",
     "output_type": "stream",
     "text": [
      "Alice : 85\n",
      "Bob : 92\n",
      "Charlie : 78\n",
      "David : 90\n"
     ]
    }
   ],
   "source": [
    "student_grades = {\n",
    "    \"Alice\": 85,\n",
    "    \"Bob\": 92,\n",
    "    \"Charlie\": 78,\n",
    "    \"David\": 90\n",
    "}\n",
    "\n",
    "# Iterate through the dictionary using a while loop\n",
    "keys = list(student_grades.keys())\n",
    "index = 0\n",
    "while index < len(keys):\n",
    "    name = keys[index]\n",
    "    grade = student_grades[name]\n",
    "    print(name, \":\", grade)\n",
    "    index += 1\n"
   ]
  },
  {
   "cell_type": "code",
   "execution_count": 22,
   "id": "de6494ac",
   "metadata": {},
   "outputs": [
    {
     "name": "stdout",
     "output_type": "stream",
     "text": [
      "Name: Alice | Age: 25 | City: New York\n",
      "Name: Bob | Age: 30 | City: London\n",
      "Name: Charlie | Age: 35 | City: Paris\n"
     ]
    }
   ],
   "source": [
    "import pandas as pd\n",
    "import numpy as np\n",
    "\n",
    "# Create a sample DataFrame\n",
    "data = {\n",
    "    'Name': ['Alice', 'Bob', 'Charlie'],\n",
    "    'Age': [25, 30, 35],\n",
    "    'City': ['New York', 'London', 'Paris']\n",
    "}\n",
    "df = pd.DataFrame(data)\n",
    "\n",
    "# Convert DataFrame to a NumPy array\n",
    "array = df.values\n",
    "\n",
    "# Iterate through the array using a while loop\n",
    "index = 0\n",
    "while index < len(array):\n",
    "    row = array[index]\n",
    "    name = row[0]\n",
    "    age = row[1]\n",
    "    city = row[2]\n",
    "    print(\"Name:\", name, \"| Age:\", age, \"| City:\", city)\n",
    "    index += 1\n"
   ]
  },
  {
   "cell_type": "code",
   "execution_count": 23,
   "id": "dd52d910",
   "metadata": {},
   "outputs": [
    {
     "name": "stdout",
     "output_type": "stream",
     "text": [
      "Product: Apple | Total Cost: 10.0\n",
      "Product: Banana | Total Cost: 10.0\n",
      "Product: Orange | Total Cost: 12.0\n"
     ]
    }
   ],
   "source": [
    "import pandas as pd\n",
    "\n",
    "# Create a sample DataFrame\n",
    "data = {\n",
    "    'Product': ['Apple', 'Banana', 'Orange'],\n",
    "    'Price': [1.0, 0.5, 0.8],\n",
    "    'Quantity': [10, 20, 15]\n",
    "}\n",
    "df = pd.DataFrame(data)\n",
    "\n",
    "# Calculate the total cost for each product\n",
    "index = 0\n",
    "while index < len(df):\n",
    "    product = df.loc[index, 'Product']\n",
    "    price = df.loc[index, 'Price']\n",
    "    quantity = df.loc[index, 'Quantity']\n",
    "    total_cost = price * quantity\n",
    "    print(\"Product:\", product, \"| Total Cost:\", total_cost)\n",
    "    index += 1\n"
   ]
  },
  {
   "cell_type": "code",
   "execution_count": null,
   "id": "8cddf8f1",
   "metadata": {},
   "outputs": [],
   "source": []
  },
  {
   "cell_type": "code",
   "execution_count": null,
   "id": "851341a1",
   "metadata": {},
   "outputs": [],
   "source": []
  },
  {
   "cell_type": "code",
   "execution_count": null,
   "id": "2ddec233",
   "metadata": {},
   "outputs": [],
   "source": []
  },
  {
   "cell_type": "code",
   "execution_count": null,
   "id": "6c7a578d",
   "metadata": {},
   "outputs": [],
   "source": []
  },
  {
   "cell_type": "code",
   "execution_count": null,
   "id": "bef4b65d",
   "metadata": {},
   "outputs": [],
   "source": []
  },
  {
   "cell_type": "code",
   "execution_count": null,
   "id": "388034f5",
   "metadata": {},
   "outputs": [],
   "source": []
  },
  {
   "cell_type": "code",
   "execution_count": null,
   "id": "da08a113",
   "metadata": {},
   "outputs": [],
   "source": []
  }
 ],
 "metadata": {
  "kernelspec": {
   "display_name": "Python 3 (ipykernel)",
   "language": "python",
   "name": "python3"
  },
  "language_info": {
   "codemirror_mode": {
    "name": "ipython",
    "version": 3
   },
   "file_extension": ".py",
   "mimetype": "text/x-python",
   "name": "python",
   "nbconvert_exporter": "python",
   "pygments_lexer": "ipython3",
   "version": "3.8.0"
  }
 },
 "nbformat": 4,
 "nbformat_minor": 5
}
