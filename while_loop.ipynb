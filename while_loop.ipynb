{
 "cells": [
  {
   "cell_type": "code",
   "execution_count": 1,
   "id": "afee8f9f",
   "metadata": {},
   "outputs": [
    {
     "data": {
      "text/plain": [
       "'while loop is a control flow statement that allows you to repeatedly \\nexecute a block of code as long as a certain condition is true.'"
      ]
     },
     "execution_count": 1,
     "metadata": {},
     "output_type": "execute_result"
    }
   ],
   "source": [
    "\"\"\"while loop is a control flow statement that allows you to repeatedly \n",
    "execute a block of code as long as a certain condition is true.\"\"\""
   ]
  },
  {
   "cell_type": "code",
   "execution_count": 3,
   "id": "fc13b1dc",
   "metadata": {},
   "outputs": [],
   "source": [
    "#while condition:\n",
    "    # Code to be executed while the condition is true\n"
   ]
  },
  {
   "cell_type": "code",
   "execution_count": 5,
   "id": "5e28318f",
   "metadata": {},
   "outputs": [
    {
     "name": "stdout",
     "output_type": "stream",
     "text": [
      "count: 0\n",
      "count: 1\n",
      "count: 2\n",
      "count: 3\n",
      "count: 4\n"
     ]
    }
   ],
   "source": [
    "#In this example, the while loop is used to print the value of count while it is less than 5. \n",
    "count = 0\n",
    "while count<5:\n",
    "    print(\"count:\", count)\n",
    "    count+=1"
   ]
  },
  {
   "cell_type": "code",
   "execution_count": 6,
   "id": "a4d12daa",
   "metadata": {},
   "outputs": [
    {
     "name": "stdout",
     "output_type": "stream",
     "text": [
      "T- 5\n",
      "T- 4\n",
      "T- 3\n",
      "T- 2\n",
      "T- 1\n"
     ]
    }
   ],
   "source": [
    "## count down\n",
    "count = 5\n",
    "while count>0:\n",
    "    print(\"T-\", count)\n",
    "    count -=1\n",
    "    "
   ]
  },
  {
   "cell_type": "code",
   "execution_count": null,
   "id": "258aab71",
   "metadata": {},
   "outputs": [],
   "source": [
    "#Example 2: User Input Validation"
   ]
  },
  {
   "cell_type": "code",
   "execution_count": 9,
   "id": "c8f9ee18",
   "metadata": {},
   "outputs": [
    {
     "name": "stdout",
     "output_type": "stream",
     "text": [
      "Enter the password:kdjf\n",
      "access denied\n",
      "Enter the password:secret\n",
      "access granted\n"
     ]
    }
   ],
   "source": [
    "password = \"\"\n",
    "while password != \"secret\":\n",
    "    password = input(\"Enter the password:\")\n",
    "    if password == \"secret\":\n",
    "        print(\"access granted\")\n",
    "    else:\n",
    "        print(\"access denied\")"
   ]
  },
  {
   "cell_type": "code",
   "execution_count": 15,
   "id": "8dabb74b",
   "metadata": {},
   "outputs": [
    {
     "name": "stdout",
     "output_type": "stream",
     "text": [
      "Factorial: 120\n"
     ]
    }
   ],
   "source": [
    "#factorial\n",
    "n=5\n",
    "factorial = 1\n",
    "while n>0:\n",
    "    factorial *= n \n",
    "    n-=1\n",
    "print(\"Factorial:\", factorial)"
   ]
  },
  {
   "cell_type": "code",
   "execution_count": 16,
   "id": "9dceced1",
   "metadata": {},
   "outputs": [
    {
     "name": "stdout",
     "output_type": "stream",
     "text": [
      "Menu:\n",
      "1. Option 1\n",
      "2. Option 2\n",
      "3. Option 3\n",
      "4. Exit\n",
      "Enter your choice: 3\n",
      "Option 3 selected\n",
      "Menu:\n",
      "1. Option 1\n",
      "2. Option 2\n",
      "3. Option 3\n",
      "4. Exit\n",
      "Enter your choice: 4\n",
      "Exiting...\n"
     ]
    }
   ],
   "source": [
    "choice = 0\n",
    "while choice != 4:\n",
    "    print(\"Menu:\")\n",
    "    print(\"1. Option 1\")\n",
    "    print(\"2. Option 2\")\n",
    "    print(\"3. Option 3\")\n",
    "    print(\"4. Exit\")\n",
    "    choice = int(input(\"Enter your choice: \"))\n",
    "    if choice == 1:\n",
    "        print(\"Option 1 selected\")\n",
    "    elif choice == 2:\n",
    "        print(\"Option 2 selected\")\n",
    "    elif choice == 3:\n",
    "        print(\"Option 3 selected\")\n",
    "    elif choice == 4:\n",
    "        print(\"Exiting...\")\n",
    "    else:\n",
    "        print(\"Invalid choice!\")\n"
   ]
  },
  {
   "cell_type": "code",
   "execution_count": 17,
   "id": "50560380",
   "metadata": {},
   "outputs": [
    {
     "name": "stdout",
     "output_type": "stream",
     "text": [
      "Guess a number between 1 and 100: 4\n",
      "Too low!\n",
      "Guess a number between 1 and 100: 0\n",
      "Too low!\n",
      "Guess a number between 1 and 100: 50\n",
      "Too high!\n",
      "Guess a number between 1 and 100: 40\n",
      "Too low!\n",
      "Guess a number between 1 and 100: 45\n",
      "Too low!\n",
      "Guess a number between 1 and 100: 49\n",
      "Too high!\n",
      "Guess a number between 1 and 100: 48\n",
      "Correct guess!\n"
     ]
    }
   ],
   "source": [
    "import random\n",
    "\n",
    "number = random.randint(1, 100)\n",
    "guess = 0\n",
    "while guess != number:\n",
    "    guess = int(input(\"Guess a number between 1 and 100: \"))\n",
    "    if guess < number:\n",
    "        print(\"Too low!\")\n",
    "    elif guess > number:\n",
    "        print(\"Too high!\")\n",
    "    else:\n",
    "        print(\"Correct guess!\")\n"
   ]
  },
  {
   "cell_type": "code",
   "execution_count": 1,
   "id": "f0af8ca1",
   "metadata": {},
   "outputs": [
    {
     "name": "stdout",
     "output_type": "stream",
     "text": [
      "Enter your password: 12345\n",
      "Access granted!\n"
     ]
    }
   ],
   "source": [
    "password = \"\"\n",
    "max_attempts = 3\n",
    "attempt = 1\n",
    "\n",
    "while attempt <= max_attempts:\n",
    "    password = input(\"Enter your password: \")\n",
    "    if password == \"12345\":\n",
    "        print(\"Access granted!\")\n",
    "        break\n",
    "    else:\n",
    "        print(\"Invalid password. Please try again.\")\n",
    "        attempt += 1\n",
    "else:\n",
    "    print(\"Maximum attempts reached. Access denied.\")\n"
   ]
  },
  {
   "cell_type": "code",
   "execution_count": 2,
   "id": "87087373",
   "metadata": {},
   "outputs": [
    {
     "name": "stdout",
     "output_type": "stream",
     "text": [
      "Value not found in the list\n"
     ]
    }
   ],
   "source": [
    "###loop else\n",
    "numbers = [1, 3, 5, 7, 9]\n",
    "search_value = 6\n",
    "\n",
    "index = 0\n",
    "while index < len(numbers):\n",
    "    if numbers[index] == search_value:\n",
    "        print(\"Value found!\")\n",
    "        break\n",
    "    index += 1\n",
    "else:\n",
    "    print(\"Value not found in the list\")\n"
   ]
  },
  {
   "cell_type": "code",
   "execution_count": 4,
   "id": "938aa006",
   "metadata": {},
   "outputs": [
    {
     "name": "stdout",
     "output_type": "stream",
     "text": [
      "3\n",
      "Invalid age for Bob. Age must be positive.\n"
     ]
    }
   ],
   "source": [
    "import pandas as pd\n",
    "\n",
    "data = {\n",
    "    'Name': ['John', 'Alice', 'Bob'],\n",
    "    'Age': [25, 30, -5],  # Invalid age value\n",
    "    'Country': ['USA', 'Canada', 'USA']\n",
    "}\n",
    "\n",
    "df = pd.DataFrame(data)\n",
    "print(len(df))\n",
    "\n",
    "row_index = 0\n",
    "while row_index < len(df):\n",
    "    row = df.loc[row_index]\n",
    "    #print(df.loc[row_index])\n",
    "    if row['Age'] < 0:\n",
    "        print(f\"Invalid age for {row['Name']}. Age must be positive.\")\n",
    "        break\n",
    "    row_index += 1\n",
    "else:\n",
    "    print(\"Data validation passed for all rows.\")\n",
    "\n",
    "# ... More code to handle or process the validated data\n"
   ]
  },
  {
   "cell_type": "code",
   "execution_count": 5,
   "id": "7a45bfec",
   "metadata": {},
   "outputs": [
    {
     "name": "stdout",
     "output_type": "stream",
     "text": [
      "Data transformation completed.\n",
      "    Name  Age Country\n",
      "0   John   25     USA\n",
      "1  Alice   30  Canada\n",
      "2    Bob   20     USA\n"
     ]
    }
   ],
   "source": [
    "import pandas as pd\n",
    "\n",
    "data = {\n",
    "    'Name': ['John', 'Alice', 'Bob'],\n",
    "    'Age': [25, 30, 20],\n",
    "    'Country': ['USA', 'Canada', 'USA']\n",
    "}\n",
    "\n",
    "df = pd.DataFrame(data)\n",
    "\n",
    "row_index = 0\n",
    "while row_index < len(df):\n",
    "    row = df.loc[row_index]\n",
    "    if row['Country'] == 'USA':\n",
    "        # Perform some conditional data transformation\n",
    "        if row['Age'] >= 30:\n",
    "            df.loc[row_index, 'Age'] -= 5\n",
    "    row_index += 1\n",
    "else:\n",
    "    print(\"Data transformation completed.\")\n",
    "\n",
    "print(df)\n"
   ]
  },
  {
   "cell_type": "code",
   "execution_count": 18,
   "id": "0f06b3ee",
   "metadata": {},
   "outputs": [
    {
     "name": "stdout",
     "output_type": "stream",
     "text": [
      "[2, 3, 5, 7, 11, 13, 17, 19, 23, 29, 31, 37, 41, 43, 47, 53, 59, 61, 67, 71, 73, 79, 83, 89, 97]\n"
     ]
    }
   ],
   "source": [
    "\n",
    "start = 2\n",
    "end = 100\n",
    "prime_numbers = []\n",
    "while start <= end:\n",
    "    is_prime = True\n",
    "    for i in range(2, int(start ** 0.5) + 1):\n",
    "        if start % i == 0:\n",
    "            is_prime = False\n",
    "            break\n",
    "    if is_prime:\n",
    "        prime_numbers.append(start)\n",
    "    start += 1\n",
    "print(prime_numbers)\n",
    "\n"
   ]
  },
  {
   "cell_type": "code",
   "execution_count": 20,
   "id": "cf8a83d2",
   "metadata": {},
   "outputs": [
    {
     "name": "stdout",
     "output_type": "stream",
     "text": [
      "Enter your guess (1-100): 50\n",
      "Too low!\n",
      "Enter your guess (1-100): 60\n",
      "Too high!\n",
      "Enter your guess (1-100): 55\n",
      "Too high!\n",
      "Enter your guess (1-100): 52\n",
      "Too high!\n",
      "Enter your guess (1-100): 51\n",
      "Congratulations! You guessed the number.\n",
      "Attempts: 5\n"
     ]
    }
   ],
   "source": [
    "def number_guessing_game():\n",
    "    secret_number = random.randint(1, 100)\n",
    "    attempts = 0\n",
    "    guessed = False\n",
    "\n",
    "    while not guessed:\n",
    "        guess = int(input(\"Enter your guess (1-100): \"))\n",
    "        attempts += 1\n",
    "\n",
    "        if guess < secret_number:\n",
    "            print(\"Too low!\")\n",
    "        elif guess > secret_number:\n",
    "            print(\"Too high!\")\n",
    "        else:\n",
    "            guessed = True\n",
    "            print(\"Congratulations! You guessed the number.\")\n",
    "    \n",
    "    print(\"Attempts:\", attempts)\n",
    "\n",
    "number_guessing_game()\n",
    "\n"
   ]
  },
  {
   "cell_type": "code",
   "execution_count": 21,
   "id": "8a3fb483",
   "metadata": {},
   "outputs": [
    {
     "name": "stdout",
     "output_type": "stream",
     "text": [
      "Alice : 85\n",
      "Bob : 92\n",
      "Charlie : 78\n",
      "David : 90\n"
     ]
    }
   ],
   "source": [
    "student_grades = {\n",
    "    \"Alice\": 85,\n",
    "    \"Bob\": 92,\n",
    "    \"Charlie\": 78,\n",
    "    \"David\": 90\n",
    "}\n",
    "\n",
    "# Iterate through the dictionary using a while loop\n",
    "keys = list(student_grades.keys())\n",
    "index = 0\n",
    "while index < len(keys):\n",
    "    name = keys[index]\n",
    "    grade = student_grades[name]\n",
    "    print(name, \":\", grade)\n",
    "    index += 1\n"
   ]
  },
  {
   "cell_type": "code",
   "execution_count": 22,
   "id": "6d7d58c0",
   "metadata": {},
   "outputs": [
    {
     "name": "stdout",
     "output_type": "stream",
     "text": [
      "Name: Alice | Age: 25 | City: New York\n",
      "Name: Bob | Age: 30 | City: London\n",
      "Name: Charlie | Age: 35 | City: Paris\n"
     ]
    }
   ],
   "source": [
    "import pandas as pd\n",
    "import numpy as np\n",
    "\n",
    "# Create a sample DataFrame\n",
    "data = {\n",
    "    'Name': ['Alice', 'Bob', 'Charlie'],\n",
    "    'Age': [25, 30, 35],\n",
    "    'City': ['New York', 'London', 'Paris']\n",
    "}\n",
    "df = pd.DataFrame(data)\n",
    "\n",
    "# Convert DataFrame to a NumPy array\n",
    "array = df.values\n",
    "\n",
    "# Iterate through the array using a while loop\n",
    "index = 0\n",
    "while index < len(array):\n",
    "    row = array[index]\n",
    "    name = row[0]\n",
    "    age = row[1]\n",
    "    city = row[2]\n",
    "    print(\"Name:\", name, \"| Age:\", age, \"| City:\", city)\n",
    "    index += 1\n"
   ]
  },
  {
   "cell_type": "code",
   "execution_count": 23,
   "id": "8ec94887",
   "metadata": {},
   "outputs": [
    {
     "name": "stdout",
     "output_type": "stream",
     "text": [
      "Product: Apple | Total Cost: 10.0\n",
      "Product: Banana | Total Cost: 10.0\n",
      "Product: Orange | Total Cost: 12.0\n"
     ]
    }
   ],
   "source": [
    "import pandas as pd\n",
    "\n",
    "# Create a sample DataFrame\n",
    "data = {\n",
    "    'Product': ['Apple', 'Banana', 'Orange'],\n",
    "    'Price': [1.0, 0.5, 0.8],\n",
    "    'Quantity': [10, 20, 15]\n",
    "}\n",
    "df = pd.DataFrame(data)\n",
    "\n",
    "# Calculate the total cost for each product\n",
    "index = 0\n",
    "while index < len(df):\n",
    "    product = df.loc[index, 'Product']\n",
    "    price = df.loc[index, 'Price']\n",
    "    quantity = df.loc[index, 'Quantity']\n",
    "    total_cost = price * quantity\n",
    "    print(\"Product:\", product, \"| Total Cost:\", total_cost)\n",
    "    index += 1\n"
   ]
  },
  {
   "cell_type": "code",
   "execution_count": 24,
   "id": "f7c4c760",
   "metadata": {},
   "outputs": [
    {
     "name": "stdout",
     "output_type": "stream",
     "text": [
      "5\n",
      "4\n",
      "3\n",
      "2\n",
      "1\n",
      "Time's up!\n"
     ]
    }
   ],
   "source": [
    "import time\n",
    "def countdown_timer(seconds):\n",
    "    while seconds > 0:\n",
    "        print(seconds)\n",
    "        seconds -= 1\n",
    "        time.sleep(1)\n",
    "    print(\"Time's up!\")\n",
    "\n",
    "countdown_timer(5)\n"
   ]
  },
  {
   "cell_type": "code",
   "execution_count": 25,
   "id": "08d4a6f3",
   "metadata": {},
   "outputs": [
    {
     "name": "stdout",
     "output_type": "stream",
     "text": [
      "Name: Charlie, City: Paris\n",
      "Name: Eve, City: Sydney\n"
     ]
    }
   ],
   "source": [
    "import pandas as pd\n",
    "\n",
    "# Create a sample DataFrame\n",
    "data = {\n",
    "    'Name': ['Alice', 'Bob', 'Charlie', 'David', 'Eve'],\n",
    "    'Age': [25, 30, 35, 28, 32],\n",
    "    'City': ['New York', 'London', 'Paris', 'Tokyo', 'Sydney']\n",
    "}\n",
    "df = pd.DataFrame(data)\n",
    "\n",
    "# Filter and process specific rows using a while loop\n",
    "index = 0\n",
    "filtered_data = []\n",
    "while index < len(df):\n",
    "    age = df.loc[index, 'Age']\n",
    "    if age > 30:\n",
    "        name = df.loc[index, 'Name']\n",
    "        city = df.loc[index, 'City']\n",
    "        processed_data = f\"Name: {name}, City: {city}\"\n",
    "        filtered_data.append(processed_data)\n",
    "    index += 1\n",
    "\n",
    "# Print the filtered and processed data\n",
    "for data in filtered_data:\n",
    "    print(data)\n"
   ]
  },
  {
   "cell_type": "code",
   "execution_count": 26,
   "id": "aac8101c",
   "metadata": {},
   "outputs": [
    {
     "name": "stdout",
     "output_type": "stream",
     "text": [
      "Age Group: 25 | Average Age: 30.0\n",
      "Age Group: 30 | Average Age: 30.0\n",
      "Age Group: 35 | Average Age: 30.0\n",
      "Age Group: 28 | Average Age: 30.0\n",
      "Age Group: 32 | Average Age: 30.0\n"
     ]
    }
   ],
   "source": [
    "import pandas as pd\n",
    "\n",
    "# Create a sample DataFrame\n",
    "data = {\n",
    "    'Name': ['Alice', 'Bob', 'Charlie', 'David', 'Eve'],\n",
    "    'Age': [25, 30, 35, 28, 32],\n",
    "    'City': ['New York', 'London', 'Paris', 'Tokyo', 'Sydney']\n",
    "}\n",
    "df = pd.DataFrame(data)\n",
    "\n",
    "# Group rows based on age and calculate the average age using a while loop\n",
    "index = 0\n",
    "age_groups = {}\n",
    "while index < len(df):\n",
    "    age = df.loc[index, 'Age']\n",
    "    city = df.loc[index, 'City']\n",
    "    if age not in age_groups:\n",
    "        age_groups[age] = []\n",
    "    age_groups[age].append(city)\n",
    "    index += 1\n",
    "\n",
    "# Calculate the average age for each group\n",
    "averages = {}\n",
    "for age, cities in age_groups.items():\n",
    "    avg_age = sum(age_groups.keys()) / len(age_groups)\n",
    "    averages[age] = avg_age\n",
    "\n",
    "# Print the average age for each group\n",
    "for age, avg_age in averages.items():\n",
    "    print(f\"Age Group: {age} | Average Age: {avg_age}\")\n"
   ]
  },
  {
   "cell_type": "code",
   "execution_count": 2,
   "id": "06dfe5be",
   "metadata": {},
   "outputs": [
    {
     "name": "stdout",
     "output_type": "stream",
     "text": [
      "Collecting sketch\n",
      "  Downloading sketch-0.4.2-py3-none-any.whl (16 kB)\n",
      "Collecting lambdaprompt>=0.5.4\n",
      "  Downloading lambdaprompt-0.5.5-py3-none-any.whl (14 kB)\n",
      "Collecting datasketches>=4.0.0\n",
      "  Downloading datasketches-4.1.0-cp38-cp38-macosx_11_0_arm64.whl (762 kB)\n",
      "\u001b[2K     \u001b[90m━━━━━━━━━━━━━━━━━━━━━━━━━━━━━━━━━━━━━━━\u001b[0m \u001b[32m762.0/762.0 KB\u001b[0m \u001b[31m4.2 MB/s\u001b[0m eta \u001b[36m0:00:00\u001b[0ma \u001b[36m0:00:01\u001b[0m\n",
      "\u001b[?25hRequirement already satisfied: packaging in /Users/sunilkumar/.pyenv/versions/3.8.16/lib/python3.8/site-packages (from sketch) (23.1)\n",
      "Requirement already satisfied: pandas>=1.3.0 in /Users/sunilkumar/.pyenv/versions/3.8.16/lib/python3.8/site-packages (from sketch) (2.0.1)\n",
      "Collecting datasketch>=1.5.8\n",
      "  Downloading datasketch-1.5.9-py3-none-any.whl (76 kB)\n",
      "\u001b[2K     \u001b[90m━━━━━━━━━━━━━━━━━━━━━━━━━━━━━━━━━━━━━━━━\u001b[0m \u001b[32m76.7/76.7 KB\u001b[0m \u001b[31m5.5 MB/s\u001b[0m eta \u001b[36m0:00:00\u001b[0m\n",
      "\u001b[?25hRequirement already satisfied: ipython in /Users/sunilkumar/.pyenv/versions/3.8.16/lib/python3.8/site-packages (from sketch) (8.12.2)\n",
      "Collecting scipy>=1.0.0\n",
      "  Using cached scipy-1.10.1-cp38-cp38-macosx_12_0_arm64.whl (28.8 MB)\n",
      "Requirement already satisfied: numpy>=1.11 in /Users/sunilkumar/.pyenv/versions/3.8.16/lib/python3.8/site-packages (from datasketch>=1.5.8->sketch) (1.24.3)\n",
      "Collecting python-dotenv\n",
      "  Downloading python_dotenv-1.0.0-py3-none-any.whl (19 kB)\n",
      "Requirement already satisfied: nest-asyncio in /Users/sunilkumar/.pyenv/versions/3.8.16/lib/python3.8/site-packages (from lambdaprompt>=0.5.4->sketch) (1.5.6)\n",
      "Collecting requests\n",
      "  Downloading requests-2.31.0-py3-none-any.whl (62 kB)\n",
      "\u001b[2K     \u001b[90m━━━━━━━━━━━━━━━━━━━━━━━━━━━━━━━━━━━━━━━━\u001b[0m \u001b[32m62.6/62.6 KB\u001b[0m \u001b[31m5.7 MB/s\u001b[0m eta \u001b[36m0:00:00\u001b[0m\n",
      "\u001b[?25hCollecting aiohttp\n",
      "  Using cached aiohttp-3.8.4-cp38-cp38-macosx_11_0_arm64.whl (337 kB)\n",
      "Collecting jinja2\n",
      "  Using cached Jinja2-3.1.2-py3-none-any.whl (133 kB)\n",
      "Collecting pyyaml\n",
      "  Downloading PyYAML-6.0.tar.gz (124 kB)\n",
      "\u001b[2K     \u001b[90m━━━━━━━━━━━━━━━━━━━━━━━━━━━━━━━━━━━━━━━\u001b[0m \u001b[32m125.0/125.0 KB\u001b[0m \u001b[31m6.7 MB/s\u001b[0m eta \u001b[36m0:00:00\u001b[0m\n",
      "\u001b[?25h  Installing build dependencies ... \u001b[?25ldone\n",
      "\u001b[?25h  Getting requirements to build wheel ... \u001b[?25ldone\n",
      "\u001b[?25h  Preparing metadata (pyproject.toml) ... \u001b[?25ldone\n",
      "\u001b[?25hCollecting tenacity\n",
      "  Downloading tenacity-8.2.2-py3-none-any.whl (24 kB)\n",
      "Collecting pydantic\n",
      "  Downloading pydantic-1.10.9-cp38-cp38-macosx_11_0_arm64.whl (2.5 MB)\n",
      "\u001b[2K     \u001b[90m━━━━━━━━━━━━━━━━━━━━━━━━━━━━━━━━━━━━━━━━\u001b[0m \u001b[32m2.5/2.5 MB\u001b[0m \u001b[31m10.1 MB/s\u001b[0m eta \u001b[36m0:00:00\u001b[0ma \u001b[36m0:00:01\u001b[0m\n",
      "\u001b[?25hRequirement already satisfied: tzdata>=2022.1 in /Users/sunilkumar/.pyenv/versions/3.8.16/lib/python3.8/site-packages (from pandas>=1.3.0->sketch) (2023.3)\n",
      "Requirement already satisfied: pytz>=2020.1 in /Users/sunilkumar/.pyenv/versions/3.8.16/lib/python3.8/site-packages (from pandas>=1.3.0->sketch) (2023.3)\n",
      "Requirement already satisfied: python-dateutil>=2.8.2 in /Users/sunilkumar/.pyenv/versions/3.8.16/lib/python3.8/site-packages (from pandas>=1.3.0->sketch) (2.8.2)\n",
      "Requirement already satisfied: prompt-toolkit!=3.0.37,<3.1.0,>=3.0.30 in /Users/sunilkumar/.pyenv/versions/3.8.16/lib/python3.8/site-packages (from ipython->sketch) (3.0.38)\n",
      "Requirement already satisfied: pygments>=2.4.0 in /Users/sunilkumar/.pyenv/versions/3.8.16/lib/python3.8/site-packages (from ipython->sketch) (2.15.1)\n",
      "Requirement already satisfied: matplotlib-inline in /Users/sunilkumar/.pyenv/versions/3.8.16/lib/python3.8/site-packages (from ipython->sketch) (0.1.6)\n",
      "Requirement already satisfied: traitlets>=5 in /Users/sunilkumar/.pyenv/versions/3.8.16/lib/python3.8/site-packages (from ipython->sketch) (5.9.0)\n",
      "Requirement already satisfied: stack-data in /Users/sunilkumar/.pyenv/versions/3.8.16/lib/python3.8/site-packages (from ipython->sketch) (0.6.2)\n",
      "Requirement already satisfied: pexpect>4.3 in /Users/sunilkumar/.pyenv/versions/3.8.16/lib/python3.8/site-packages (from ipython->sketch) (4.8.0)\n",
      "Requirement already satisfied: decorator in /Users/sunilkumar/.pyenv/versions/3.8.16/lib/python3.8/site-packages (from ipython->sketch) (5.1.1)\n",
      "Requirement already satisfied: appnope in /Users/sunilkumar/.pyenv/versions/3.8.16/lib/python3.8/site-packages (from ipython->sketch) (0.1.3)\n",
      "Requirement already satisfied: jedi>=0.16 in /Users/sunilkumar/.pyenv/versions/3.8.16/lib/python3.8/site-packages (from ipython->sketch) (0.18.2)\n",
      "Requirement already satisfied: typing-extensions in /Users/sunilkumar/.pyenv/versions/3.8.16/lib/python3.8/site-packages (from ipython->sketch) (4.5.0)\n",
      "Requirement already satisfied: backcall in /Users/sunilkumar/.pyenv/versions/3.8.16/lib/python3.8/site-packages (from ipython->sketch) (0.2.0)\n",
      "Requirement already satisfied: pickleshare in /Users/sunilkumar/.pyenv/versions/3.8.16/lib/python3.8/site-packages (from ipython->sketch) (0.7.5)\n",
      "Requirement already satisfied: parso<0.9.0,>=0.8.0 in /Users/sunilkumar/.pyenv/versions/3.8.16/lib/python3.8/site-packages (from jedi>=0.16->ipython->sketch) (0.8.3)\n",
      "Requirement already satisfied: ptyprocess>=0.5 in /Users/sunilkumar/.pyenv/versions/3.8.16/lib/python3.8/site-packages (from pexpect>4.3->ipython->sketch) (0.7.0)\n",
      "Requirement already satisfied: wcwidth in /Users/sunilkumar/.pyenv/versions/3.8.16/lib/python3.8/site-packages (from prompt-toolkit!=3.0.37,<3.1.0,>=3.0.30->ipython->sketch) (0.2.6)\n",
      "Requirement already satisfied: six>=1.5 in /Users/sunilkumar/.pyenv/versions/3.8.16/lib/python3.8/site-packages (from python-dateutil>=2.8.2->pandas>=1.3.0->sketch) (1.16.0)\n",
      "Collecting aiosignal>=1.1.2\n",
      "  Downloading aiosignal-1.3.1-py3-none-any.whl (7.6 kB)\n",
      "Collecting multidict<7.0,>=4.5\n",
      "  Downloading multidict-6.0.4-cp38-cp38-macosx_11_0_arm64.whl (29 kB)\n",
      "Collecting frozenlist>=1.1.1\n",
      "  Downloading frozenlist-1.3.3-cp38-cp38-macosx_11_0_arm64.whl (35 kB)\n",
      "Collecting attrs>=17.3.0\n",
      "  Downloading attrs-23.1.0-py3-none-any.whl (61 kB)\n",
      "\u001b[2K     \u001b[90m━━━━━━━━━━━━━━━━━━━━━━━━━━━━━━━━━━━━━━━━\u001b[0m \u001b[32m61.2/61.2 KB\u001b[0m \u001b[31m5.6 MB/s\u001b[0m eta \u001b[36m0:00:00\u001b[0m\n",
      "\u001b[?25hCollecting async-timeout<5.0,>=4.0.0a3\n",
      "  Downloading async_timeout-4.0.2-py3-none-any.whl (5.8 kB)\n",
      "Collecting charset-normalizer<4.0,>=2.0\n",
      "  Using cached charset_normalizer-3.1.0-cp38-cp38-macosx_11_0_arm64.whl (121 kB)\n",
      "Collecting yarl<2.0,>=1.0\n",
      "  Downloading yarl-1.9.2-cp38-cp38-macosx_11_0_arm64.whl (62 kB)\n",
      "\u001b[2K     \u001b[90m━━━━━━━━━━━━━━━━━━━━━━━━━━━━━━━━━━━━━━━━\u001b[0m \u001b[32m62.3/62.3 KB\u001b[0m \u001b[31m5.8 MB/s\u001b[0m eta \u001b[36m0:00:00\u001b[0m\n",
      "\u001b[?25hCollecting MarkupSafe>=2.0\n",
      "  Downloading MarkupSafe-2.1.3-cp38-cp38-macosx_10_9_universal2.whl (17 kB)\n",
      "Collecting certifi>=2017.4.17\n",
      "  Using cached certifi-2023.5.7-py3-none-any.whl (156 kB)\n",
      "Collecting idna<4,>=2.5\n",
      "  Using cached idna-3.4-py3-none-any.whl (61 kB)\n",
      "Collecting urllib3<3,>=1.21.1\n",
      "  Downloading urllib3-2.0.3-py3-none-any.whl (123 kB)\n",
      "\u001b[2K     \u001b[90m━━━━━━━━━━━━━━━━━━━━━━━━━━━━━━━━━━━━━━━\u001b[0m \u001b[32m123.6/123.6 KB\u001b[0m \u001b[31m6.9 MB/s\u001b[0m eta \u001b[36m0:00:00\u001b[0m\n",
      "\u001b[?25hRequirement already satisfied: asttokens>=2.1.0 in /Users/sunilkumar/.pyenv/versions/3.8.16/lib/python3.8/site-packages (from stack-data->ipython->sketch) (2.2.1)\n",
      "Requirement already satisfied: executing>=1.2.0 in /Users/sunilkumar/.pyenv/versions/3.8.16/lib/python3.8/site-packages (from stack-data->ipython->sketch) (1.2.0)\n",
      "Requirement already satisfied: pure-eval in /Users/sunilkumar/.pyenv/versions/3.8.16/lib/python3.8/site-packages (from stack-data->ipython->sketch) (0.2.2)\n",
      "Building wheels for collected packages: pyyaml\n",
      "  Building wheel for pyyaml (pyproject.toml) ... \u001b[?25ldone\n",
      "\u001b[?25h  Created wheel for pyyaml: filename=PyYAML-6.0-cp38-cp38-macosx_13_0_arm64.whl size=45336 sha256=98964e7b41dd0acc5d05a3a53c49d25a689773894a8834e96ce016c7f1e6777a\n",
      "  Stored in directory: /Users/sunilkumar/Library/Caches/pip/wheels/52/84/66/50912fd7bf1639a31758e40bd4312602e104a8eca1e0da9645\n",
      "Successfully built pyyaml\n",
      "Installing collected packages: urllib3, tenacity, scipy, pyyaml, python-dotenv, pydantic, multidict, MarkupSafe, idna, frozenlist, datasketches, charset-normalizer, certifi, attrs, async-timeout, yarl, requests, jinja2, datasketch, aiosignal, aiohttp, lambdaprompt, sketch\n",
      "Successfully installed MarkupSafe-2.1.3 aiohttp-3.8.4 aiosignal-1.3.1 async-timeout-4.0.2 attrs-23.1.0 certifi-2023.5.7 charset-normalizer-3.1.0 datasketch-1.5.9 datasketches-4.1.0 frozenlist-1.3.3 idna-3.4 jinja2-3.1.2 lambdaprompt-0.5.5 multidict-6.0.4 pydantic-1.10.9 python-dotenv-1.0.0 pyyaml-6.0 requests-2.31.0 scipy-1.10.1 sketch-0.4.2 tenacity-8.2.2 urllib3-2.0.3 yarl-1.9.2\n",
      "\u001b[33mWARNING: You are using pip version 22.0.4; however, version 23.1.2 is available.\n",
      "You should consider upgrading via the '/Users/sunilkumar/.pyenv/versions/3.8.16/bin/python -m pip install --upgrade pip' command.\u001b[0m\u001b[33m\n",
      "\u001b[0mNote: you may need to restart the kernel to use updated packages.\n"
     ]
    }
   ],
   "source": [
    "pip install sketch"
   ]
  },
  {
   "cell_type": "code",
   "execution_count": null,
   "id": "a295a795",
   "metadata": {},
   "outputs": [],
   "source": []
  },
  {
   "cell_type": "code",
   "execution_count": 3,
   "id": "6b5542f1",
   "metadata": {},
   "outputs": [],
   "source": [
    "import sketch"
   ]
  },
  {
   "cell_type": "code",
   "execution_count": null,
   "id": "61bf9644",
   "metadata": {},
   "outputs": [],
   "source": []
  },
  {
   "cell_type": "code",
   "execution_count": null,
   "id": "696c916e",
   "metadata": {},
   "outputs": [],
   "source": []
  },
  {
   "cell_type": "code",
   "execution_count": null,
   "id": "ff35f946",
   "metadata": {},
   "outputs": [],
   "source": []
  },
  {
   "cell_type": "code",
   "execution_count": null,
   "id": "f4dc540f",
   "metadata": {},
   "outputs": [],
   "source": []
  },
  {
   "cell_type": "code",
   "execution_count": null,
   "id": "6abf5400",
   "metadata": {},
   "outputs": [],
   "source": []
  },
  {
   "cell_type": "code",
   "execution_count": null,
   "id": "1e6d28b7",
   "metadata": {},
   "outputs": [],
   "source": []
  },
  {
   "cell_type": "code",
   "execution_count": null,
   "id": "4a8ac481",
   "metadata": {},
   "outputs": [],
   "source": []
  }
 ],
 "metadata": {
  "kernelspec": {
   "display_name": "Python 3 (ipykernel)",
   "language": "python",
   "name": "python3"
  },
  "language_info": {
   "codemirror_mode": {
    "name": "ipython",
    "version": 3
   },
   "file_extension": ".py",
   "mimetype": "text/x-python",
   "name": "python",
   "nbconvert_exporter": "python",
   "pygments_lexer": "ipython3",
   "version": "3.8.16"
  }
 },
 "nbformat": 4,
 "nbformat_minor": 5
}
