{
 "cells": [
  {
   "cell_type": "code",
   "execution_count": 1,
   "id": "7cb2cb4f",
   "metadata": {},
   "outputs": [],
   "source": [
    "import pandas as pd\n",
    "import numpy as np"
   ]
  },
  {
   "cell_type": "code",
   "execution_count": null,
   "id": "571c3b14",
   "metadata": {},
   "outputs": [],
   "source": [
    "##dictionary\n",
    "# Creating a Dictionary\n",
    "person = {'name': 'John', 'age': 30, 'country': 'USA'}\n",
    "\n",
    "# Accessing Values\n",
    "print(person['name'])     # Output: John\n",
    "print(person.get('age'))  # Output: 30\n",
    "\n",
    "# Modifying Values\n",
    "person['age'] = 31\n",
    "person['country'] = 'Canada'\n",
    "print(person)  # Output: {'name': 'John', 'age': 31, 'country': 'Canada'}\n",
    "\n",
    "# Adding a New Key-Value Pair\n",
    "person['occupation'] = 'Engineer'\n",
    "print(person)  # Output: {'name': 'John', 'age': 31, 'country': 'Canada', 'occupation': 'Engineer'}\n",
    "\n",
    "# Removing a Key-Value Pair\n",
    "del person['age']\n",
    "# or\n",
    "person.pop('age')\n",
    "print(person)  # Output: {'name': 'John', 'country': 'Canada'}\n",
    "\n",
    "# Checking if a Key Exists\n",
    "if 'age' in person:\n",
    "    print(\"Age exists\")\n",
    "else:\n",
    "    print(\"Age does not exist\")\n",
    "\n",
    "# Iterating Over a Dictionary\n",
    "for key in person:\n",
    "    print(key)\n",
    "\n",
    "for value in person.values():\n",
    "    print(value)\n",
    "\n",
    "for key, value in person.items():\n",
    "    print(key, value)\n",
    "\n",
    "# Length of a Dictionary\n",
    "print(len(person))  # Output: 2\n"
   ]
  },
  {
   "cell_type": "code",
   "execution_count": 7,
   "id": "475374d3",
   "metadata": {},
   "outputs": [
    {
     "name": "stdout",
     "output_type": "stream",
     "text": [
      "dict_keys(['name', 'age'])\n",
      "dict_values(['John', 25])\n",
      "dict_items([('name', 'John'), ('age', 25)])\n",
      "dict_values(['John', 25])\n",
      "25\n"
     ]
    }
   ],
   "source": [
    "my_dict = {\"name\": \"John\", \"age\": 25}\n",
    "keys = my_dict.keys()\n",
    "print(keys)\n",
    "values = my_dict.values()\n",
    "print(values)\n",
    "items = my_dict.items()\n",
    "print(items)\n",
    "value = my_dict.get(\"name\")\n",
    "print(values)\n",
    "popped_value = my_dict.pop(\"age\")\n",
    "print(popped_value)\n"
   ]
  },
  {
   "cell_type": "code",
   "execution_count": 8,
   "id": "7c0f18d6",
   "metadata": {},
   "outputs": [
    {
     "name": "stdout",
     "output_type": "stream",
     "text": [
      "    Name  Age      City\n",
      "0   John   25  New York\n",
      "1   Emma   28    London\n",
      "2  David   32     Paris\n"
     ]
    }
   ],
   "source": [
    "import pandas as pd\n",
    "\n",
    "# Sample dictionary with multiple lists\n",
    "data = {\n",
    "    'Name': ['John', 'Emma', 'David'],\n",
    "    'Age': [25, 28, 32],\n",
    "    'City': ['New York', 'London', 'Paris']\n",
    "}\n",
    "\n",
    "# Convert dictionary to DataFrame\n",
    "df = pd.DataFrame(data)\n",
    "\n",
    "# Print the DataFrame\n",
    "print(df)\n"
   ]
  },
  {
   "cell_type": "markdown",
   "id": "2a533eda",
   "metadata": {},
   "source": [
    "# Dictionary comprehension"
   ]
  },
  {
   "cell_type": "code",
   "execution_count": 9,
   "id": "8c56750d",
   "metadata": {},
   "outputs": [
    {
     "name": "stdout",
     "output_type": "stream",
     "text": [
      "{1: 1, 2: 4, 3: 9, 4: 16, 5: 25}\n"
     ]
    }
   ],
   "source": [
    "# Create a dictionary of numbers and their squares\n",
    "numbers = [1, 2, 3, 4, 5]\n",
    "squared_dict = {num: num**2 for num in numbers}\n",
    "print(squared_dict)\n"
   ]
  },
  {
   "cell_type": "code",
   "execution_count": 10,
   "id": "15b01bfc",
   "metadata": {},
   "outputs": [
    {
     "name": "stdout",
     "output_type": "stream",
     "text": [
      "{2: 4, 4: 16}\n"
     ]
    }
   ],
   "source": [
    "# Create a dictionary of even numbers and their squares\n",
    "numbers = [1, 2, 3, 4, 5]\n",
    "even_squares = {num: num**2 for num in numbers if num%2 == 0}\n",
    "print(even_squares)\n"
   ]
  },
  {
   "cell_type": "code",
   "execution_count": 11,
   "id": "5aaaf446",
   "metadata": {},
   "outputs": [
    {
     "name": "stdout",
     "output_type": "stream",
     "text": [
      "{'apple': 5, 'banana': 6, 'orange': 6}\n"
     ]
    }
   ],
   "source": [
    "# Create a dictionary of words and their lengths\n",
    "words = ['apple', 'banana', 'orange']\n",
    "word_lengths = {word: len(word) for word in words}\n",
    "print(word_lengths)\n"
   ]
  },
  {
   "cell_type": "code",
   "execution_count": 12,
   "id": "18490de1",
   "metadata": {},
   "outputs": [
    {
     "name": "stdout",
     "output_type": "stream",
     "text": [
      "{1: 'a', 2: 'b', 3: 'c'}\n"
     ]
    }
   ],
   "source": [
    "# Original dictionary\n",
    "original_dict = {'a': 1, 'b': 2, 'c': 3}\n",
    "\n",
    "# Reverse the dictionary (swap keys and values)\n",
    "reversed_dict = {value: key for key, value in original_dict.items()}\n",
    "print(reversed_dict)\n"
   ]
  },
  {
   "cell_type": "code",
   "execution_count": 13,
   "id": "2af51293",
   "metadata": {},
   "outputs": [
    {
     "name": "stdout",
     "output_type": "stream",
     "text": [
      "{'banana': 8}\n"
     ]
    }
   ],
   "source": [
    "# Original dictionary\n",
    "original_dict = {'apple': 5, 'banana': 8, 'orange': 3}\n",
    "\n",
    "# Filter the dictionary to keep only items with values greater than 5\n",
    "filtered_dict = {key: value for key, value in original_dict.items() if value > 5}\n",
    "print(filtered_dict)\n"
   ]
  },
  {
   "cell_type": "code",
   "execution_count": 14,
   "id": "8010c13f",
   "metadata": {},
   "outputs": [
    {
     "name": "stdout",
     "output_type": "stream",
     "text": [
      "{'APPLE': 10, 'BANANA': 16, 'ORANGE': 6}\n"
     ]
    }
   ],
   "source": [
    "# Original dictionary\n",
    "original_dict = {'apple': 5, 'banana': 8, 'orange': 3}\n",
    "\n",
    "# Create a new dictionary with uppercase keys and values multiplied by 2\n",
    "new_dict = {key.upper(): value * 2 for key, value in original_dict.items()}\n",
    "print(new_dict)\n"
   ]
  },
  {
   "cell_type": "code",
   "execution_count": 15,
   "id": "bbc5848e",
   "metadata": {},
   "outputs": [
    {
     "name": "stdout",
     "output_type": "stream",
     "text": [
      "{'a': 1, 'b': 2, 'c': 3}\n"
     ]
    }
   ],
   "source": [
    "# Lists of keys and values\n",
    "keys = ['a', 'b', 'c']\n",
    "values = [1, 2, 3]\n",
    "\n",
    "# Create a dictionary by combining the lists\n",
    "combined_dict = {k:v for k,v in zip(keys,values)}\n",
    "print(combined_dict)\n"
   ]
  },
  {
   "cell_type": "code",
   "execution_count": 19,
   "id": "05e92ce4",
   "metadata": {},
   "outputs": [
    {
     "name": "stdout",
     "output_type": "stream",
     "text": [
      "{'person1': 'John', 'person2': 'Emma', 'person3': 'David'}\n"
     ]
    }
   ],
   "source": [
    "# Original dictionary with nested dictionaries\n",
    "original_dict = {\n",
    "    'person1': {'name': 'John', 'age': 25},\n",
    "    'person2': {'name': 'Emma', 'age': 28},\n",
    "    'person3': {'name': 'David', 'age': 32}\n",
    "}\n",
    "\n",
    "# Create a new dictionary with only names of persons\n",
    "names_dict = {key: value['name'] for key, value in original_dict.items()}\n",
    "print(names_dict)\n"
   ]
  },
  {
   "cell_type": "code",
   "execution_count": 20,
   "id": "bbe65a7d",
   "metadata": {},
   "outputs": [
    {
     "name": "stdout",
     "output_type": "stream",
     "text": [
      "{'apple': 5, 'banana': 16, 'orange': 3}\n"
     ]
    }
   ],
   "source": [
    "# Original dictionary\n",
    "original_dict = {'apple': 5, 'banana': 8, 'orange': 3}\n",
    "\n",
    "# Create a new dictionary with values doubled if they are even\n",
    "new_dict = {key:value*2 if value %2==0 else value for key,value in original_dict.items()}\n",
    "print(new_dict)\n"
   ]
  },
  {
   "cell_type": "code",
   "execution_count": 25,
   "id": "1e47f803",
   "metadata": {},
   "outputs": [
    {
     "name": "stdout",
     "output_type": "stream",
     "text": [
      "          name  age      city occupation\n",
      "person1   John   25  New York        NaN\n",
      "person2   Emma   28    London   Engineer\n",
      "person3  David   32     Paris        NaN\n"
     ]
    }
   ],
   "source": [
    "import pandas as pd\n",
    "\n",
    "# Sample nested dictionary with different lengths\n",
    "data = {\n",
    "    'person1': {'name': 'John', 'age': 25, 'city': 'New York'},\n",
    "    'person2': {'name': 'Emma', 'age': 28, 'city': 'London', 'occupation': 'Engineer'},\n",
    "    'person3': {'name': 'David', 'age': 32, 'city': 'Paris'}\n",
    "}\n",
    "\n",
    "# Convert nested dictionary to DataFrame\n",
    "df = pd.DataFrame.from_dict(data, orient='index')\n",
    "#df = pd.DataFrame(data)\n",
    "# Print the DataFrame\n",
    "print(df)\n"
   ]
  },
  {
   "cell_type": "markdown",
   "id": "3c6e362c",
   "metadata": {},
   "source": [
    "# Dictionary methods"
   ]
  },
  {
   "cell_type": "code",
   "execution_count": 26,
   "id": "844fae1f",
   "metadata": {},
   "outputs": [
    {
     "name": "stdout",
     "output_type": "stream",
     "text": [
      "dict_items([('a', 1), ('b', 2), ('c', 3)])\n",
      "returns the items as a tuple\n"
     ]
    }
   ],
   "source": [
    "my_dict = {'a': 1, 'b': 2, 'c': 3}\n",
    "items = my_dict.items()\n",
    "print(items)  # dict_items([('a', 1), ('b', 2), ('c', 3)])\n",
    "print(\"returns the items as a tuple\")"
   ]
  },
  {
   "cell_type": "code",
   "execution_count": 27,
   "id": "8dc843b5",
   "metadata": {},
   "outputs": [
    {
     "name": "stdout",
     "output_type": "stream",
     "text": [
      "1\n",
      "0\n"
     ]
    }
   ],
   "source": [
    "my_dict = {'a': 1, 'b': 2, 'c': 3}\n",
    "value = my_dict.get('a')\n",
    "print(value)  # 1\n",
    "\n",
    "value = my_dict.get('d', 0)\n",
    "print(value)  # 0\n"
   ]
  },
  {
   "cell_type": "code",
   "execution_count": 28,
   "id": "18e8072b",
   "metadata": {},
   "outputs": [
    {
     "name": "stdout",
     "output_type": "stream",
     "text": [
      "2\n",
      "{'a': 1, 'c': 3}\n",
      "0\n"
     ]
    }
   ],
   "source": [
    "my_dict = {'a': 1, 'b': 2, 'c': 3}\n",
    "value = my_dict.pop('b')\n",
    "print(value)  # 2\n",
    "print(my_dict)  # {'a': 1, 'c': 3}\n",
    "\n",
    "value = my_dict.pop('d', 0)\n",
    "print(value)  # 0\n"
   ]
  },
  {
   "cell_type": "code",
   "execution_count": 29,
   "id": "713b428f",
   "metadata": {},
   "outputs": [
    {
     "name": "stdout",
     "output_type": "stream",
     "text": [
      "{'a': 1, 'b': 2, 'c': 3, 'd': 4}\n"
     ]
    }
   ],
   "source": [
    "my_dict = {'a': 1, 'b': 2}\n",
    "other_dict = {'c': 3, 'd': 4}\n",
    "my_dict.update(other_dict)\n",
    "print(my_dict)  # {'a': 1, 'b': 2, 'c': 3, 'd': 4}\n"
   ]
  },
  {
   "cell_type": "code",
   "execution_count": 30,
   "id": "0af8dbe6",
   "metadata": {},
   "outputs": [
    {
     "name": "stdout",
     "output_type": "stream",
     "text": [
      "c 3\n",
      "{'a': 1, 'b': 2}\n"
     ]
    }
   ],
   "source": [
    "my_dict = {'a': 1, 'b': 2, 'c': 3}\n",
    "key, value = my_dict.popitem()\n",
    "print(key, value)  # 'c' 3\n",
    "print(my_dict)  # {'a': 1, 'b': 2}\n"
   ]
  },
  {
   "cell_type": "code",
   "execution_count": 31,
   "id": "eebd6401",
   "metadata": {},
   "outputs": [
    {
     "name": "stdout",
     "output_type": "stream",
     "text": [
      "{'a': 0, 'b': 0, 'c': 0}\n"
     ]
    }
   ],
   "source": [
    "keys = ['a', 'b', 'c']\n",
    "default_value = 0\n",
    "my_dict = dict.fromkeys(keys, default_value)\n",
    "print(my_dict)  # {'a': 0, 'b': 0, 'c': 0}\n"
   ]
  },
  {
   "cell_type": "markdown",
   "id": "4bb81f13",
   "metadata": {},
   "source": [
    "# random"
   ]
  },
  {
   "cell_type": "code",
   "execution_count": 32,
   "id": "1b486c9e",
   "metadata": {},
   "outputs": [
    {
     "name": "stdout",
     "output_type": "stream",
     "text": [
      "{'key1': 'value1', 'key2': 'value2', 'key3': 'value3', 'key4': 'value4'}\n"
     ]
    }
   ],
   "source": [
    "my_dict = {}\n",
    "\n",
    "for i in range(1, 5):\n",
    "    key = f'key{i}'\n",
    "    value = f'value{i}'\n",
    "    my_dict.update({key: value})\n",
    "\n",
    "print(my_dict)\n"
   ]
  },
  {
   "cell_type": "code",
   "execution_count": 33,
   "id": "6cd46000",
   "metadata": {},
   "outputs": [
    {
     "name": "stdout",
     "output_type": "stream",
     "text": [
      "{'key2': 'value2', 'key4': 'value4', 'key6': 'value6', 'key8': 'value8'}\n"
     ]
    }
   ],
   "source": [
    "my_dict = {}\n",
    "\n",
    "for i in range(1, 10):\n",
    "    if i % 2 == 0:\n",
    "        key = f'key{i}'\n",
    "        value = f'value{i}'\n",
    "        my_dict.update({key: value})\n",
    "\n",
    "print(my_dict)\n"
   ]
  },
  {
   "cell_type": "code",
   "execution_count": 34,
   "id": "e77caf01",
   "metadata": {},
   "outputs": [
    {
     "name": "stdout",
     "output_type": "stream",
     "text": [
      "{'Lorem': 1, 'ipsum': 1, 'dolor': 1, 'sit': 1, 'amet': 1, 'consectetur': 3, 'adipiscing': 1, 'elit.': 1, 'Integer': 1, 'velit': 1, 'id': 1, 'aliquet.': 1}\n"
     ]
    }
   ],
   "source": [
    "text = \"Lorem ipsum dolor sit amet consectetur adipiscing elit. Integer consectetur consectetur velit id aliquet.\"\n",
    "words = text.split()\n",
    "\n",
    "word_count = {}\n",
    "for word in words:\n",
    "    word_count[word] = word_count.get(word, 0) + 1\n",
    "\n",
    "print(word_count)\n"
   ]
  },
  {
   "cell_type": "code",
   "execution_count": 35,
   "id": "f131e48b",
   "metadata": {},
   "outputs": [
    {
     "name": "stdout",
     "output_type": "stream",
     "text": [
      "{'Fruit': ['Apple', 'Orange', 'Banana'], 'Vegetable': ['Carrot', 'Broccoli']}\n"
     ]
    }
   ],
   "source": [
    "products = [\n",
    "    {'name': 'Apple', 'category': 'Fruit'},\n",
    "    {'name': 'Carrot', 'category': 'Vegetable'},\n",
    "    {'name': 'Orange', 'category': 'Fruit'},\n",
    "    {'name': 'Broccoli', 'category': 'Vegetable'},\n",
    "    {'name': 'Banana', 'category': 'Fruit'}\n",
    "]\n",
    "\n",
    "category_dict = {}\n",
    "for product in products:\n",
    "    category = product['category']\n",
    "    if category in category_dict:\n",
    "        category_dict[category].append(product['name'])\n",
    "    else:\n",
    "        category_dict[category] = [product['name']]\n",
    "\n",
    "print(category_dict)\n"
   ]
  },
  {
   "cell_type": "code",
   "execution_count": null,
   "id": "16392d67",
   "metadata": {},
   "outputs": [],
   "source": []
  },
  {
   "cell_type": "code",
   "execution_count": 50,
   "id": "db5cb5de",
   "metadata": {},
   "outputs": [],
   "source": [
    "products = [\n",
    "    {'name': 'Apple', 'category': 'Fruit'},\n",
    "    {'name': 'Carrot', 'category': 'Vegetable'},\n",
    "    {'name': 'Orange', 'category': 'Fruit'},\n",
    "    {'name': 'Broccoli', 'category': 'Vegetable'},\n",
    "    {'name': 'Banana', 'category': 'Fruit'}\n",
    "]\n"
   ]
  },
  {
   "cell_type": "code",
   "execution_count": 55,
   "id": "7ca6685c",
   "metadata": {},
   "outputs": [
    {
     "name": "stdout",
     "output_type": "stream",
     "text": [
      "Fruit\n",
      "{'Fruit': ['Apple']}\n",
      "Vegetable\n",
      "{'Fruit': ['Apple'], 'Vegetable': ['Carrot']}\n",
      "Fruit\n",
      "{'Fruit': ['Apple', 'Orange'], 'Vegetable': ['Carrot']}\n",
      "Vegetable\n",
      "{'Fruit': ['Apple', 'Orange'], 'Vegetable': ['Carrot', 'Broccoli']}\n",
      "Fruit\n",
      "{'Fruit': ['Apple', 'Orange', 'Banana'], 'Vegetable': ['Carrot', 'Broccoli']}\n"
     ]
    }
   ],
   "source": [
    "category_dict = {}\n",
    "for product in products:\n",
    "    category = product['category']\n",
    "    print(category)\n",
    "    if category in category_dict:\n",
    "        category_dict[category].append(product['name'])\n",
    "    else:\n",
    "        category_dict[category] = [product['name']]\n",
    "    print(category_dict)\n",
    "    "
   ]
  },
  {
   "cell_type": "markdown",
   "id": "b652b463",
   "metadata": {},
   "source": [
    "# Tuples"
   ]
  },
  {
   "cell_type": "code",
   "execution_count": 56,
   "id": "00cfb953",
   "metadata": {},
   "outputs": [
    {
     "data": {
      "text/plain": [
       "'Tuples are useful when you have a collection of values that should not be modified, \\nsuch as coordinates, database records, or function return values. \\nTheir immutability makes them suitable for scenarios where you want to ensure the integrity \\nof the data and prevent accidental modifications.'"
      ]
     },
     "execution_count": 56,
     "metadata": {},
     "output_type": "execute_result"
    }
   ],
   "source": [
    "\"\"\"Tuples are useful when you have a collection of values that should not be modified, \n",
    "such as coordinates, database records, or function return values. \n",
    "Their immutability makes them suitable for scenarios where you want to ensure the integrity \n",
    "of the data and prevent accidental modifications.\"\"\""
   ]
  },
  {
   "cell_type": "code",
   "execution_count": 57,
   "id": "dfd50039",
   "metadata": {},
   "outputs": [],
   "source": [
    "empty_tuple = ()\n",
    "single_element_tuple = (1,)\n",
    "multiple_elements_tuple = (1, 2, 3)\n",
    "tuple_from_list = tuple([4, 5, 6])\n"
   ]
  },
  {
   "cell_type": "code",
   "execution_count": 58,
   "id": "d864f009",
   "metadata": {},
   "outputs": [
    {
     "name": "stdout",
     "output_type": "stream",
     "text": [
      "a\n",
      "c\n"
     ]
    }
   ],
   "source": [
    "my_tuple = ('a', 'b', 'c', 'd')\n",
    "print(my_tuple[0])  # 'a'\n",
    "print(my_tuple[2])  # 'c'\n"
   ]
  },
  {
   "cell_type": "code",
   "execution_count": 59,
   "id": "e3244a67",
   "metadata": {},
   "outputs": [
    {
     "name": "stdout",
     "output_type": "stream",
     "text": [
      "John\n",
      "25\n",
      "New York\n"
     ]
    }
   ],
   "source": [
    "my_tuple = ('John', 25, 'New York')\n",
    "name, age, city = my_tuple\n",
    "print(name)  # 'John'\n",
    "print(age)  # 25\n",
    "print(city)  # 'New York'\n",
    "##tuple unpacking"
   ]
  },
  {
   "cell_type": "code",
   "execution_count": 60,
   "id": "0a6e8a42",
   "metadata": {},
   "outputs": [
    {
     "name": "stdout",
     "output_type": "stream",
     "text": [
      "(1, 2, 3, 'a', 'b', 'c')\n",
      "(1, 2, 3, 1, 2, 3)\n",
      "True\n",
      "True\n"
     ]
    }
   ],
   "source": [
    "#tuple operation\n",
    "tuple1 = (1, 2, 3)\n",
    "tuple2 = ('a', 'b', 'c')\n",
    "\n",
    "concatenated_tuple = tuple1 + tuple2\n",
    "print(concatenated_tuple)  # (1, 2, 3, 'a', 'b', 'c')\n",
    "\n",
    "repeated_tuple = tuple1 * 2\n",
    "print(repeated_tuple)  # (1, 2, 3, 1, 2, 3)\n",
    "\n",
    "print(2 in tuple1)  # True\n",
    "print('d' not in tuple2)  # True\n"
   ]
  },
  {
   "cell_type": "code",
   "execution_count": 61,
   "id": "c11ea85c",
   "metadata": {},
   "outputs": [
    {
     "name": "stdout",
     "output_type": "stream",
     "text": [
      "2\n",
      "4\n"
     ]
    }
   ],
   "source": [
    "my_tuple = ('a', 'b', 'c', 'a', 'd')\n",
    "\n",
    "count_a = my_tuple.count('a')\n",
    "print(count_a)  # 2\n",
    "\n",
    "index_d = my_tuple.index('d')\n",
    "print(index_d)  # 4\n",
    "##tuple methods"
   ]
  },
  {
   "cell_type": "markdown",
   "id": "1e679db1",
   "metadata": {},
   "source": [
    "# Tuple comprehension"
   ]
  },
  {
   "cell_type": "code",
   "execution_count": 63,
   "id": "29e9ace4",
   "metadata": {},
   "outputs": [],
   "source": [
    "#new_tuple = (expression for item in iterable if condition)\n"
   ]
  },
  {
   "cell_type": "code",
   "execution_count": 64,
   "id": "281288f5",
   "metadata": {},
   "outputs": [
    {
     "name": "stdout",
     "output_type": "stream",
     "text": [
      "((2, 4), (4, 16))\n"
     ]
    }
   ],
   "source": [
    "numbers = [1, 2, 3, 4, 5]\n",
    "squared_tuples = tuple((x, x**2) for x in numbers if x % 2 == 0)\n",
    "print(squared_tuples)\n"
   ]
  },
  {
   "cell_type": "code",
   "execution_count": 66,
   "id": "899bdaad",
   "metadata": {},
   "outputs": [
    {
     "name": "stdout",
     "output_type": "stream",
     "text": [
      "(2, 3, 5, 7)\n"
     ]
    }
   ],
   "source": [
    "numbers = (2, 3, 4, 5, 6, 7, 8, 9, 10)\n",
    "prime_tuples = tuple((x) for x in numbers if all(x % i != 0 for i in range(2, x)) and x > 1)\n",
    "print(prime_tuples)\n",
    "#filtering prime"
   ]
  },
  {
   "cell_type": "code",
   "execution_count": 67,
   "id": "daea8c8a",
   "metadata": {},
   "outputs": [
    {
     "name": "stdout",
     "output_type": "stream",
     "text": [
      "(('red', 'small'), ('red', 'medium'), ('red', 'large'), ('green', 'small'), ('green', 'medium'), ('green', 'large'), ('blue', 'small'), ('blue', 'medium'), ('blue', 'large'))\n"
     ]
    }
   ],
   "source": [
    "colors = ('red', 'green', 'blue')\n",
    "sizes = ('small', 'medium', 'large')\n",
    "cartesian_product = tuple((color, size) for color in colors for size in sizes)\n",
    "print(cartesian_product)\n",
    "#Cartesian Product:"
   ]
  },
  {
   "cell_type": "code",
   "execution_count": 68,
   "id": "cd7171ef",
   "metadata": {},
   "outputs": [],
   "source": [
    "##methods in tuple"
   ]
  },
  {
   "cell_type": "code",
   "execution_count": 69,
   "id": "b0a7ba92",
   "metadata": {},
   "outputs": [
    {
     "name": "stdout",
     "output_type": "stream",
     "text": [
      "3\n"
     ]
    }
   ],
   "source": [
    "my_tuple = (1, 2, 3, 2, 4, 2)\n",
    "count_2 = my_tuple.count(2)\n",
    "print(count_2)  # Output: 3\n"
   ]
  },
  {
   "cell_type": "code",
   "execution_count": 70,
   "id": "75f450d0",
   "metadata": {},
   "outputs": [
    {
     "name": "stdout",
     "output_type": "stream",
     "text": [
      "1\n"
     ]
    }
   ],
   "source": [
    "my_tuple = ('a', 'b', 'c', 'b')\n",
    "index_b = my_tuple.index('b')\n",
    "print(index_b)  # Output: 1\n"
   ]
  },
  {
   "cell_type": "code",
   "execution_count": 71,
   "id": "00c7220f",
   "metadata": {},
   "outputs": [
    {
     "name": "stdout",
     "output_type": "stream",
     "text": [
      "3\n"
     ]
    }
   ],
   "source": [
    "my_tuple = ('apple', 'banana', 'orange')\n",
    "length = len(my_tuple)\n",
    "print(length)  # Output: 3\n"
   ]
  },
  {
   "cell_type": "code",
   "execution_count": null,
   "id": "7f1fb998",
   "metadata": {},
   "outputs": [],
   "source": []
  },
  {
   "cell_type": "code",
   "execution_count": null,
   "id": "147422f4",
   "metadata": {},
   "outputs": [],
   "source": []
  },
  {
   "cell_type": "code",
   "execution_count": null,
   "id": "b7b09d8d",
   "metadata": {},
   "outputs": [],
   "source": []
  },
  {
   "cell_type": "code",
   "execution_count": null,
   "id": "d3947264",
   "metadata": {},
   "outputs": [],
   "source": []
  },
  {
   "cell_type": "code",
   "execution_count": null,
   "id": "2c260069",
   "metadata": {},
   "outputs": [],
   "source": []
  },
  {
   "cell_type": "code",
   "execution_count": null,
   "id": "b4cfeab4",
   "metadata": {},
   "outputs": [],
   "source": []
  },
  {
   "cell_type": "code",
   "execution_count": null,
   "id": "19c7f1a5",
   "metadata": {},
   "outputs": [],
   "source": []
  },
  {
   "cell_type": "code",
   "execution_count": null,
   "id": "64d1e754",
   "metadata": {},
   "outputs": [],
   "source": []
  },
  {
   "cell_type": "code",
   "execution_count": null,
   "id": "b4d90a0a",
   "metadata": {},
   "outputs": [],
   "source": []
  },
  {
   "cell_type": "code",
   "execution_count": null,
   "id": "96f37a28",
   "metadata": {},
   "outputs": [],
   "source": []
  },
  {
   "cell_type": "code",
   "execution_count": null,
   "id": "e1bfaeae",
   "metadata": {},
   "outputs": [],
   "source": []
  },
  {
   "cell_type": "code",
   "execution_count": null,
   "id": "14c38764",
   "metadata": {},
   "outputs": [],
   "source": []
  },
  {
   "cell_type": "code",
   "execution_count": null,
   "id": "9475e70a",
   "metadata": {},
   "outputs": [],
   "source": []
  },
  {
   "cell_type": "code",
   "execution_count": null,
   "id": "941c19e3",
   "metadata": {},
   "outputs": [],
   "source": []
  },
  {
   "cell_type": "code",
   "execution_count": null,
   "id": "07d73128",
   "metadata": {},
   "outputs": [],
   "source": []
  },
  {
   "cell_type": "code",
   "execution_count": null,
   "id": "0d8e433f",
   "metadata": {},
   "outputs": [],
   "source": []
  },
  {
   "cell_type": "code",
   "execution_count": null,
   "id": "ffd2245e",
   "metadata": {},
   "outputs": [],
   "source": []
  },
  {
   "cell_type": "code",
   "execution_count": null,
   "id": "fa7cae8d",
   "metadata": {},
   "outputs": [],
   "source": []
  },
  {
   "cell_type": "code",
   "execution_count": null,
   "id": "d5965964",
   "metadata": {},
   "outputs": [],
   "source": []
  },
  {
   "cell_type": "code",
   "execution_count": null,
   "id": "3c2e910b",
   "metadata": {},
   "outputs": [],
   "source": []
  },
  {
   "cell_type": "code",
   "execution_count": null,
   "id": "a0cff707",
   "metadata": {},
   "outputs": [],
   "source": []
  },
  {
   "cell_type": "code",
   "execution_count": null,
   "id": "b5702182",
   "metadata": {},
   "outputs": [],
   "source": []
  },
  {
   "cell_type": "code",
   "execution_count": null,
   "id": "203d4a3e",
   "metadata": {},
   "outputs": [],
   "source": []
  },
  {
   "cell_type": "code",
   "execution_count": null,
   "id": "0037230b",
   "metadata": {},
   "outputs": [],
   "source": []
  },
  {
   "cell_type": "code",
   "execution_count": null,
   "id": "c5278cd6",
   "metadata": {},
   "outputs": [],
   "source": []
  },
  {
   "cell_type": "code",
   "execution_count": null,
   "id": "5f8ebe5d",
   "metadata": {},
   "outputs": [],
   "source": []
  },
  {
   "cell_type": "code",
   "execution_count": null,
   "id": "9e8eb8d1",
   "metadata": {},
   "outputs": [],
   "source": []
  },
  {
   "cell_type": "code",
   "execution_count": null,
   "id": "c8695a01",
   "metadata": {},
   "outputs": [],
   "source": []
  },
  {
   "cell_type": "code",
   "execution_count": null,
   "id": "b3c7bc4f",
   "metadata": {},
   "outputs": [],
   "source": []
  },
  {
   "cell_type": "code",
   "execution_count": null,
   "id": "8b6be5e0",
   "metadata": {},
   "outputs": [],
   "source": []
  },
  {
   "cell_type": "code",
   "execution_count": null,
   "id": "b0f07868",
   "metadata": {},
   "outputs": [],
   "source": []
  },
  {
   "cell_type": "code",
   "execution_count": null,
   "id": "3fcaa0ae",
   "metadata": {},
   "outputs": [],
   "source": []
  },
  {
   "cell_type": "code",
   "execution_count": null,
   "id": "e455b1ec",
   "metadata": {},
   "outputs": [],
   "source": []
  },
  {
   "cell_type": "code",
   "execution_count": null,
   "id": "8cdd1e7c",
   "metadata": {},
   "outputs": [],
   "source": []
  }
 ],
 "metadata": {
  "kernelspec": {
   "display_name": "Python 3 (ipykernel)",
   "language": "python",
   "name": "python3"
  },
  "language_info": {
   "codemirror_mode": {
    "name": "ipython",
    "version": 3
   },
   "file_extension": ".py",
   "mimetype": "text/x-python",
   "name": "python",
   "nbconvert_exporter": "python",
   "pygments_lexer": "ipython3",
   "version": "3.8.8"
  }
 },
 "nbformat": 4,
 "nbformat_minor": 5
}
