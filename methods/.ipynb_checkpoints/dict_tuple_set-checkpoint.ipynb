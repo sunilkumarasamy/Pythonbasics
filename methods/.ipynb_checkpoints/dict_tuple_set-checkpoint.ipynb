{
 "cells": [
  {
   "cell_type": "code",
   "execution_count": 1,
   "id": "7cb2cb4f",
   "metadata": {},
   "outputs": [],
   "source": [
    "import pandas as pd\n",
    "import numpy as np"
   ]
  },
  {
   "cell_type": "code",
   "execution_count": null,
   "id": "571c3b14",
   "metadata": {},
   "outputs": [],
   "source": [
    "##dictionary\n",
    "# Creating a Dictionary\n",
    "person = {'name': 'John', 'age': 30, 'country': 'USA'}\n",
    "\n",
    "# Accessing Values\n",
    "print(person['name'])     # Output: John\n",
    "print(person.get('age'))  # Output: 30\n",
    "\n",
    "# Modifying Values\n",
    "person['age'] = 31\n",
    "person['country'] = 'Canada'\n",
    "print(person)  # Output: {'name': 'John', 'age': 31, 'country': 'Canada'}\n",
    "\n",
    "# Adding a New Key-Value Pair\n",
    "person['occupation'] = 'Engineer'\n",
    "print(person)  # Output: {'name': 'John', 'age': 31, 'country': 'Canada', 'occupation': 'Engineer'}\n",
    "\n",
    "# Removing a Key-Value Pair\n",
    "del person['age']\n",
    "# or\n",
    "person.pop('age')\n",
    "print(person)  # Output: {'name': 'John', 'country': 'Canada'}\n",
    "\n",
    "# Checking if a Key Exists\n",
    "if 'age' in person:\n",
    "    print(\"Age exists\")\n",
    "else:\n",
    "    print(\"Age does not exist\")\n",
    "\n",
    "# Iterating Over a Dictionary\n",
    "for key in person:\n",
    "    print(key)\n",
    "\n",
    "for value in person.values():\n",
    "    print(value)\n",
    "\n",
    "for key, value in person.items():\n",
    "    print(key, value)\n",
    "\n",
    "# Length of a Dictionary\n",
    "print(len(person))  # Output: 2\n"
   ]
  },
  {
   "cell_type": "code",
   "execution_count": 7,
   "id": "e157fd7e",
   "metadata": {},
   "outputs": [
    {
     "name": "stdout",
     "output_type": "stream",
     "text": [
      "dict_keys(['name', 'age'])\n",
      "dict_values(['John', 25])\n",
      "dict_items([('name', 'John'), ('age', 25)])\n",
      "dict_values(['John', 25])\n",
      "25\n"
     ]
    }
   ],
   "source": [
    "my_dict = {\"name\": \"John\", \"age\": 25}\n",
    "keys = my_dict.keys()\n",
    "print(keys)\n",
    "values = my_dict.values()\n",
    "print(values)\n",
    "items = my_dict.items()\n",
    "print(items)\n",
    "value = my_dict.get(\"name\")\n",
    "print(values)\n",
    "popped_value = my_dict.pop(\"age\")\n",
    "print(popped_value)\n"
   ]
  },
  {
   "cell_type": "code",
   "execution_count": 8,
   "id": "393bd515",
   "metadata": {},
   "outputs": [
    {
     "name": "stdout",
     "output_type": "stream",
     "text": [
      "    Name  Age      City\n",
      "0   John   25  New York\n",
      "1   Emma   28    London\n",
      "2  David   32     Paris\n"
     ]
    }
   ],
   "source": [
    "import pandas as pd\n",
    "\n",
    "# Sample dictionary with multiple lists\n",
    "data = {\n",
    "    'Name': ['John', 'Emma', 'David'],\n",
    "    'Age': [25, 28, 32],\n",
    "    'City': ['New York', 'London', 'Paris']\n",
    "}\n",
    "\n",
    "# Convert dictionary to DataFrame\n",
    "df = pd.DataFrame(data)\n",
    "\n",
    "# Print the DataFrame\n",
    "print(df)\n"
   ]
  },
  {
   "cell_type": "markdown",
   "id": "df467a35",
   "metadata": {},
   "source": [
    "# Dictionary comprehension"
   ]
  },
  {
   "cell_type": "code",
   "execution_count": 9,
   "id": "31b0d056",
   "metadata": {},
   "outputs": [
    {
     "name": "stdout",
     "output_type": "stream",
     "text": [
      "{1: 1, 2: 4, 3: 9, 4: 16, 5: 25}\n"
     ]
    }
   ],
   "source": [
    "# Create a dictionary of numbers and their squares\n",
    "numbers = [1, 2, 3, 4, 5]\n",
    "squared_dict = {num: num**2 for num in numbers}\n",
    "print(squared_dict)\n"
   ]
  },
  {
   "cell_type": "code",
   "execution_count": 10,
   "id": "e2c8444d",
   "metadata": {},
   "outputs": [
    {
     "name": "stdout",
     "output_type": "stream",
     "text": [
      "{2: 4, 4: 16}\n"
     ]
    }
   ],
   "source": [
    "# Create a dictionary of even numbers and their squares\n",
    "numbers = [1, 2, 3, 4, 5]\n",
    "even_squares = {num: num**2 for num in numbers if num%2 == 0}\n",
    "print(even_squares)\n"
   ]
  },
  {
   "cell_type": "code",
   "execution_count": 11,
   "id": "7ff2eb23",
   "metadata": {},
   "outputs": [
    {
     "name": "stdout",
     "output_type": "stream",
     "text": [
      "{'apple': 5, 'banana': 6, 'orange': 6}\n"
     ]
    }
   ],
   "source": [
    "# Create a dictionary of words and their lengths\n",
    "words = ['apple', 'banana', 'orange']\n",
    "word_lengths = {word: len(word) for word in words}\n",
    "print(word_lengths)\n"
   ]
  },
  {
   "cell_type": "code",
   "execution_count": 12,
   "id": "49de49b8",
   "metadata": {},
   "outputs": [
    {
     "name": "stdout",
     "output_type": "stream",
     "text": [
      "{1: 'a', 2: 'b', 3: 'c'}\n"
     ]
    }
   ],
   "source": [
    "# Original dictionary\n",
    "original_dict = {'a': 1, 'b': 2, 'c': 3}\n",
    "\n",
    "# Reverse the dictionary (swap keys and values)\n",
    "reversed_dict = {value: key for key, value in original_dict.items()}\n",
    "print(reversed_dict)\n"
   ]
  },
  {
   "cell_type": "code",
   "execution_count": 13,
   "id": "9a393acb",
   "metadata": {},
   "outputs": [
    {
     "name": "stdout",
     "output_type": "stream",
     "text": [
      "{'banana': 8}\n"
     ]
    }
   ],
   "source": [
    "# Original dictionary\n",
    "original_dict = {'apple': 5, 'banana': 8, 'orange': 3}\n",
    "\n",
    "# Filter the dictionary to keep only items with values greater than 5\n",
    "filtered_dict = {key: value for key, value in original_dict.items() if value > 5}\n",
    "print(filtered_dict)\n"
   ]
  },
  {
   "cell_type": "code",
   "execution_count": 14,
   "id": "0b6b3528",
   "metadata": {},
   "outputs": [
    {
     "name": "stdout",
     "output_type": "stream",
     "text": [
      "{'APPLE': 10, 'BANANA': 16, 'ORANGE': 6}\n"
     ]
    }
   ],
   "source": [
    "# Original dictionary\n",
    "original_dict = {'apple': 5, 'banana': 8, 'orange': 3}\n",
    "\n",
    "# Create a new dictionary with uppercase keys and values multiplied by 2\n",
    "new_dict = {key.upper(): value * 2 for key, value in original_dict.items()}\n",
    "print(new_dict)\n"
   ]
  },
  {
   "cell_type": "code",
   "execution_count": 15,
   "id": "f67f50d9",
   "metadata": {},
   "outputs": [
    {
     "name": "stdout",
     "output_type": "stream",
     "text": [
      "{'a': 1, 'b': 2, 'c': 3}\n"
     ]
    }
   ],
   "source": [
    "# Lists of keys and values\n",
    "keys = ['a', 'b', 'c']\n",
    "values = [1, 2, 3]\n",
    "\n",
    "# Create a dictionary by combining the lists\n",
    "combined_dict = {k:v for k,v in zip(keys,values)}\n",
    "print(combined_dict)\n"
   ]
  },
  {
   "cell_type": "code",
   "execution_count": 19,
   "id": "01783203",
   "metadata": {},
   "outputs": [
    {
     "name": "stdout",
     "output_type": "stream",
     "text": [
      "{'person1': 'John', 'person2': 'Emma', 'person3': 'David'}\n"
     ]
    }
   ],
   "source": [
    "# Original dictionary with nested dictionaries\n",
    "original_dict = {\n",
    "    'person1': {'name': 'John', 'age': 25},\n",
    "    'person2': {'name': 'Emma', 'age': 28},\n",
    "    'person3': {'name': 'David', 'age': 32}\n",
    "}\n",
    "\n",
    "# Create a new dictionary with only names of persons\n",
    "names_dict = {key: value['name'] for key, value in original_dict.items()}\n",
    "print(names_dict)\n"
   ]
  },
  {
   "cell_type": "code",
   "execution_count": 20,
   "id": "d89f7cdc",
   "metadata": {},
   "outputs": [
    {
     "name": "stdout",
     "output_type": "stream",
     "text": [
      "{'apple': 5, 'banana': 16, 'orange': 3}\n"
     ]
    }
   ],
   "source": [
    "# Original dictionary\n",
    "original_dict = {'apple': 5, 'banana': 8, 'orange': 3}\n",
    "\n",
    "# Create a new dictionary with values doubled if they are even\n",
    "new_dict = {key:value*2 if value %2==0 else value for key,value in original_dict.items()}\n",
    "print(new_dict)\n"
   ]
  },
  {
   "cell_type": "code",
   "execution_count": 25,
   "id": "a77c1001",
   "metadata": {},
   "outputs": [
    {
     "name": "stdout",
     "output_type": "stream",
     "text": [
      "          name  age      city occupation\n",
      "person1   John   25  New York        NaN\n",
      "person2   Emma   28    London   Engineer\n",
      "person3  David   32     Paris        NaN\n"
     ]
    }
   ],
   "source": [
    "import pandas as pd\n",
    "\n",
    "# Sample nested dictionary with different lengths\n",
    "data = {\n",
    "    'person1': {'name': 'John', 'age': 25, 'city': 'New York'},\n",
    "    'person2': {'name': 'Emma', 'age': 28, 'city': 'London', 'occupation': 'Engineer'},\n",
    "    'person3': {'name': 'David', 'age': 32, 'city': 'Paris'}\n",
    "}\n",
    "\n",
    "# Convert nested dictionary to DataFrame\n",
    "df = pd.DataFrame.from_dict(data, orient='index')\n",
    "#df = pd.DataFrame(data)\n",
    "# Print the DataFrame\n",
    "print(df)\n"
   ]
  },
  {
   "cell_type": "markdown",
   "id": "9d4500ba",
   "metadata": {},
   "source": [
    "# Dictionary methods"
   ]
  },
  {
   "cell_type": "code",
   "execution_count": 26,
   "id": "5071998c",
   "metadata": {},
   "outputs": [
    {
     "name": "stdout",
     "output_type": "stream",
     "text": [
      "dict_items([('a', 1), ('b', 2), ('c', 3)])\n",
      "returns the items as a tuple\n"
     ]
    }
   ],
   "source": [
    "my_dict = {'a': 1, 'b': 2, 'c': 3}\n",
    "items = my_dict.items()\n",
    "print(items)  # dict_items([('a', 1), ('b', 2), ('c', 3)])\n",
    "print(\"returns the items as a tuple\")"
   ]
  },
  {
   "cell_type": "code",
   "execution_count": 27,
   "id": "0376af7b",
   "metadata": {},
   "outputs": [
    {
     "name": "stdout",
     "output_type": "stream",
     "text": [
      "1\n",
      "0\n"
     ]
    }
   ],
   "source": [
    "my_dict = {'a': 1, 'b': 2, 'c': 3}\n",
    "value = my_dict.get('a')\n",
    "print(value)  # 1\n",
    "\n",
    "value = my_dict.get('d', 0)\n",
    "print(value)  # 0\n"
   ]
  },
  {
   "cell_type": "code",
   "execution_count": 28,
   "id": "35ee05a0",
   "metadata": {},
   "outputs": [
    {
     "name": "stdout",
     "output_type": "stream",
     "text": [
      "2\n",
      "{'a': 1, 'c': 3}\n",
      "0\n"
     ]
    }
   ],
   "source": [
    "my_dict = {'a': 1, 'b': 2, 'c': 3}\n",
    "value = my_dict.pop('b')\n",
    "print(value)  # 2\n",
    "print(my_dict)  # {'a': 1, 'c': 3}\n",
    "\n",
    "value = my_dict.pop('d', 0)\n",
    "print(value)  # 0\n"
   ]
  },
  {
   "cell_type": "code",
   "execution_count": 29,
   "id": "de229497",
   "metadata": {},
   "outputs": [
    {
     "name": "stdout",
     "output_type": "stream",
     "text": [
      "{'a': 1, 'b': 2, 'c': 3, 'd': 4}\n"
     ]
    }
   ],
   "source": [
    "my_dict = {'a': 1, 'b': 2}\n",
    "other_dict = {'c': 3, 'd': 4}\n",
    "my_dict.update(other_dict)\n",
    "print(my_dict)  # {'a': 1, 'b': 2, 'c': 3, 'd': 4}\n"
   ]
  },
  {
   "cell_type": "code",
   "execution_count": 30,
   "id": "656a2cc9",
   "metadata": {},
   "outputs": [
    {
     "name": "stdout",
     "output_type": "stream",
     "text": [
      "c 3\n",
      "{'a': 1, 'b': 2}\n"
     ]
    }
   ],
   "source": [
    "my_dict = {'a': 1, 'b': 2, 'c': 3}\n",
    "key, value = my_dict.popitem()\n",
    "print(key, value)  # 'c' 3\n",
    "print(my_dict)  # {'a': 1, 'b': 2}\n"
   ]
  },
  {
   "cell_type": "code",
   "execution_count": 31,
   "id": "4e7faecc",
   "metadata": {},
   "outputs": [
    {
     "name": "stdout",
     "output_type": "stream",
     "text": [
      "{'a': 0, 'b': 0, 'c': 0}\n"
     ]
    }
   ],
   "source": [
    "keys = ['a', 'b', 'c']\n",
    "default_value = 0\n",
    "my_dict = dict.fromkeys(keys, default_value)\n",
    "print(my_dict)  # {'a': 0, 'b': 0, 'c': 0}\n"
   ]
  },
  {
   "cell_type": "markdown",
   "id": "76aab331",
   "metadata": {},
   "source": [
    "# random"
   ]
  },
  {
   "cell_type": "code",
   "execution_count": 32,
   "id": "f164bb5d",
   "metadata": {},
   "outputs": [
    {
     "name": "stdout",
     "output_type": "stream",
     "text": [
      "{'key1': 'value1', 'key2': 'value2', 'key3': 'value3', 'key4': 'value4'}\n"
     ]
    }
   ],
   "source": [
    "my_dict = {}\n",
    "\n",
    "for i in range(1, 5):\n",
    "    key = f'key{i}'\n",
    "    value = f'value{i}'\n",
    "    my_dict.update({key: value})\n",
    "\n",
    "print(my_dict)\n"
   ]
  },
  {
   "cell_type": "code",
   "execution_count": 33,
   "id": "74326102",
   "metadata": {},
   "outputs": [
    {
     "name": "stdout",
     "output_type": "stream",
     "text": [
      "{'key2': 'value2', 'key4': 'value4', 'key6': 'value6', 'key8': 'value8'}\n"
     ]
    }
   ],
   "source": [
    "my_dict = {}\n",
    "\n",
    "for i in range(1, 10):\n",
    "    if i % 2 == 0:\n",
    "        key = f'key{i}'\n",
    "        value = f'value{i}'\n",
    "        my_dict.update({key: value})\n",
    "\n",
    "print(my_dict)\n"
   ]
  },
  {
   "cell_type": "code",
   "execution_count": 34,
   "id": "12882ba6",
   "metadata": {},
   "outputs": [
    {
     "name": "stdout",
     "output_type": "stream",
     "text": [
      "{'Lorem': 1, 'ipsum': 1, 'dolor': 1, 'sit': 1, 'amet': 1, 'consectetur': 3, 'adipiscing': 1, 'elit.': 1, 'Integer': 1, 'velit': 1, 'id': 1, 'aliquet.': 1}\n"
     ]
    }
   ],
   "source": [
    "text = \"Lorem ipsum dolor sit amet consectetur adipiscing elit. Integer consectetur consectetur velit id aliquet.\"\n",
    "words = text.split()\n",
    "\n",
    "word_count = {}\n",
    "for word in words:\n",
    "    word_count[word] = word_count.get(word, 0) + 1\n",
    "\n",
    "print(word_count)\n"
   ]
  },
  {
   "cell_type": "code",
   "execution_count": 35,
   "id": "c5039629",
   "metadata": {},
   "outputs": [
    {
     "name": "stdout",
     "output_type": "stream",
     "text": [
      "{'Fruit': ['Apple', 'Orange', 'Banana'], 'Vegetable': ['Carrot', 'Broccoli']}\n"
     ]
    }
   ],
   "source": [
    "products = [\n",
    "    {'name': 'Apple', 'category': 'Fruit'},\n",
    "    {'name': 'Carrot', 'category': 'Vegetable'},\n",
    "    {'name': 'Orange', 'category': 'Fruit'},\n",
    "    {'name': 'Broccoli', 'category': 'Vegetable'},\n",
    "    {'name': 'Banana', 'category': 'Fruit'}\n",
    "]\n",
    "\n",
    "category_dict = {}\n",
    "for product in products:\n",
    "    category = product['category']\n",
    "    if category in category_dict:\n",
    "        category_dict[category].append(product['name'])\n",
    "    else:\n",
    "        category_dict[category] = [product['name']]\n",
    "\n",
    "print(category_dict)\n"
   ]
  },
  {
   "cell_type": "code",
   "execution_count": null,
   "id": "144223e1",
   "metadata": {},
   "outputs": [],
   "source": []
  },
  {
   "cell_type": "code",
   "execution_count": 50,
   "id": "a35157f0",
   "metadata": {},
   "outputs": [],
   "source": [
    "products = [\n",
    "    {'name': 'Apple', 'category': 'Fruit'},\n",
    "    {'name': 'Carrot', 'category': 'Vegetable'},\n",
    "    {'name': 'Orange', 'category': 'Fruit'},\n",
    "    {'name': 'Broccoli', 'category': 'Vegetable'},\n",
    "    {'name': 'Banana', 'category': 'Fruit'}\n",
    "]\n"
   ]
  },
  {
   "cell_type": "code",
   "execution_count": 55,
   "id": "2fc00b4a",
   "metadata": {},
   "outputs": [
    {
     "name": "stdout",
     "output_type": "stream",
     "text": [
      "Fruit\n",
      "{'Fruit': ['Apple']}\n",
      "Vegetable\n",
      "{'Fruit': ['Apple'], 'Vegetable': ['Carrot']}\n",
      "Fruit\n",
      "{'Fruit': ['Apple', 'Orange'], 'Vegetable': ['Carrot']}\n",
      "Vegetable\n",
      "{'Fruit': ['Apple', 'Orange'], 'Vegetable': ['Carrot', 'Broccoli']}\n",
      "Fruit\n",
      "{'Fruit': ['Apple', 'Orange', 'Banana'], 'Vegetable': ['Carrot', 'Broccoli']}\n"
     ]
    }
   ],
   "source": [
    "category_dict = {}\n",
    "for product in products:\n",
    "    category = product['category']\n",
    "    print(category)\n",
    "    if category in category_dict:\n",
    "        category_dict[category].append(product['name'])\n",
    "    else:\n",
    "        category_dict[category] = [product['name']]\n",
    "    print(category_dict)\n",
    "    "
   ]
  },
  {
   "cell_type": "code",
   "execution_count": null,
   "id": "12e77801",
   "metadata": {},
   "outputs": [],
   "source": []
  },
  {
   "cell_type": "code",
   "execution_count": null,
   "id": "3ecf6012",
   "metadata": {},
   "outputs": [],
   "source": []
  },
  {
   "cell_type": "code",
   "execution_count": null,
   "id": "68a2308b",
   "metadata": {},
   "outputs": [],
   "source": []
  },
  {
   "cell_type": "code",
   "execution_count": null,
   "id": "119b9ffc",
   "metadata": {},
   "outputs": [],
   "source": []
  },
  {
   "cell_type": "code",
   "execution_count": null,
   "id": "e8724fe9",
   "metadata": {},
   "outputs": [],
   "source": []
  },
  {
   "cell_type": "code",
   "execution_count": null,
   "id": "f60be013",
   "metadata": {},
   "outputs": [],
   "source": []
  },
  {
   "cell_type": "code",
   "execution_count": null,
   "id": "779bfa43",
   "metadata": {},
   "outputs": [],
   "source": []
  },
  {
   "cell_type": "code",
   "execution_count": null,
   "id": "0ab1c418",
   "metadata": {},
   "outputs": [],
   "source": []
  },
  {
   "cell_type": "code",
   "execution_count": null,
   "id": "2d2419f0",
   "metadata": {},
   "outputs": [],
   "source": []
  },
  {
   "cell_type": "code",
   "execution_count": null,
   "id": "74f5fc9f",
   "metadata": {},
   "outputs": [],
   "source": []
  },
  {
   "cell_type": "code",
   "execution_count": null,
   "id": "0d3b4c87",
   "metadata": {},
   "outputs": [],
   "source": []
  },
  {
   "cell_type": "code",
   "execution_count": null,
   "id": "b71658a5",
   "metadata": {},
   "outputs": [],
   "source": []
  },
  {
   "cell_type": "code",
   "execution_count": null,
   "id": "a0a5bbd6",
   "metadata": {},
   "outputs": [],
   "source": []
  },
  {
   "cell_type": "code",
   "execution_count": null,
   "id": "ffbc1fd6",
   "metadata": {},
   "outputs": [],
   "source": []
  },
  {
   "cell_type": "code",
   "execution_count": null,
   "id": "e04f1917",
   "metadata": {},
   "outputs": [],
   "source": []
  },
  {
   "cell_type": "code",
   "execution_count": null,
   "id": "770a600f",
   "metadata": {},
   "outputs": [],
   "source": []
  },
  {
   "cell_type": "code",
   "execution_count": null,
   "id": "d873dd1f",
   "metadata": {},
   "outputs": [],
   "source": []
  },
  {
   "cell_type": "code",
   "execution_count": null,
   "id": "24a6277d",
   "metadata": {},
   "outputs": [],
   "source": []
  },
  {
   "cell_type": "code",
   "execution_count": null,
   "id": "ea8e8aed",
   "metadata": {},
   "outputs": [],
   "source": []
  },
  {
   "cell_type": "code",
   "execution_count": null,
   "id": "38cecf78",
   "metadata": {},
   "outputs": [],
   "source": []
  },
  {
   "cell_type": "code",
   "execution_count": null,
   "id": "b754d997",
   "metadata": {},
   "outputs": [],
   "source": []
  },
  {
   "cell_type": "code",
   "execution_count": null,
   "id": "5de1bb8e",
   "metadata": {},
   "outputs": [],
   "source": []
  },
  {
   "cell_type": "code",
   "execution_count": null,
   "id": "6c41407b",
   "metadata": {},
   "outputs": [],
   "source": []
  },
  {
   "cell_type": "code",
   "execution_count": null,
   "id": "f30c5dd2",
   "metadata": {},
   "outputs": [],
   "source": []
  },
  {
   "cell_type": "code",
   "execution_count": null,
   "id": "ec7a3ab8",
   "metadata": {},
   "outputs": [],
   "source": []
  },
  {
   "cell_type": "code",
   "execution_count": null,
   "id": "f5231a44",
   "metadata": {},
   "outputs": [],
   "source": []
  },
  {
   "cell_type": "code",
   "execution_count": null,
   "id": "9e8eb8d1",
   "metadata": {},
   "outputs": [],
   "source": []
  },
  {
   "cell_type": "code",
   "execution_count": null,
   "id": "c8695a01",
   "metadata": {},
   "outputs": [],
   "source": []
  },
  {
   "cell_type": "code",
   "execution_count": null,
   "id": "b3c7bc4f",
   "metadata": {},
   "outputs": [],
   "source": []
  },
  {
   "cell_type": "code",
   "execution_count": null,
   "id": "8b6be5e0",
   "metadata": {},
   "outputs": [],
   "source": []
  },
  {
   "cell_type": "code",
   "execution_count": null,
   "id": "b0f07868",
   "metadata": {},
   "outputs": [],
   "source": []
  },
  {
   "cell_type": "code",
   "execution_count": null,
   "id": "3fcaa0ae",
   "metadata": {},
   "outputs": [],
   "source": []
  },
  {
   "cell_type": "code",
   "execution_count": null,
   "id": "e455b1ec",
   "metadata": {},
   "outputs": [],
   "source": []
  },
  {
   "cell_type": "code",
   "execution_count": null,
   "id": "8cdd1e7c",
   "metadata": {},
   "outputs": [],
   "source": []
  }
 ],
 "metadata": {
  "kernelspec": {
   "display_name": "Python 3 (ipykernel)",
   "language": "python",
   "name": "python3"
  },
  "language_info": {
   "codemirror_mode": {
    "name": "ipython",
    "version": 3
   },
   "file_extension": ".py",
   "mimetype": "text/x-python",
   "name": "python",
   "nbconvert_exporter": "python",
   "pygments_lexer": "ipython3",
   "version": "3.8.8"
  }
 },
 "nbformat": 4,
 "nbformat_minor": 5
}
