{
 "cells": [
  {
   "cell_type": "code",
   "execution_count": 6,
   "id": "7cb2cb4f",
   "metadata": {},
   "outputs": [],
   "source": [
    "import pandas as pd\n",
    "import numpy as np"
   ]
  },
  {
   "cell_type": "markdown",
   "id": "a98ae773",
   "metadata": {},
   "source": [
    "# Task 1: Find the Second Largest Number"
   ]
  },
  {
   "cell_type": "code",
   "execution_count": 7,
   "id": "ed33ed08",
   "metadata": {},
   "outputs": [
    {
     "name": "stdout",
     "output_type": "stream",
     "text": [
      "(8, 10)\n"
     ]
    }
   ],
   "source": [
    "# Example usage:\n",
    "nums = [5, 8, 2, 10, 3]\n",
    "def num(n):\n",
    "    max_number  = max(n)\n",
    "    n.remove(max_number)\n",
    "    second_max = max(n)\n",
    "    return second_max,max_number\n",
    "print(num(nums))"
   ]
  },
  {
   "cell_type": "markdown",
   "id": "ea0affea",
   "metadata": {},
   "source": [
    "# Task 2: Reverse a String"
   ]
  },
  {
   "cell_type": "code",
   "execution_count": 29,
   "id": "9e81e42a",
   "metadata": {},
   "outputs": [
    {
     "name": "stdout",
     "output_type": "stream",
     "text": [
      "!dlroW ,olleH\n"
     ]
    }
   ],
   "source": [
    "def rev_Str(s):\n",
    "    return s[::-1]\n",
    "word = \"Hello, World!\"\n",
    "print(rev_Str(word))"
   ]
  },
  {
   "cell_type": "markdown",
   "id": "b21f6e4e",
   "metadata": {},
   "source": [
    "# Task 3: Check for Anagrams"
   ]
  },
  {
   "cell_type": "code",
   "execution_count": 11,
   "id": "f71b8c62",
   "metadata": {},
   "outputs": [
    {
     "name": "stdout",
     "output_type": "stream",
     "text": [
      "True\n"
     ]
    }
   ],
   "source": [
    "def are_anagrams(str1, str2):\n",
    "    return sorted(str1.lower()) == sorted(str2.lower())\n",
    "word1 = \"listen\"\n",
    "word2 = \"silent\"\n",
    "print(are_anagrams(word1,word2))"
   ]
  },
  {
   "cell_type": "markdown",
   "id": "baff1c8a",
   "metadata": {},
   "source": [
    "# Task 4: Find the Intersection of Two Lists"
   ]
  },
  {
   "cell_type": "code",
   "execution_count": 12,
   "id": "b82f0e18",
   "metadata": {},
   "outputs": [
    {
     "name": "stdout",
     "output_type": "stream",
     "text": [
      "({4, 5}, [4, 5])\n"
     ]
    }
   ],
   "source": [
    "def find_intersection(list1, list2):\n",
    "    return set(lst1)&set(lst2) , list(set(lst1)&set(lst2))\n",
    "# Example usage:\n",
    "lst1 = [1, 2, 3, 4, 5]\n",
    "lst2 = [4, 5, 6, 7, 8]\n",
    "print(find_intersection(lst1,lst2))"
   ]
  },
  {
   "cell_type": "markdown",
   "id": "40dcb00a",
   "metadata": {},
   "source": [
    "# Task 5: Check for Prime Number"
   ]
  },
  {
   "cell_type": "code",
   "execution_count": 13,
   "id": "72bef1f1",
   "metadata": {},
   "outputs": [
    {
     "name": "stdout",
     "output_type": "stream",
     "text": [
      "False\n"
     ]
    }
   ],
   "source": [
    "def is_prime(n):\n",
    "    if n <=1:\n",
    "        return False\n",
    "    for i in range(2, int(n **0.5)+1):\n",
    "        if n % i == 0:\n",
    "            return False \n",
    "    return True\n",
    "# Example usage:\n",
    "num = 36\n",
    "print(is_prime(num))  "
   ]
  },
  {
   "cell_type": "markdown",
   "id": "9367d632",
   "metadata": {},
   "source": [
    "# Task 6: Factorial"
   ]
  },
  {
   "cell_type": "code",
   "execution_count": 14,
   "id": "60bf2d6e",
   "metadata": {},
   "outputs": [
    {
     "name": "stdout",
     "output_type": "stream",
     "text": [
      "0 1\n",
      "1 1\n",
      "2 2\n",
      "3 6\n",
      "4 24\n",
      "5 120\n"
     ]
    }
   ],
   "source": [
    "def factorial(n):\n",
    "    if n == 0:\n",
    "        return 1\n",
    "    return n* factorial(n-1)\n",
    "for i in range(0,5+1):\n",
    "    print(i,factorial(i))"
   ]
  },
  {
   "cell_type": "markdown",
   "id": "3b6d5563",
   "metadata": {},
   "source": [
    "# Task 7: Find the Sum of Digits"
   ]
  },
  {
   "cell_type": "code",
   "execution_count": 15,
   "id": "b7820931",
   "metadata": {},
   "outputs": [
    {
     "name": "stdout",
     "output_type": "stream",
     "text": [
      "   Number  Sum of Digits\n",
      "0     123              6\n",
      "1     456             15\n",
      "2     789             24\n"
     ]
    }
   ],
   "source": [
    "df = pd.DataFrame({'Number': [123, 456, 789]})\n",
    "df['Sum of Digits'] = df['Number'].apply(lambda x: sum(int(i) for i in str(x)))\n",
    "print(df)"
   ]
  },
  {
   "cell_type": "code",
   "execution_count": 16,
   "id": "1057562d",
   "metadata": {},
   "outputs": [
    {
     "name": "stdout",
     "output_type": "stream",
     "text": [
      "6\n"
     ]
    }
   ],
   "source": [
    "def sum_of_digits(number):\n",
    "    return sum(int(digit) for digit in str(number))\n",
    "print(sum_of_digits(123))"
   ]
  },
  {
   "cell_type": "markdown",
   "id": "e241d92d",
   "metadata": {},
   "source": [
    "# Task 8: Check for Palindrome"
   ]
  },
  {
   "cell_type": "code",
   "execution_count": 17,
   "id": "e38d346d",
   "metadata": {},
   "outputs": [
    {
     "name": "stdout",
     "output_type": "stream",
     "text": [
      "True\n"
     ]
    }
   ],
   "source": [
    "def is_palindrome(string):\n",
    "    return string == string[::-1]\n",
    "\n",
    "# Example usage:\n",
    "s = \"madam\"\n",
    "print(is_palindrome(s))  # Output: True\n"
   ]
  },
  {
   "cell_type": "markdown",
   "id": "3ee9f7e5",
   "metadata": {},
   "source": [
    "# Task 9: Calculate Fibonacci Sequence"
   ]
  },
  {
   "cell_type": "code",
   "execution_count": 18,
   "id": "d7e11e14",
   "metadata": {},
   "outputs": [
    {
     "name": "stdout",
     "output_type": "stream",
     "text": [
      "6765\n"
     ]
    }
   ],
   "source": [
    "def fib (num):\n",
    "    if num ==0 or num ==1:\n",
    "        return num\n",
    "    return fib(num-1) +fib(num-2)\n",
    "print(fib(20))"
   ]
  },
  {
   "cell_type": "markdown",
   "id": "8ae6dfc3",
   "metadata": {},
   "source": [
    "# Task 10: Sort a List of Dictionaries by a Key"
   ]
  },
  {
   "cell_type": "code",
   "execution_count": 19,
   "id": "d0a626b8",
   "metadata": {},
   "outputs": [
    {
     "name": "stdout",
     "output_type": "stream",
     "text": [
      "[{'name': 'Jane Doe', 'age': 25}, {'name': 'John Doe', 'age': 30}, {'name': 'Peter Smith', 'age': 40}]\n"
     ]
    }
   ],
   "source": [
    "list_of_dictionaries = [{'name': 'John Doe', 'age': 30}, {'name': 'Jane Doe', 'age': 25}, {'name': 'Peter Smith', 'age': 40}]\n",
    "\n",
    "#Use the sorted() function to sort the list of dictionaries by the 'name' key\n",
    "sorted_list_of_dictionaries = sorted(list_of_dictionaries, key=lambda x: x['name'])\n",
    "\n",
    "#Print the sorted list of dictionaries\n",
    "print(sorted_list_of_dictionaries)"
   ]
  },
  {
   "cell_type": "code",
   "execution_count": null,
   "id": "bf9f01ce",
   "metadata": {},
   "outputs": [],
   "source": []
  },
  {
   "cell_type": "code",
   "execution_count": null,
   "id": "022abbda",
   "metadata": {},
   "outputs": [],
   "source": []
  },
  {
   "cell_type": "code",
   "execution_count": 20,
   "id": "ef58dc4f",
   "metadata": {},
   "outputs": [],
   "source": [
    "##extras"
   ]
  },
  {
   "cell_type": "code",
   "execution_count": null,
   "id": "606d0ac6",
   "metadata": {},
   "outputs": [],
   "source": []
  },
  {
   "cell_type": "code",
   "execution_count": 21,
   "id": "4dced4a2",
   "metadata": {},
   "outputs": [],
   "source": [
    "##find max number in an array\n",
    "def find_max_element(arr):\n",
    "    if len(arr) == 0:\n",
    "        return None\n",
    "    max_element = arr[0]\n",
    "    for element in arr:\n",
    "        if element > max_element:\n",
    "            max_element = element\n",
    "    return max_element"
   ]
  },
  {
   "cell_type": "code",
   "execution_count": 22,
   "id": "51bcb325",
   "metadata": {},
   "outputs": [],
   "source": [
    "lst2 = [4, 5, 6, 7, 8,3,12,32,2,4,7]"
   ]
  },
  {
   "cell_type": "code",
   "execution_count": 23,
   "id": "be59a377",
   "metadata": {},
   "outputs": [
    {
     "data": {
      "text/plain": [
       "32"
      ]
     },
     "execution_count": 23,
     "metadata": {},
     "output_type": "execute_result"
    }
   ],
   "source": [
    "find_max_element(lst2)"
   ]
  },
  {
   "cell_type": "code",
   "execution_count": 24,
   "id": "8cd1b949",
   "metadata": {},
   "outputs": [],
   "source": [
    "##reversed string\n",
    "def reverse_string(string):\n",
    "    reversed_string = \"\"\n",
    "    for char in string:\n",
    "        reversed_string = char + reversed_string\n",
    "    return reversed_string\n",
    "\n"
   ]
  },
  {
   "cell_type": "code",
   "execution_count": 25,
   "id": "7a3a1ddf",
   "metadata": {},
   "outputs": [
    {
     "name": "stdout",
     "output_type": "stream",
     "text": [
      "!dlroW ,olleH\n"
     ]
    }
   ],
   "source": [
    "string = \"Hello, World!\"\n",
    "reversed_string = reverse_string(string)\n",
    "print(reversed_string)\n"
   ]
  },
  {
   "cell_type": "code",
   "execution_count": 26,
   "id": "fa34f0aa",
   "metadata": {},
   "outputs": [],
   "source": [
    "##remove duplicates\n",
    "def remove_duplicates(arr):\n",
    "    return list(set(arr))\n"
   ]
  },
  {
   "cell_type": "code",
   "execution_count": 28,
   "id": "9112ea90",
   "metadata": {},
   "outputs": [
    {
     "data": {
      "text/plain": [
       "[32, 2, 3, 4, 6, 7, 12]"
      ]
     },
     "execution_count": 28,
     "metadata": {},
     "output_type": "execute_result"
    }
   ],
   "source": [
    "lst3 = [4, 4, 6, 7, 7,3,12,32,2,4,7]\n",
    "remove_duplicates(lst3)"
   ]
  },
  {
   "cell_type": "code",
   "execution_count": 31,
   "id": "558f4ff0",
   "metadata": {},
   "outputs": [],
   "source": [
    "##palindrome of number "
   ]
  },
  {
   "cell_type": "code",
   "execution_count": null,
   "id": "517daa8f",
   "metadata": {},
   "outputs": [],
   "source": []
  },
  {
   "cell_type": "code",
   "execution_count": 32,
   "id": "2465f6c8",
   "metadata": {},
   "outputs": [],
   "source": [
    "def is_palindrome_number(n):\n",
    "    if n < 0:\n",
    "        return False\n",
    "    reverse = int(str(n)[::-1])\n",
    "    return n == reverse\n"
   ]
  },
  {
   "cell_type": "code",
   "execution_count": 34,
   "id": "074a8cbe",
   "metadata": {},
   "outputs": [
    {
     "data": {
      "text/plain": [
       "False"
      ]
     },
     "execution_count": 34,
     "metadata": {},
     "output_type": "execute_result"
    }
   ],
   "source": [
    "is_palindrome_number(569995)"
   ]
  },
  {
   "cell_type": "code",
   "execution_count": 35,
   "id": "7b2e6ea1",
   "metadata": {},
   "outputs": [],
   "source": [
    "#determineif two strings are anagrams\n",
    "\n",
    "def are_anagrams(str1, str2):\n",
    "    str1 = str1.replace(\" \", \"\").lower()\n",
    "    str2 = str2.replace(\" \", \"\").lower()\n",
    "    return sorted(str1) == sorted(str2)\n"
   ]
  },
  {
   "cell_type": "code",
   "execution_count": 36,
   "id": "92861aa9",
   "metadata": {},
   "outputs": [
    {
     "name": "stdout",
     "output_type": "stream",
     "text": [
      "True\n"
     ]
    }
   ],
   "source": [
    "string1 = \"listen\"\n",
    "string2 = \"silent\"\n",
    "result = are_anagrams(string1, string2)\n",
    "print(result)\n"
   ]
  },
  {
   "cell_type": "code",
   "execution_count": 37,
   "id": "cf619416",
   "metadata": {},
   "outputs": [],
   "source": [
    "#Sort an array of integers in ascending order.\n",
    "def insertion_sort(arr):\n",
    "    for i in range(1, len(arr)):\n",
    "        key = arr[i]\n",
    "        j = i - 1\n",
    "        while j >= 0 and arr[j] > key:\n",
    "            arr[j + 1] = arr[j]\n",
    "            j -= 1\n",
    "        arr[j + 1] = key\n",
    "    return arr\n"
   ]
  },
  {
   "cell_type": "code",
   "execution_count": 38,
   "id": "c6f277ef",
   "metadata": {},
   "outputs": [
    {
     "name": "stdout",
     "output_type": "stream",
     "text": [
      "[1, 2, 3, 5, 7, 9]\n"
     ]
    }
   ],
   "source": [
    "array = [7, 2, 5, 1, 9, 3]\n",
    "sorted_array = insertion_sort(array)\n",
    "print(sorted_array)\n"
   ]
  },
  {
   "cell_type": "code",
   "execution_count": 39,
   "id": "173ac786",
   "metadata": {},
   "outputs": [],
   "source": [
    "def binary_search(arr, target):\n",
    "    low = 0\n",
    "    high = len(arr) - 1\n",
    "    while low <= high:\n",
    "        mid = (low + high) // 2\n",
    "        if arr[mid] == target:\n",
    "            return mid\n",
    "        elif arr[mid] < target:\n",
    "            low = mid + 1\n",
    "        else:\n",
    "            high = mid - 1\n",
    "    return -1\n"
   ]
  },
  {
   "cell_type": "code",
   "execution_count": 42,
   "id": "f0673006",
   "metadata": {},
   "outputs": [
    {
     "name": "stdout",
     "output_type": "stream",
     "text": [
      "5\n"
     ]
    }
   ],
   "source": [
    "arr = [1, 3, 5,9 ,4,7, 9, 11, 13]\n",
    "result = binary_search(arr, 7)\n",
    "print(result)\n"
   ]
  },
  {
   "cell_type": "code",
   "execution_count": 46,
   "id": "6a60f4f6",
   "metadata": {},
   "outputs": [
    {
     "data": {
      "text/plain": [
       "8"
      ]
     },
     "execution_count": 46,
     "metadata": {},
     "output_type": "execute_result"
    }
   ],
   "source": [
    "len(arr)-1"
   ]
  },
  {
   "cell_type": "code",
   "execution_count": 47,
   "id": "6564895d",
   "metadata": {},
   "outputs": [],
   "source": [
    "import pandas as pd"
   ]
  },
  {
   "cell_type": "code",
   "execution_count": null,
   "id": "571c3b14",
   "metadata": {},
   "outputs": [],
   "source": []
  },
  {
   "cell_type": "code",
   "execution_count": null,
   "id": "9e8eb8d1",
   "metadata": {},
   "outputs": [],
   "source": []
  },
  {
   "cell_type": "code",
   "execution_count": null,
   "id": "c8695a01",
   "metadata": {},
   "outputs": [],
   "source": []
  },
  {
   "cell_type": "code",
   "execution_count": null,
   "id": "b3c7bc4f",
   "metadata": {},
   "outputs": [],
   "source": []
  },
  {
   "cell_type": "code",
   "execution_count": null,
   "id": "8b6be5e0",
   "metadata": {},
   "outputs": [],
   "source": []
  },
  {
   "cell_type": "code",
   "execution_count": null,
   "id": "b0f07868",
   "metadata": {},
   "outputs": [],
   "source": []
  },
  {
   "cell_type": "code",
   "execution_count": null,
   "id": "3fcaa0ae",
   "metadata": {},
   "outputs": [],
   "source": []
  },
  {
   "cell_type": "code",
   "execution_count": null,
   "id": "e455b1ec",
   "metadata": {},
   "outputs": [],
   "source": []
  },
  {
   "cell_type": "code",
   "execution_count": null,
   "id": "8cdd1e7c",
   "metadata": {},
   "outputs": [],
   "source": []
  }
 ],
 "metadata": {
  "kernelspec": {
   "display_name": "Python 3 (ipykernel)",
   "language": "python",
   "name": "python3"
  },
  "language_info": {
   "codemirror_mode": {
    "name": "ipython",
    "version": 3
   },
   "file_extension": ".py",
   "mimetype": "text/x-python",
   "name": "python",
   "nbconvert_exporter": "python",
   "pygments_lexer": "ipython3",
   "version": "3.8.0"
  }
 },
 "nbformat": 4,
 "nbformat_minor": 5
}
